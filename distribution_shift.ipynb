{
 "cells": [
  {
   "cell_type": "code",
   "execution_count": 1,
   "id": "167303af",
   "metadata": {},
   "outputs": [],
   "source": [
    "import numpy as np\n",
    "import pandas as pd\n",
    "from tqdm import tqdm\n",
    "from sklearn.decomposition import PCA\n",
    "import matplotlib.pyplot as plt\n",
    "import seaborn as sns\n",
    "from imblearn.over_sampling import SMOTE\n",
    "import scipy.stats as stats\n",
    "from sklearn.preprocessing import RobustScaler, LabelBinarizer, label_binarize\n",
    "from sklearn.model_selection import GridSearchCV, train_test_split, StratifiedKFold\n",
    "from sklearn.linear_model import LogisticRegression\n",
    "from xgboost import XGBClassifier\n",
    "from sklearn.ensemble import RandomForestClassifier\n",
    "from sklearn.metrics import f1_score, accuracy_score, log_loss, classification_report, confusion_matrix, ConfusionMatrixDisplay,make_scorer\n",
    "from sklearn.feature_selection import SelectKBest, f_classif\n",
    "from scipy.stats import ks_2samp, entropy\n",
    "from imblearn.pipeline import Pipeline\n",
    "from sklearn.base import BaseEstimator, TransformerMixin"
   ]
  },
  {
   "cell_type": "code",
   "execution_count": 2,
   "id": "2d92096a",
   "metadata": {},
   "outputs": [],
   "source": [
    "X_train = pd.read_csv(\"data/X_train.csv\")\n",
    "y_train = pd.read_csv(\"data/y_train.csv\")\n",
    "X_test_1 = pd.read_csv(\"data/X_test_1.csv\")\n",
    "X_test_2 = pd.read_csv(\"data/X_test_2.csv\")\n",
    "y_test_2_reduced = pd.read_csv(\"data/y_test_2_reduced.csv\")"
   ]
  },
  {
   "cell_type": "code",
   "execution_count": 3,
   "id": "46207d9b",
   "metadata": {},
   "outputs": [],
   "source": [
    "def winsorize_iqr(df, lower=1.5, upper=1.5):\n",
    "    \"\"\"\n",
    "    Apply IQR-based winsorization to cap outliers in each feature column.\n",
    "\n",
    "    This method clips each feature's values to lie within the range:\n",
    "        [Q1 - lower * IQR, Q3 + upper * IQR],\n",
    "    where Q1 and Q3 are the 25th and 75th percentiles, respectively, and\n",
    "    IQR = Q3 - Q1.\n",
    "\n",
    "    Parameters:\n",
    "    -----------\n",
    "    df : pd.DataFrame\n",
    "        Input dataframe with numeric feature columns.\n",
    "    lower : float, default=1.5\n",
    "        Lower bound multiplier for the IQR range (used to define minimum threshold).\n",
    "    upper : float, default=1.5\n",
    "        Upper bound multiplier for the IQR range (used to define maximum threshold).\n",
    "\n",
    "    Returns:\n",
    "    --------\n",
    "    pd.DataFrame\n",
    "        A new DataFrame with outlier values capped using IQR method.\n",
    "    \"\"\"\n",
    "    if not isinstance(df, pd.DataFrame):\n",
    "        raise TypeError(\"Input must be a pandas DataFrame\")\n",
    "\n",
    "    df_capped = df.copy()\n",
    "    for col in df.select_dtypes(include=[np.number]).columns:\n",
    "        Q1 = df[col].quantile(0.25)\n",
    "        Q3 = df[col].quantile(0.75)\n",
    "        IQR = Q3 - Q1\n",
    "\n",
    "        lower_bound = Q1 - lower * IQR\n",
    "        upper_bound = Q3 + upper * IQR\n",
    "\n",
    "        df_capped[col] = df[col].clip(lower=lower_bound, upper=upper_bound)\n",
    "\n",
    "    return df_capped\n",
    "# === 2. 定义 iOR 打分函数 ===\n",
    "def compute_ior(X, y):\n",
    "    \"\"\"\n",
    "    Improved Odds Ratio (iOR) Feature Scoring Function.\n",
    "    For each feature, computes the class-wise standardized mean difference (SMD),\n",
    "    which is inspired by the Fisher Score and Cohen's d effect size.\n",
    "\n",
    "    Parameters:\n",
    "    -----------\n",
    "    X : pd.DataFrame of shape (n_samples, n_features)\n",
    "        Feature matrix (after preprocessing, e.g., winsorization, scaling)\n",
    "    y : pd.Series of shape (n_samples,)\n",
    "        Target labels (multi-class)\n",
    "\n",
    "    Returns:\n",
    "    --------\n",
    "    np.ndarray of shape (n_features,)\n",
    "        iOR score for each feature\n",
    "    \"\"\"\n",
    "    y_arr = y.values.ravel()\n",
    "    classes = np.unique(y_arr)\n",
    "    scores = []\n",
    "\n",
    "    for j in range(X.shape[1]):\n",
    "        feat = X.iloc[:, j]\n",
    "        score = 0.0\n",
    "        for c in classes:\n",
    "            pos = feat[y_arr == c]\n",
    "            neg = feat[y_arr != c]\n",
    "\n",
    "            μ1 = pos.mean() if len(pos) > 0 else 0\n",
    "            μ0 = neg.mean() if len(neg) > 0 else 0\n",
    "            σ1 = pos.std()\n",
    "            σ0 = neg.std()\n",
    "\n",
    "            # 防止标准差为0\n",
    "            if σ1 == 0: σ1 = 1\n",
    "            if σ0 == 0: σ0 = 1\n",
    "\n",
    "            score += abs((μ1 - μ0) / (σ1 + σ0))\n",
    "        scores.append(score)\n",
    "\n",
    "    return np.array(scores)"
   ]
  },
  {
   "cell_type": "code",
   "execution_count": null,
   "id": "187998f1",
   "metadata": {},
   "outputs": [],
   "source": [
    "# Covariate shift"
   ]
  },
  {
   "cell_type": "code",
   "execution_count": 6,
   "id": "db33f2e7",
   "metadata": {},
   "outputs": [
    {
     "name": "stdout",
     "output_type": "stream",
     "text": [
      "X_train 和 X_test_1 的 300 个特征中，其中 113 个特征（约 37.67%）发生了协变量偏移。\n"
     ]
    },
    {
     "data": {
      "text/html": [
       "<div>\n",
       "<style scoped>\n",
       "    .dataframe tbody tr th:only-of-type {\n",
       "        vertical-align: middle;\n",
       "    }\n",
       "\n",
       "    .dataframe tbody tr th {\n",
       "        vertical-align: top;\n",
       "    }\n",
       "\n",
       "    .dataframe thead th {\n",
       "        text-align: right;\n",
       "    }\n",
       "</style>\n",
       "<table border=\"1\" class=\"dataframe\">\n",
       "  <thead>\n",
       "    <tr style=\"text-align: right;\">\n",
       "      <th></th>\n",
       "      <th>Feature</th>\n",
       "      <th>KS_statistic</th>\n",
       "      <th>p_value</th>\n",
       "      <th>KL_divergence</th>\n",
       "      <th>Shift_flag</th>\n",
       "    </tr>\n",
       "  </thead>\n",
       "  <tbody>\n",
       "    <tr>\n",
       "      <th>48</th>\n",
       "      <td>48</td>\n",
       "      <td>0.0691</td>\n",
       "      <td>0.000325</td>\n",
       "      <td>0.108640</td>\n",
       "      <td>True</td>\n",
       "    </tr>\n",
       "    <tr>\n",
       "      <th>125</th>\n",
       "      <td>125</td>\n",
       "      <td>0.0688</td>\n",
       "      <td>0.000350</td>\n",
       "      <td>0.056756</td>\n",
       "      <td>False</td>\n",
       "    </tr>\n",
       "    <tr>\n",
       "      <th>253</th>\n",
       "      <td>253</td>\n",
       "      <td>0.0679</td>\n",
       "      <td>0.000438</td>\n",
       "      <td>0.068163</td>\n",
       "      <td>False</td>\n",
       "    </tr>\n",
       "    <tr>\n",
       "      <th>270</th>\n",
       "      <td>270</td>\n",
       "      <td>0.0664</td>\n",
       "      <td>0.000633</td>\n",
       "      <td>0.071281</td>\n",
       "      <td>True</td>\n",
       "    </tr>\n",
       "    <tr>\n",
       "      <th>90</th>\n",
       "      <td>90</td>\n",
       "      <td>0.0656</td>\n",
       "      <td>0.000768</td>\n",
       "      <td>0.056961</td>\n",
       "      <td>False</td>\n",
       "    </tr>\n",
       "  </tbody>\n",
       "</table>\n",
       "</div>"
      ],
      "text/plain": [
       "    Feature  KS_statistic   p_value  KL_divergence  Shift_flag\n",
       "48       48        0.0691  0.000325       0.108640        True\n",
       "125     125        0.0688  0.000350       0.056756       False\n",
       "253     253        0.0679  0.000438       0.068163       False\n",
       "270     270        0.0664  0.000633       0.071281        True\n",
       "90       90        0.0656  0.000768       0.056961       False"
      ]
     },
     "metadata": {},
     "output_type": "display_data"
    },
    {
     "name": "stdout",
     "output_type": "stream",
     "text": [
      "X_train 和 X_test_2 的 300 个特征中，其中 150 个特征（约 50.00%）发生了协变量偏移。\n"
     ]
    },
    {
     "data": {
      "text/html": [
       "<div>\n",
       "<style scoped>\n",
       "    .dataframe tbody tr th:only-of-type {\n",
       "        vertical-align: middle;\n",
       "    }\n",
       "\n",
       "    .dataframe tbody tr th {\n",
       "        vertical-align: top;\n",
       "    }\n",
       "\n",
       "    .dataframe thead th {\n",
       "        text-align: right;\n",
       "    }\n",
       "</style>\n",
       "<table border=\"1\" class=\"dataframe\">\n",
       "  <thead>\n",
       "    <tr style=\"text-align: right;\">\n",
       "      <th></th>\n",
       "      <th>Feature</th>\n",
       "      <th>KS_statistic</th>\n",
       "      <th>p_value</th>\n",
       "      <th>KL_divergence</th>\n",
       "      <th>Shift_flag</th>\n",
       "    </tr>\n",
       "  </thead>\n",
       "  <tbody>\n",
       "    <tr>\n",
       "      <th>90</th>\n",
       "      <td>90</td>\n",
       "      <td>0.297888</td>\n",
       "      <td>2.497427e-132</td>\n",
       "      <td>0.283712</td>\n",
       "      <td>True</td>\n",
       "    </tr>\n",
       "    <tr>\n",
       "      <th>249</th>\n",
       "      <td>249</td>\n",
       "      <td>0.290921</td>\n",
       "      <td>3.967352e-126</td>\n",
       "      <td>0.269756</td>\n",
       "      <td>True</td>\n",
       "    </tr>\n",
       "    <tr>\n",
       "      <th>141</th>\n",
       "      <td>141</td>\n",
       "      <td>0.274818</td>\n",
       "      <td>2.143881e-112</td>\n",
       "      <td>0.234486</td>\n",
       "      <td>True</td>\n",
       "    </tr>\n",
       "    <tr>\n",
       "      <th>86</th>\n",
       "      <td>86</td>\n",
       "      <td>0.272148</td>\n",
       "      <td>3.373654e-110</td>\n",
       "      <td>0.307346</td>\n",
       "      <td>True</td>\n",
       "    </tr>\n",
       "    <tr>\n",
       "      <th>111</th>\n",
       "      <td>111</td>\n",
       "      <td>0.263647</td>\n",
       "      <td>2.348210e-103</td>\n",
       "      <td>0.250430</td>\n",
       "      <td>True</td>\n",
       "    </tr>\n",
       "  </tbody>\n",
       "</table>\n",
       "</div>"
      ],
      "text/plain": [
       "    Feature  KS_statistic        p_value  KL_divergence  Shift_flag\n",
       "90       90      0.297888  2.497427e-132       0.283712        True\n",
       "249     249      0.290921  3.967352e-126       0.269756        True\n",
       "141     141      0.274818  2.143881e-112       0.234486        True\n",
       "86       86      0.272148  3.373654e-110       0.307346        True\n",
       "111     111      0.263647  2.348210e-103       0.250430        True"
      ]
     },
     "metadata": {},
     "output_type": "display_data"
    },
    {
     "name": "stderr",
     "output_type": "stream",
     "text": [
      "/tmp/ipykernel_5126/2583460031.py:53: FutureWarning: \n",
      "\n",
      "`shade` is now deprecated in favor of `fill`; setting `fill=True`.\n",
      "This will become an error in seaborn v0.14.0; please update your code.\n",
      "\n",
      "  sns.kdeplot(X_train[feature_name], label=\"Train\", shade=True)\n",
      "/tmp/ipykernel_5126/2583460031.py:54: FutureWarning: \n",
      "\n",
      "`shade` is now deprecated in favor of `fill`; setting `fill=True`.\n",
      "This will become an error in seaborn v0.14.0; please update your code.\n",
      "\n",
      "  sns.kdeplot(X_test[feature_name], label=\"Test\", shade=True)\n"
     ]
    },
    {
     "data": {
      "image/png": "[encoded data removed]",
      "text/plain": [
       "<Figure size 800x400 with 1 Axes>"
      ]
     },
     "metadata": {},
     "output_type": "display_data"
    }
   ],
   "source": [
    "# === KS + KL 检验函数 ===\n",
    "def check_covariate_shift_ks_kl(X_train, X_test, alpha=0.05, kl_threshold=0.07, ks_threshold=0.1):\n",
    "    ks_results = []\n",
    "\n",
    "    for col in X_train.columns:\n",
    "        # KS检验\n",
    "        stat, p_value = ks_2samp(X_train[col], X_test[col])\n",
    "\n",
    "        # KL散度：构建直方图估计概率密度\n",
    "        train_hist, bins = np.histogram(X_train[col], bins=50, range=(X_train[col].min(), X_train[col].max()), density=True)\n",
    "        test_hist, _ = np.histogram(X_test[col], bins=bins, density=True)\n",
    "\n",
    "        # 平滑处理避免除0\n",
    "        train_hist += 1e-8\n",
    "        test_hist += 1e-8\n",
    "\n",
    "        kl_div = entropy(train_hist, test_hist)\n",
    "\n",
    "        # 是否检测到协变量漂移（组合判断）\n",
    "        shift_flag = (stat > ks_threshold and p_value < alpha) or (kl_div > kl_threshold)\n",
    "\n",
    "        ks_results.append({\n",
    "            \"Feature\": col,\n",
    "            \"KS_statistic\": stat,\n",
    "            \"p_value\": p_value,\n",
    "            \"KL_divergence\": kl_div,\n",
    "            \"Shift_flag\": shift_flag\n",
    "        })\n",
    "\n",
    "    return pd.DataFrame(ks_results).sort_values(\"KS_statistic\", ascending=False)\n",
    "\n",
    "# === 应用在 X_test_1 ===\n",
    "result_df_1 = check_covariate_shift_ks_kl(X_train, X_test_1)\n",
    "n_total_1 = len(result_df_1)\n",
    "n_shift_1 = result_df_1['Shift_flag'].sum()\n",
    "shift_ratio_1 = n_shift_1 / n_total_1\n",
    "\n",
    "print(f\"X_train 和 X_test_1 的 {n_total_1} 个特征中，其中 {n_shift_1} 个特征（约 {shift_ratio_1:.2%}）发生了协变量偏移。\")\n",
    "display(result_df_1.head())\n",
    "\n",
    "# === 应用在 X_test_2 ===\n",
    "result_df_2 = check_covariate_shift_ks_kl(X_train, X_test_2)\n",
    "n_total_2 = len(result_df_2)\n",
    "n_shift_2 = result_df_2['Shift_flag'].sum()\n",
    "shift_ratio_2 = n_shift_2 / n_total_2\n",
    "\n",
    "print(f\"X_train 和 X_test_2 的 {n_total_2} 个特征中，其中 {n_shift_2} 个特征（约 {shift_ratio_2:.2%}）发生了协变量偏移。\")\n",
    "display(result_df_2.head())\n",
    "\n",
    "# === 可视化函数 ===\n",
    "def plot_feature_shift(X_train, X_test, feature_name):\n",
    "    plt.figure(figsize=(8, 4))\n",
    "    sns.kdeplot(X_train[feature_name], label=\"Train\", shade=True)\n",
    "    sns.kdeplot(X_test[feature_name], label=\"Test\", shade=True)\n",
    "    plt.title(f\"Feature Distribution Shift: {feature_name}\")\n",
    "    plt.legend()\n",
    "    plt.tight_layout()\n",
    "    plt.show()\n",
    "\n",
    "# 示例：可视化第90列的分布变化\n",
    "plot_feature_shift(X_train, X_test_2, '90')"
   ]
  },
  {
   "cell_type": "code",
   "execution_count": 7,
   "id": "ff911617",
   "metadata": {},
   "outputs": [
    {
     "name": "stdout",
     "output_type": "stream",
     "text": [
      "    Feature  KS_statistic   p_value  shift_detected\n",
      "48       48        0.0691  0.000325            True\n",
      "125     125        0.0688  0.000350            True\n",
      "253     253        0.0679  0.000438            True\n",
      "270     270        0.0664  0.000633            True\n",
      "90       90        0.0656  0.000768            True\n",
      "..      ...           ...       ...             ...\n",
      "118     118        0.0169  0.954319           False\n",
      "137     137        0.0153  0.981787           False\n",
      "109     109        0.0151  0.984123           False\n",
      "202     202        0.0142  0.992077           False\n",
      "59       59        0.0142  0.992077           False\n",
      "\n",
      "[300 rows x 4 columns]\n",
      "X_train 和 X_test_1 的 300 个特征中，其中 63 个特征（约 21.00%）在训练集与测试集之间发生了显著分布偏移（p < 0.05），存在协变量偏移的风险。\n",
      "    Feature  KS_statistic       p_value  shift_detected\n",
      "249     249      0.252515  5.690025e-38            True\n",
      "90       90      0.247891  1.351822e-36            True\n",
      "111     111      0.245158  8.541885e-36            True\n",
      "141     141      0.233703  1.539268e-32            True\n",
      "86       86      0.230604  1.097172e-31            True\n",
      "..      ...           ...           ...             ...\n",
      "203     203      0.024614  8.001815e-01           False\n",
      "138     138      0.023554  8.405918e-01           False\n",
      "57       57      0.023040  8.589763e-01           False\n",
      "16       16      0.021762  9.002876e-01           False\n",
      "118     118      0.020020  9.449617e-01           False\n",
      "\n",
      "[300 rows x 4 columns]\n",
      "X_test_1 和 X_test_2 的 300 个特征中，其中 224 个特征（约 74.67%）在训练集与测试集之间发生了显著分布偏移（p < 0.05），存在协变量偏移的风险。\n"
     ]
    },
    {
     "name": "stderr",
     "output_type": "stream",
     "text": [
      "/tmp/ipykernel_5126/1737749648.py:34: FutureWarning: \n",
      "\n",
      "`shade` is now deprecated in favor of `fill`; setting `fill=True`.\n",
      "This will become an error in seaborn v0.14.0; please update your code.\n",
      "\n",
      "  sns.kdeplot(X_train[feature_name], label=\"Train\", shade=True)\n",
      "/tmp/ipykernel_5126/1737749648.py:35: FutureWarning: \n",
      "\n",
      "`shade` is now deprecated in favor of `fill`; setting `fill=True`.\n",
      "This will become an error in seaborn v0.14.0; please update your code.\n",
      "\n",
      "  sns.kdeplot(X_test[feature_name], label=\"Test\", shade=True)\n"
     ]
    },
    {
     "data": {
      "image/png": "[encoded data removed]",
      "text/plain": [
       "<Figure size 800x400 with 1 Axes>"
      ]
     },
     "metadata": {},
     "output_type": "display_data"
    }
   ],
   "source": [
    "# 逐列执行 KS 检验\n",
    "def check_covariate_shift_ks(X_train, X_test, alpha=0.05):\n",
    "    ks_results = []\n",
    "\n",
    "    for col in X_train.columns:\n",
    "        stat, p = ks_2samp(X_train[col], X_test[col])\n",
    "        ks_results.append({\n",
    "            \"Feature\": col,\n",
    "            \"KS_statistic\": stat,\n",
    "            \"p_value\": p,\n",
    "            \"shift_detected\": p < alpha\n",
    "        })\n",
    "\n",
    "    return pd.DataFrame(ks_results).sort_values(\"KS_statistic\", ascending=False)\n",
    "\n",
    "result_df = check_covariate_shift_ks(X_train, X_test_1)\n",
    "print(result_df)\n",
    "n_total = len(result_df)\n",
    "n_shift = result_df['shift_detected'].sum()\n",
    "shift_ratio = n_shift / n_total\n",
    "\n",
    "print(f\"X_train 和 X_test_1 的 {n_total} 个特征中，其中 {n_shift} 个特征（约 {shift_ratio:.2%}）在训练集与测试集之间发生了显著分布偏移（p < 0.05），存在协变量偏移的风险。\")\n",
    "\n",
    "result_df_2 = check_covariate_shift_ks(X_test_1, X_test_2)\n",
    "print(result_df_2)\n",
    "n_total_2 = len(result_df_2)\n",
    "n_shift_2 = result_df_2['shift_detected'].sum()\n",
    "shift_ratio_2 = n_shift_2 / n_total_2\n",
    "\n",
    "print(f\"X_test_1 和 X_test_2 的 {n_total_2} 个特征中，其中 {n_shift_2} 个特征（约 {shift_ratio_2:.2%}）在训练集与测试集之间发生了显著分布偏移（p < 0.05），存在协变量偏移的风险。\")\n",
    "\n",
    "def plot_feature_shift(X_train, X_test, feature_name):\n",
    "    plt.figure(figsize=(8, 4))\n",
    "    sns.kdeplot(X_train[feature_name], label=\"Train\", shade=True)\n",
    "    sns.kdeplot(X_test[feature_name], label=\"Test\", shade=True)\n",
    "    plt.title(f\"Feature Distribution Shift: {feature_name}\")\n",
    "    plt.legend()\n",
    "    plt.tight_layout()\n",
    "    plt.show()\n",
    "    \n",
    "plot_feature_shift(X_train, X_test_2, '90')"
   ]
  },
  {
   "cell_type": "code",
   "execution_count": null,
   "id": "d80e46de",
   "metadata": {},
   "outputs": [],
   "source": [
    "# Label shift"
   ]
  },
  {
   "cell_type": "code",
   "execution_count": 8,
   "id": "b6decfb6",
   "metadata": {},
   "outputs": [
    {
     "name": "stdout",
     "output_type": "stream",
     "text": [
      "\n",
      "=== Label Shift Analysis ===\n",
      "       Train_P(Y)  Test_P(Y)     Shift\n",
      "Label                                 \n",
      "0          0.0018   0.000000  0.001800\n",
      "1          0.0007   0.000000  0.000700\n",
      "2          0.0007   0.004950  0.004250\n",
      "3          0.0065   0.004950  0.001550\n",
      "4          0.0238   0.019802  0.003998\n",
      "5          0.4479   0.044554  0.403346\n",
      "6          0.0553   0.014851  0.040449\n",
      "7          0.0103   0.069307  0.059007\n",
      "8          0.0516   0.143564  0.091964\n",
      "9          0.0025   0.014851  0.012351\n",
      "10         0.1081   0.009901  0.098199\n",
      "11         0.0078   0.044554  0.036754\n",
      "12         0.0457   0.212871  0.167171\n",
      "13         0.0062   0.004950  0.001250\n",
      "14         0.0264   0.029703  0.003303\n",
      "15         0.0026   0.004950  0.002350\n",
      "16         0.0006   0.000000  0.000600\n",
      "17         0.0354   0.049505  0.014105\n",
      "18         0.0060   0.004950  0.001050\n",
      "19         0.0177   0.019802  0.002102\n",
      "20         0.0153   0.014851  0.000449\n",
      "21         0.0269   0.034653  0.007753\n",
      "22         0.0007   0.000000  0.000700\n",
      "23         0.0041   0.004950  0.000850\n",
      "24         0.0385   0.074257  0.035757\n",
      "25         0.0184   0.128713  0.110313\n",
      "26         0.0278   0.004950  0.022850\n",
      "27         0.0107   0.039604  0.028904\n",
      "\n",
      "平均标签偏移程度: 4.12%\n",
      "KL 散度（KL Divergence）: 0.9445\n"
     ]
    },
    {
     "data": {
      "image/png": "[encoded data removed]",
      "text/plain": [
       "<Figure size 1200x500 with 1 Axes>"
      ]
     },
     "metadata": {},
     "output_type": "display_data"
    },
    {
     "data": {
      "text/html": [
       "<div>\n",
       "<style scoped>\n",
       "    .dataframe tbody tr th:only-of-type {\n",
       "        vertical-align: middle;\n",
       "    }\n",
       "\n",
       "    .dataframe tbody tr th {\n",
       "        vertical-align: top;\n",
       "    }\n",
       "\n",
       "    .dataframe thead th {\n",
       "        text-align: right;\n",
       "    }\n",
       "</style>\n",
       "<table border=\"1\" class=\"dataframe\">\n",
       "  <thead>\n",
       "    <tr style=\"text-align: right;\">\n",
       "      <th></th>\n",
       "      <th>Label</th>\n",
       "      <th>Train_P(Y)</th>\n",
       "      <th>Test_P(Y)</th>\n",
       "      <th>Shift</th>\n",
       "    </tr>\n",
       "  </thead>\n",
       "  <tbody>\n",
       "    <tr>\n",
       "      <th>0</th>\n",
       "      <td>0</td>\n",
       "      <td>0.0018</td>\n",
       "      <td>0.000000</td>\n",
       "      <td>0.001800</td>\n",
       "    </tr>\n",
       "    <tr>\n",
       "      <th>1</th>\n",
       "      <td>1</td>\n",
       "      <td>0.0007</td>\n",
       "      <td>0.000000</td>\n",
       "      <td>0.000700</td>\n",
       "    </tr>\n",
       "    <tr>\n",
       "      <th>2</th>\n",
       "      <td>2</td>\n",
       "      <td>0.0007</td>\n",
       "      <td>0.004950</td>\n",
       "      <td>0.004250</td>\n",
       "    </tr>\n",
       "    <tr>\n",
       "      <th>3</th>\n",
       "      <td>3</td>\n",
       "      <td>0.0065</td>\n",
       "      <td>0.004950</td>\n",
       "      <td>0.001550</td>\n",
       "    </tr>\n",
       "    <tr>\n",
       "      <th>4</th>\n",
       "      <td>4</td>\n",
       "      <td>0.0238</td>\n",
       "      <td>0.019802</td>\n",
       "      <td>0.003998</td>\n",
       "    </tr>\n",
       "    <tr>\n",
       "      <th>5</th>\n",
       "      <td>5</td>\n",
       "      <td>0.4479</td>\n",
       "      <td>0.044554</td>\n",
       "      <td>0.403346</td>\n",
       "    </tr>\n",
       "    <tr>\n",
       "      <th>6</th>\n",
       "      <td>6</td>\n",
       "      <td>0.0553</td>\n",
       "      <td>0.014851</td>\n",
       "      <td>0.040449</td>\n",
       "    </tr>\n",
       "    <tr>\n",
       "      <th>7</th>\n",
       "      <td>7</td>\n",
       "      <td>0.0103</td>\n",
       "      <td>0.069307</td>\n",
       "      <td>0.059007</td>\n",
       "    </tr>\n",
       "    <tr>\n",
       "      <th>8</th>\n",
       "      <td>8</td>\n",
       "      <td>0.0516</td>\n",
       "      <td>0.143564</td>\n",
       "      <td>0.091964</td>\n",
       "    </tr>\n",
       "    <tr>\n",
       "      <th>9</th>\n",
       "      <td>9</td>\n",
       "      <td>0.0025</td>\n",
       "      <td>0.014851</td>\n",
       "      <td>0.012351</td>\n",
       "    </tr>\n",
       "    <tr>\n",
       "      <th>10</th>\n",
       "      <td>10</td>\n",
       "      <td>0.1081</td>\n",
       "      <td>0.009901</td>\n",
       "      <td>0.098199</td>\n",
       "    </tr>\n",
       "    <tr>\n",
       "      <th>11</th>\n",
       "      <td>11</td>\n",
       "      <td>0.0078</td>\n",
       "      <td>0.044554</td>\n",
       "      <td>0.036754</td>\n",
       "    </tr>\n",
       "    <tr>\n",
       "      <th>12</th>\n",
       "      <td>12</td>\n",
       "      <td>0.0457</td>\n",
       "      <td>0.212871</td>\n",
       "      <td>0.167171</td>\n",
       "    </tr>\n",
       "    <tr>\n",
       "      <th>13</th>\n",
       "      <td>13</td>\n",
       "      <td>0.0062</td>\n",
       "      <td>0.004950</td>\n",
       "      <td>0.001250</td>\n",
       "    </tr>\n",
       "    <tr>\n",
       "      <th>14</th>\n",
       "      <td>14</td>\n",
       "      <td>0.0264</td>\n",
       "      <td>0.029703</td>\n",
       "      <td>0.003303</td>\n",
       "    </tr>\n",
       "    <tr>\n",
       "      <th>15</th>\n",
       "      <td>15</td>\n",
       "      <td>0.0026</td>\n",
       "      <td>0.004950</td>\n",
       "      <td>0.002350</td>\n",
       "    </tr>\n",
       "    <tr>\n",
       "      <th>16</th>\n",
       "      <td>16</td>\n",
       "      <td>0.0006</td>\n",
       "      <td>0.000000</td>\n",
       "      <td>0.000600</td>\n",
       "    </tr>\n",
       "    <tr>\n",
       "      <th>17</th>\n",
       "      <td>17</td>\n",
       "      <td>0.0354</td>\n",
       "      <td>0.049505</td>\n",
       "      <td>0.014105</td>\n",
       "    </tr>\n",
       "    <tr>\n",
       "      <th>18</th>\n",
       "      <td>18</td>\n",
       "      <td>0.0060</td>\n",
       "      <td>0.004950</td>\n",
       "      <td>0.001050</td>\n",
       "    </tr>\n",
       "    <tr>\n",
       "      <th>19</th>\n",
       "      <td>19</td>\n",
       "      <td>0.0177</td>\n",
       "      <td>0.019802</td>\n",
       "      <td>0.002102</td>\n",
       "    </tr>\n",
       "    <tr>\n",
       "      <th>20</th>\n",
       "      <td>20</td>\n",
       "      <td>0.0153</td>\n",
       "      <td>0.014851</td>\n",
       "      <td>0.000449</td>\n",
       "    </tr>\n",
       "    <tr>\n",
       "      <th>21</th>\n",
       "      <td>21</td>\n",
       "      <td>0.0269</td>\n",
       "      <td>0.034653</td>\n",
       "      <td>0.007753</td>\n",
       "    </tr>\n",
       "    <tr>\n",
       "      <th>22</th>\n",
       "      <td>22</td>\n",
       "      <td>0.0007</td>\n",
       "      <td>0.000000</td>\n",
       "      <td>0.000700</td>\n",
       "    </tr>\n",
       "    <tr>\n",
       "      <th>23</th>\n",
       "      <td>23</td>\n",
       "      <td>0.0041</td>\n",
       "      <td>0.004950</td>\n",
       "      <td>0.000850</td>\n",
       "    </tr>\n",
       "    <tr>\n",
       "      <th>24</th>\n",
       "      <td>24</td>\n",
       "      <td>0.0385</td>\n",
       "      <td>0.074257</td>\n",
       "      <td>0.035757</td>\n",
       "    </tr>\n",
       "    <tr>\n",
       "      <th>25</th>\n",
       "      <td>25</td>\n",
       "      <td>0.0184</td>\n",
       "      <td>0.128713</td>\n",
       "      <td>0.110313</td>\n",
       "    </tr>\n",
       "    <tr>\n",
       "      <th>26</th>\n",
       "      <td>26</td>\n",
       "      <td>0.0278</td>\n",
       "      <td>0.004950</td>\n",
       "      <td>0.022850</td>\n",
       "    </tr>\n",
       "    <tr>\n",
       "      <th>27</th>\n",
       "      <td>27</td>\n",
       "      <td>0.0107</td>\n",
       "      <td>0.039604</td>\n",
       "      <td>0.028904</td>\n",
       "    </tr>\n",
       "  </tbody>\n",
       "</table>\n",
       "</div>"
      ],
      "text/plain": [
       "    Label  Train_P(Y)  Test_P(Y)     Shift\n",
       "0       0      0.0018   0.000000  0.001800\n",
       "1       1      0.0007   0.000000  0.000700\n",
       "2       2      0.0007   0.004950  0.004250\n",
       "3       3      0.0065   0.004950  0.001550\n",
       "4       4      0.0238   0.019802  0.003998\n",
       "5       5      0.4479   0.044554  0.403346\n",
       "6       6      0.0553   0.014851  0.040449\n",
       "7       7      0.0103   0.069307  0.059007\n",
       "8       8      0.0516   0.143564  0.091964\n",
       "9       9      0.0025   0.014851  0.012351\n",
       "10     10      0.1081   0.009901  0.098199\n",
       "11     11      0.0078   0.044554  0.036754\n",
       "12     12      0.0457   0.212871  0.167171\n",
       "13     13      0.0062   0.004950  0.001250\n",
       "14     14      0.0264   0.029703  0.003303\n",
       "15     15      0.0026   0.004950  0.002350\n",
       "16     16      0.0006   0.000000  0.000600\n",
       "17     17      0.0354   0.049505  0.014105\n",
       "18     18      0.0060   0.004950  0.001050\n",
       "19     19      0.0177   0.019802  0.002102\n",
       "20     20      0.0153   0.014851  0.000449\n",
       "21     21      0.0269   0.034653  0.007753\n",
       "22     22      0.0007   0.000000  0.000700\n",
       "23     23      0.0041   0.004950  0.000850\n",
       "24     24      0.0385   0.074257  0.035757\n",
       "25     25      0.0184   0.128713  0.110313\n",
       "26     26      0.0278   0.004950  0.022850\n",
       "27     27      0.0107   0.039604  0.028904"
      ]
     },
     "execution_count": 8,
     "metadata": {},
     "output_type": "execute_result"
    }
   ],
   "source": [
    "def check_label_shift(y_train, y_test):\n",
    "    # 保证是 Series 类型\n",
    "    if isinstance(y_train, pd.DataFrame):\n",
    "        y_train = y_train.iloc[:, 0]\n",
    "    if isinstance(y_test, pd.DataFrame):\n",
    "        y_test = y_test.iloc[:, 0]\n",
    "\n",
    "    # 标签全集\n",
    "    all_labels = sorted(set(y_train.unique()) | set(y_test.unique()))\n",
    "\n",
    "    # 归一化频率\n",
    "    y_train_counts = y_train.value_counts(normalize=True).sort_index()\n",
    "    y_test_counts = y_test.value_counts(normalize=True).sort_index()\n",
    "\n",
    "    # 构建概率向量（对所有标签补齐）\n",
    "    train_probs = np.array([y_train_counts.get(i, 0) for i in all_labels])\n",
    "    test_probs = np.array([y_test_counts.get(i, 0) for i in all_labels])\n",
    "\n",
    "    label_df = pd.DataFrame({\n",
    "        \"Label\": all_labels,\n",
    "        \"Train_P(Y)\": train_probs,\n",
    "        \"Test_P(Y)\": test_probs\n",
    "    })\n",
    "\n",
    "    # 平均偏移\n",
    "    label_df[\"Shift\"] = abs(label_df[\"Train_P(Y)\"] - label_df[\"Test_P(Y)\"])\n",
    "    avg_shift = label_df[\"Shift\"].mean()\n",
    "\n",
    "    # KL 散度（加平滑避免除0）\n",
    "    train_probs_smooth = train_probs + 1e-8\n",
    "    test_probs_smooth = test_probs + 1e-8\n",
    "    kl_div = entropy(test_probs_smooth, train_probs_smooth)\n",
    "\n",
    "    # 打印结果\n",
    "    print(\"\\n=== Label Shift Analysis ===\")\n",
    "    print(label_df.set_index(\"Label\"))\n",
    "\n",
    "    print(f\"\\n平均标签偏移程度: {avg_shift:.2%}\")\n",
    "    print(f\"KL 散度（KL Divergence）: {kl_div:.4f}\")\n",
    "\n",
    "    # 可视化\n",
    "    label_df.set_index(\"Label\")[[\"Train_P(Y)\", \"Test_P(Y)\"]].plot.bar(figsize=(12, 5), width=0.8)\n",
    "    plt.title(\"Train vs Test Label Distribution\")\n",
    "    plt.ylabel(\"Class Proportion\")\n",
    "    plt.xlabel(\"Label\")\n",
    "    plt.grid(axis='y', linestyle='--', alpha=0.6)\n",
    "    plt.tight_layout()\n",
    "    plt.show()\n",
    "\n",
    "    return label_df\n",
    "\n",
    "check_label_shift(y_train, y_test_2_reduced)"
   ]
  },
  {
   "cell_type": "code",
   "execution_count": null,
   "id": "6b3ae819",
   "metadata": {},
   "outputs": [],
   "source": [
    "# 4.3 Concept Shift"
   ]
  },
  {
   "cell_type": "code",
   "execution_count": 10,
   "id": "945bc2b7",
   "metadata": {},
   "outputs": [
    {
     "name": "stdout",
     "output_type": "stream",
     "text": [
      "Top 270 Features by F-test (ANOVA F-test) from validation set:\n",
      "    Feature     F_score       p_value\n",
      "0        48  258.029213  0.000000e+00\n",
      "1        17  231.333457  0.000000e+00\n",
      "2       263  219.405359  0.000000e+00\n",
      "3       270  218.617485  0.000000e+00\n",
      "4        90  200.600021  0.000000e+00\n",
      "..      ...         ...           ...\n",
      "265     225   17.858959  3.939549e-82\n",
      "266     289   17.798027  8.221130e-82\n",
      "267      32   17.350174  1.833181e-79\n",
      "268      66   17.212820  9.625267e-79\n",
      "269     165   17.060832  6.030342e-78\n",
      "\n",
      "[270 rows x 3 columns]\n"
     ]
    }
   ],
   "source": [
    "# === 0. 划分训练子集与验证集 ===\n",
    "X_train_sub, X_val, y_train_sub, y_val = train_test_split(\n",
    "    X_train, y_train, test_size=0.2, stratify=y_train, random_state=42\n",
    ")\n",
    "\n",
    "# === 1. 离群值裁剪（IQR）===\n",
    "X_train_sub_capped = winsorize_iqr(X_train_sub)\n",
    "X_val_capped = winsorize_iqr(X_val)\n",
    "\n",
    "# === 2. 鲁棒缩放 ===\n",
    "scaler = RobustScaler()\n",
    "X_train_sub_scaled = pd.DataFrame(scaler.fit_transform(X_train_sub_capped), columns=X_train_sub.columns)\n",
    "X_val_scaled = pd.DataFrame(scaler.transform(X_val_capped), columns=X_val.columns)\n",
    "\n",
    "# === 3. 使用 SelectKBest(f_classif) 进行特征打分与选择 ===\n",
    "k = 270  # 设置选择的特征数量\n",
    "selector = SelectKBest(score_func=f_classif, k=k)\n",
    "selector.fit(X_train_sub_scaled, y_train_sub.values.ravel())\n",
    "\n",
    "# === 4. 获取每个特征的 F 分数和 p 值 ===\n",
    "f_scores = selector.scores_\n",
    "p_values = selector.pvalues_\n",
    "\n",
    "# === 5. 构建特征打分表 ===\n",
    "feature_scores_df = pd.DataFrame({\n",
    "    'Feature': X_train_sub_scaled.columns,\n",
    "    'F_score': f_scores,\n",
    "    'p_value': p_values\n",
    "}).sort_values(by='F_score', ascending=False).reset_index(drop=True)\n",
    "\n",
    "# === 6. 选出 Top-K 特征列名 ===\n",
    "top_features_df = feature_scores_df.head(k)\n",
    "selected_columns = top_features_df['Feature'].tolist()\n",
    "\n",
    "# === 7. 筛选子训练集和验证集特征列 ===\n",
    "X_train_ftest = X_train_sub_scaled[selected_columns]\n",
    "X_val_ftest = X_val_scaled[selected_columns]\n",
    "\n",
    "# === 8. 打印结果 ===\n",
    "print(f\"Top {k} Features by F-test (ANOVA F-test) from validation set:\")\n",
    "print(top_features_df)"
   ]
  },
  {
   "cell_type": "code",
   "execution_count": 12,
   "id": "c10e5715",
   "metadata": {},
   "outputs": [
    {
     "name": "stdout",
     "output_type": "stream",
     "text": [
      "\n",
      "=== 新数据集评估结果（测试集） ===\n",
      "              precision    recall  f1-score   support\n",
      "\n",
      "           2       0.00      0.00      0.00         1\n",
      "           3       0.00      0.00      0.00         1\n",
      "           4       0.43      0.75      0.55         4\n",
      "           5       0.32      0.89      0.47         9\n",
      "           6       0.50      1.00      0.67         3\n",
      "           7       0.83      0.36      0.50        14\n",
      "           8       0.81      0.76      0.79        29\n",
      "           9       0.00      0.00      0.00         3\n",
      "          10       0.09      1.00      0.16         2\n",
      "          11       0.89      0.89      0.89         9\n",
      "          12       0.82      0.72      0.77        43\n",
      "          13       0.33      1.00      0.50         1\n",
      "          14       0.00      0.00      0.00         6\n",
      "          15       0.00      0.00      0.00         1\n",
      "          17       0.86      0.60      0.71        10\n",
      "          18       0.00      0.00      0.00         1\n",
      "          19       0.00      0.00      0.00         4\n",
      "          20       0.50      0.33      0.40         3\n",
      "          21       0.86      0.86      0.86         7\n",
      "          23       0.00      0.00      0.00         1\n",
      "          24       0.54      0.47      0.50        15\n",
      "          25       1.00      0.50      0.67        26\n",
      "          26       0.14      1.00      0.25         1\n",
      "          27       1.00      0.62      0.77         8\n",
      "\n",
      "    accuracy                           0.60       202\n",
      "   macro avg       0.41      0.49      0.39       202\n",
      "weighted avg       0.71      0.60      0.62       202\n",
      "\n",
      "Accuracy:           0.6040\n",
      "F1 Macro:           0.3930\n",
      "F1 Weighted:        0.6210\n",
      "Log Loss:           1.6340\n",
      "Weighted Log Loss:  0.0317\n"
     ]
    }
   ],
   "source": [
    "# ==== 1. IQR 裁剪函数 ====\n",
    "def winsorize_iqr(df, lower=1.5, upper=1.5):\n",
    "    df_capped = df.copy()\n",
    "    for col in df.columns:\n",
    "        Q1 = df[col].quantile(0.25)\n",
    "        Q3 = df[col].quantile(0.75)\n",
    "        IQR = Q3 - Q1\n",
    "        lower_bound = Q1 - lower * IQR\n",
    "        upper_bound = Q3 + upper * IQR\n",
    "        df_capped[col] = df[col].clip(lower=lower_bound, upper=upper_bound)\n",
    "    return df_capped\n",
    "\n",
    "# ==== 2. 自定义加权 log loss ====\n",
    "def weighted_log_loss(y_true, y_pred_proba):\n",
    "    \"\"\"\n",
    "    修复后的 Weighted Log Loss 函数，仅使用真实标签中出现的类别，避免维度错位导致的全 0 问题。\n",
    "    \n",
    "    参数：\n",
    "    - y_true: 一维 array，真实标签\n",
    "    - y_pred_proba: 二维 array，预测的概率分布，形状为 (n_samples, n_classes)\n",
    "    \n",
    "    返回：\n",
    "    - 修正后的加权 log loss 值\n",
    "    \"\"\"\n",
    "\n",
    "    # 1. 找出 y_true 中实际出现的类别（注意是已排序的 subset）\n",
    "    present_classes = np.unique(y_true)\n",
    "\n",
    "    # 2. 限定预测概率只保留这些列\n",
    "    y_pred_proba_sub = y_pred_proba[:, present_classes]\n",
    "\n",
    "    # 3. 重新 label_binarize\n",
    "    y_true_bin = label_binarize(y_true, classes=present_classes)\n",
    "\n",
    "    # 4. 计算每个类别的权重（类别越少，权重越大）\n",
    "    class_counts = np.sum(y_true_bin, axis=0)\n",
    "    class_weights = 1.0 / (class_counts + 1e-8)\n",
    "    class_weights /= np.sum(class_weights)\n",
    "\n",
    "    # 5. 计算每个样本的权重 + log loss\n",
    "    sample_weights = np.sum(y_true_bin * class_weights, axis=1)\n",
    "    sample_losses = -np.sum(y_true_bin * np.log(y_pred_proba_sub + 1e-8), axis=1)\n",
    "\n",
    "    # 6. 返回加权平均损失\n",
    "    return np.mean(sample_weights * sample_losses)\n",
    "\n",
    "# ==== 3. 训练集预处理 ====\n",
    "X_train_clean = winsorize_iqr(X_train_ftest)\n",
    "scaler = RobustScaler()\n",
    "X_train_scaled = scaler.fit_transform(X_train_clean)\n",
    "\n",
    "# ==== 4. 测试集预处理 ====\n",
    "# 假设你原来训练用的是 X_train_fisher = X_train[feature_cols]，现在需要拿同样的列来处理测试集：\n",
    "X_test_fisher = X_test_2[ X_train_ftest.columns ].iloc[:len(y_test_2_reduced)].copy()\n",
    "\n",
    "# 然后照常进行 IQR + Scaling\n",
    "X_test_clean = winsorize_iqr(X_test_fisher)\n",
    "X_test_scaled = scaler.transform(X_test_clean)\n",
    "X_test_clean.columns = X_train_clean.columns  \n",
    "X_test_scaled = scaler.transform(X_test_clean)\n",
    "y_test_array = y_test_2_reduced.values.ravel()\n",
    "\n",
    "final_model = XGBClassifier()\n",
    "final_model.load_model(\"final_model_1.json\")\n",
    "\n",
    "# ==== 5. 用 final_model 预测测试集 ====\n",
    "y_test_pred = final_model.predict(X_test_scaled)\n",
    "y_test_proba = final_model.predict_proba(X_test_scaled)\n",
    "\n",
    "# ==== 6. 计算新数据上的指标 ====\n",
    "print(\"\\n=== 新数据集评估结果（测试集） ===\")\n",
    "print(classification_report(y_test_array, y_test_pred, zero_division=0))\n",
    "print(f\"Accuracy:           {accuracy_score(y_test_array, y_test_pred):.4f}\")\n",
    "print(f\"F1 Macro:           {f1_score(y_test_array, y_test_pred, average='macro'):.4f}\")\n",
    "print(f\"F1 Weighted:        {f1_score(y_test_array, y_test_pred, average='weighted'):.4f}\")\n",
    "print(f\"Log Loss:           {log_loss(y_test_array, y_test_proba, labels=np.arange(28)):.4f}\")\n",
    "print(f\"Weighted Log Loss:  {weighted_log_loss(y_test_array, y_test_proba):.4f}\")"
   ]
  },
  {
   "cell_type": "code",
   "execution_count": null,
   "id": "daa54b96",
   "metadata": {},
   "outputs": [],
   "source": [
    "# 解决措施"
   ]
  },
  {
   "cell_type": "code",
   "execution_count": 13,
   "id": "7af2a1f3",
   "metadata": {},
   "outputs": [
    {
     "name": "stderr",
     "output_type": "stream",
     "text": [
      "/root/miniconda3/lib/python3.10/site-packages/xgboost/training.py:183: UserWarning: [14:23:33] WARNING: /workspace/src/learner.cc:738: \n",
      "Parameters: { \"use_label_encoder\" } are not used.\n",
      "\n",
      "  bst.update(dtrain, iteration=i, fobj=obj)\n"
     ]
    },
    {
     "name": "stdout",
     "output_type": "stream",
     "text": [
      "=== 初始模型评估（全部 X_test_2） ===\n",
      "Accuracy:           0.5644\n",
      "F1 Macro:           0.3858\n",
      "F1 Weighted:        0.5719\n",
      "Log Loss:           1.7851\n",
      "Weighted Log Loss:  0.0316\n"
     ]
    },
    {
     "name": "stderr",
     "output_type": "stream",
     "text": [
      "/root/miniconda3/lib/python3.10/site-packages/sklearn/metrics/_classification.py:3001: UserWarning: The y_pred values do not sum to one. Make sure to pass probabilities.\n",
      "  warnings.warn(\n",
      "/root/miniconda3/lib/python3.10/site-packages/xgboost/training.py:183: UserWarning: [14:23:52] WARNING: /workspace/src/learner.cc:738: \n",
      "Parameters: { \"use_label_encoder\" } are not used.\n",
      "\n",
      "  bst.update(dtrain, iteration=i, fobj=obj)\n"
     ]
    },
    {
     "name": "stdout",
     "output_type": "stream",
     "text": [
      "\n",
      "=== 分布漂移后模型评估（后半部分 X_test_2） ===\n",
      "Accuracy:           0.6139\n",
      "F1 Macro:           0.4390\n",
      "F1 Weighted:        0.6461\n",
      "Log Loss:           1.6990\n",
      "Weighted Log Loss:  0.0402\n"
     ]
    },
    {
     "name": "stderr",
     "output_type": "stream",
     "text": [
      "/root/miniconda3/lib/python3.10/site-packages/sklearn/metrics/_classification.py:3001: UserWarning: The y_pred values do not sum to one. Make sure to pass probabilities.\n",
      "  warnings.warn(\n"
     ]
    }
   ],
   "source": [
    "# === 自定义加权 log loss（只针对真实出现的类别） ===\n",
    "def weighted_log_loss(y_true, y_pred_proba):\n",
    "    present_classes = np.sort(np.unique(y_true))\n",
    "    y_true_bin = label_binarize(y_true, classes=present_classes)\n",
    "    y_proba_sub = y_pred_proba[:, present_classes]\n",
    "\n",
    "    class_counts = np.sum(y_true_bin, axis=0)\n",
    "    class_weights = 1.0 / (class_counts + 1e-8)\n",
    "    class_weights /= np.sum(class_weights)\n",
    "\n",
    "    sample_weights = np.sum(y_true_bin * class_weights, axis=1)\n",
    "    sample_losses  = -np.sum(y_true_bin * np.log(y_proba_sub + 1e-8), axis=1)\n",
    "    return np.mean(sample_weights * sample_losses)\n",
    "\n",
    "# ========== 1. 对齐测试集行数 ==========\n",
    "min_len = min(len(X_test_2), len(y_test_2_reduced))\n",
    "X_test2 = X_test_2.iloc[:min_len].reset_index(drop=True)\n",
    "y_test2 = y_test_2_reduced.iloc[:min_len].reset_index(drop=True)\n",
    "\n",
    "# ========== 2. 初始训练并评估（全部测试集） ==========\n",
    "model = XGBClassifier(use_label_encoder=False,\n",
    "                      eval_metric='mlogloss',\n",
    "                      random_state=42)\n",
    "model.fit(X_train, y_train)\n",
    "\n",
    "y_pred_full  = model.predict(X_test2)\n",
    "y_proba_full = model.predict_proba(X_test2)\n",
    "\n",
    "present = np.sort(np.unique(y_test2))\n",
    "y_proba_full_sub = y_proba_full[:, present]\n",
    "\n",
    "print(\"=== 初始模型评估（全部 X_test_2） ===\")\n",
    "print(f\"Accuracy:           {accuracy_score(y_test2, y_pred_full):.4f}\")\n",
    "print(f\"F1 Macro:           {f1_score(y_test2, y_pred_full, average='macro'):.4f}\")\n",
    "print(f\"F1 Weighted:        {f1_score(y_test2, y_pred_full, average='weighted'):.4f}\")\n",
    "print(f\"Log Loss:           {log_loss(y_test2, y_proba_full_sub, labels=present):.4f}\")\n",
    "print(f\"Weighted Log Loss:  {weighted_log_loss(y_test2, y_proba_full):.4f}\")\n",
    "\n",
    "# ========== 3. 构造“分布漂移”实验集 ==========\n",
    "n = min_len // 2\n",
    "X_shift_train = pd.concat([X_train, X_test2.iloc[:n]], axis=0).reset_index(drop=True)\n",
    "y_shift_train = pd.concat([y_train, y_test2.iloc[:n]], axis=0).reset_index(drop=True)\n",
    "\n",
    "X_shift_test  = X_test2.iloc[n:].reset_index(drop=True)\n",
    "y_shift_test  = y_test2.iloc[n:].reset_index(drop=True)\n",
    "\n",
    "# ========== 4. 再次训练并评估后半部分测试集 ==========\n",
    "model_shift = XGBClassifier(use_label_encoder=False,\n",
    "                            eval_metric='mlogloss',\n",
    "                            random_state=42)\n",
    "model_shift.fit(X_shift_train, y_shift_train)\n",
    "\n",
    "y_pred_shift      = model_shift.predict(X_shift_test)\n",
    "y_proba_shift_all = model_shift.predict_proba(X_shift_test)\n",
    "\n",
    "present_shift = np.sort(np.unique(y_shift_test))\n",
    "y_proba_shift = y_proba_shift_all[:, present_shift]\n",
    "\n",
    "print(\"\\n=== 分布漂移后模型评估（后半部分 X_test_2） ===\")\n",
    "print(f\"Accuracy:           {accuracy_score(y_shift_test, y_pred_shift):.4f}\")\n",
    "print(f\"F1 Macro:           {f1_score(y_shift_test, y_pred_shift, average='macro'):.4f}\")\n",
    "print(f\"F1 Weighted:        {f1_score(y_shift_test, y_pred_shift, average='weighted'):.4f}\")\n",
    "print(f\"Log Loss:           {log_loss(y_shift_test, y_proba_shift, labels=present_shift):.4f}\")\n",
    "print(f\"Weighted Log Loss:  {weighted_log_loss(y_shift_test, y_proba_shift_all):.4f}\")"
   ]
  },
  {
   "cell_type": "code",
   "execution_count": null,
   "id": "de8bcf70",
   "metadata": {},
   "outputs": [],
   "source": [
    "# 重新进行特征选择， 模型超参数调参"
   ]
  },
  {
   "cell_type": "code",
   "execution_count": 4,
   "id": "8a0256fe",
   "metadata": {},
   "outputs": [],
   "source": [
    "# 保证只取前 202 行（与标签对齐）\n",
    "X_test_2_subset = X_test_2.iloc[:len(y_test_2_reduced)].copy()\n",
    "\n",
    "# 拼接特征和标签\n",
    "X_train_2_new = pd.concat([X_train, X_test_2_subset], axis=0).reset_index(drop=True)\n",
    "y_train_2_new = pd.concat([y_train, y_test_2_reduced], axis=0).reset_index(drop=True)\n",
    "X_train=X_train_2_new\n",
    "y_train = y_train_2_new"
   ]
  },
  {
   "cell_type": "code",
   "execution_count": 16,
   "id": "88acf237",
   "metadata": {},
   "outputs": [
    {
     "data": {
      "text/html": [
       "<div>\n",
       "<style scoped>\n",
       "    .dataframe tbody tr th:only-of-type {\n",
       "        vertical-align: middle;\n",
       "    }\n",
       "\n",
       "    .dataframe tbody tr th {\n",
       "        vertical-align: top;\n",
       "    }\n",
       "\n",
       "    .dataframe thead th {\n",
       "        text-align: right;\n",
       "    }\n",
       "</style>\n",
       "<table border=\"1\" class=\"dataframe\">\n",
       "  <thead>\n",
       "    <tr style=\"text-align: right;\">\n",
       "      <th></th>\n",
       "      <th>0</th>\n",
       "      <th>1</th>\n",
       "      <th>2</th>\n",
       "      <th>3</th>\n",
       "      <th>4</th>\n",
       "      <th>5</th>\n",
       "      <th>6</th>\n",
       "      <th>7</th>\n",
       "      <th>8</th>\n",
       "      <th>9</th>\n",
       "      <th>...</th>\n",
       "      <th>290</th>\n",
       "      <th>291</th>\n",
       "      <th>292</th>\n",
       "      <th>293</th>\n",
       "      <th>294</th>\n",
       "      <th>295</th>\n",
       "      <th>296</th>\n",
       "      <th>297</th>\n",
       "      <th>298</th>\n",
       "      <th>299</th>\n",
       "    </tr>\n",
       "  </thead>\n",
       "  <tbody>\n",
       "    <tr>\n",
       "      <th>0</th>\n",
       "      <td>0.617940</td>\n",
       "      <td>-0.391980</td>\n",
       "      <td>0.13278</td>\n",
       "      <td>0.032551</td>\n",
       "      <td>0.552010</td>\n",
       "      <td>0.83393</td>\n",
       "      <td>-0.837550</td>\n",
       "      <td>-0.87406</td>\n",
       "      <td>0.43930</td>\n",
       "      <td>0.26826</td>\n",
       "      <td>...</td>\n",
       "      <td>-0.45454</td>\n",
       "      <td>0.36452</td>\n",
       "      <td>1.57530</td>\n",
       "      <td>-0.620320</td>\n",
       "      <td>-0.253710</td>\n",
       "      <td>-0.44775</td>\n",
       "      <td>-0.038273</td>\n",
       "      <td>-0.019938</td>\n",
       "      <td>-0.195500</td>\n",
       "      <td>0.428830</td>\n",
       "    </tr>\n",
       "    <tr>\n",
       "      <th>1</th>\n",
       "      <td>0.333860</td>\n",
       "      <td>-1.549100</td>\n",
       "      <td>1.67050</td>\n",
       "      <td>0.793560</td>\n",
       "      <td>0.802510</td>\n",
       "      <td>-0.07206</td>\n",
       "      <td>-0.068276</td>\n",
       "      <td>3.30240</td>\n",
       "      <td>0.52045</td>\n",
       "      <td>0.68572</td>\n",
       "      <td>...</td>\n",
       "      <td>-0.36913</td>\n",
       "      <td>1.74080</td>\n",
       "      <td>1.28660</td>\n",
       "      <td>-0.013396</td>\n",
       "      <td>-1.539300</td>\n",
       "      <td>0.83354</td>\n",
       "      <td>0.472610</td>\n",
       "      <td>0.513030</td>\n",
       "      <td>-0.743140</td>\n",
       "      <td>1.219900</td>\n",
       "    </tr>\n",
       "    <tr>\n",
       "      <th>2</th>\n",
       "      <td>0.040399</td>\n",
       "      <td>-0.608070</td>\n",
       "      <td>1.62080</td>\n",
       "      <td>-0.355970</td>\n",
       "      <td>0.121050</td>\n",
       "      <td>1.35250</td>\n",
       "      <td>0.373200</td>\n",
       "      <td>1.11170</td>\n",
       "      <td>0.35894</td>\n",
       "      <td>-0.34410</td>\n",
       "      <td>...</td>\n",
       "      <td>-1.40230</td>\n",
       "      <td>-0.24763</td>\n",
       "      <td>0.50705</td>\n",
       "      <td>0.708220</td>\n",
       "      <td>-0.600830</td>\n",
       "      <td>0.91104</td>\n",
       "      <td>0.009979</td>\n",
       "      <td>-0.475990</td>\n",
       "      <td>-0.094731</td>\n",
       "      <td>-0.008521</td>\n",
       "    </tr>\n",
       "    <tr>\n",
       "      <th>3</th>\n",
       "      <td>1.723600</td>\n",
       "      <td>0.195290</td>\n",
       "      <td>1.03880</td>\n",
       "      <td>-3.009100</td>\n",
       "      <td>-0.332220</td>\n",
       "      <td>0.91067</td>\n",
       "      <td>0.666690</td>\n",
       "      <td>0.71725</td>\n",
       "      <td>3.05850</td>\n",
       "      <td>1.48990</td>\n",
       "      <td>...</td>\n",
       "      <td>-1.21540</td>\n",
       "      <td>-0.25284</td>\n",
       "      <td>-1.30780</td>\n",
       "      <td>-0.445660</td>\n",
       "      <td>0.279180</td>\n",
       "      <td>0.26467</td>\n",
       "      <td>-0.149360</td>\n",
       "      <td>1.492900</td>\n",
       "      <td>-1.176700</td>\n",
       "      <td>-1.854500</td>\n",
       "    </tr>\n",
       "    <tr>\n",
       "      <th>4</th>\n",
       "      <td>-1.032300</td>\n",
       "      <td>1.900100</td>\n",
       "      <td>-1.46010</td>\n",
       "      <td>0.383710</td>\n",
       "      <td>-0.510390</td>\n",
       "      <td>0.74481</td>\n",
       "      <td>-0.914660</td>\n",
       "      <td>-0.86588</td>\n",
       "      <td>-0.34426</td>\n",
       "      <td>0.86965</td>\n",
       "      <td>...</td>\n",
       "      <td>1.32230</td>\n",
       "      <td>0.06020</td>\n",
       "      <td>-1.07900</td>\n",
       "      <td>-0.617050</td>\n",
       "      <td>1.184500</td>\n",
       "      <td>-0.21063</td>\n",
       "      <td>-0.105870</td>\n",
       "      <td>-0.412040</td>\n",
       "      <td>1.409700</td>\n",
       "      <td>0.133350</td>\n",
       "    </tr>\n",
       "    <tr>\n",
       "      <th>...</th>\n",
       "      <td>...</td>\n",
       "      <td>...</td>\n",
       "      <td>...</td>\n",
       "      <td>...</td>\n",
       "      <td>...</td>\n",
       "      <td>...</td>\n",
       "      <td>...</td>\n",
       "      <td>...</td>\n",
       "      <td>...</td>\n",
       "      <td>...</td>\n",
       "      <td>...</td>\n",
       "      <td>...</td>\n",
       "      <td>...</td>\n",
       "      <td>...</td>\n",
       "      <td>...</td>\n",
       "      <td>...</td>\n",
       "      <td>...</td>\n",
       "      <td>...</td>\n",
       "      <td>...</td>\n",
       "      <td>...</td>\n",
       "      <td>...</td>\n",
       "    </tr>\n",
       "    <tr>\n",
       "      <th>10197</th>\n",
       "      <td>-1.251700</td>\n",
       "      <td>1.248800</td>\n",
       "      <td>-0.56923</td>\n",
       "      <td>0.312230</td>\n",
       "      <td>-0.144020</td>\n",
       "      <td>0.21581</td>\n",
       "      <td>1.504400</td>\n",
       "      <td>-1.81130</td>\n",
       "      <td>-1.65760</td>\n",
       "      <td>-0.32030</td>\n",
       "      <td>...</td>\n",
       "      <td>0.58130</td>\n",
       "      <td>-0.95760</td>\n",
       "      <td>0.11628</td>\n",
       "      <td>-0.040421</td>\n",
       "      <td>0.905790</td>\n",
       "      <td>0.34242</td>\n",
       "      <td>0.041975</td>\n",
       "      <td>-1.100400</td>\n",
       "      <td>-0.797670</td>\n",
       "      <td>0.398550</td>\n",
       "    </tr>\n",
       "    <tr>\n",
       "      <th>10198</th>\n",
       "      <td>0.288050</td>\n",
       "      <td>-1.002900</td>\n",
       "      <td>-0.46950</td>\n",
       "      <td>-1.368300</td>\n",
       "      <td>1.822900</td>\n",
       "      <td>0.31026</td>\n",
       "      <td>-0.268550</td>\n",
       "      <td>-0.65032</td>\n",
       "      <td>-0.55683</td>\n",
       "      <td>-0.69601</td>\n",
       "      <td>...</td>\n",
       "      <td>1.56950</td>\n",
       "      <td>0.10581</td>\n",
       "      <td>0.23206</td>\n",
       "      <td>-0.430860</td>\n",
       "      <td>0.138470</td>\n",
       "      <td>-0.27510</td>\n",
       "      <td>0.628940</td>\n",
       "      <td>-0.245780</td>\n",
       "      <td>1.123200</td>\n",
       "      <td>0.053514</td>\n",
       "    </tr>\n",
       "    <tr>\n",
       "      <th>10199</th>\n",
       "      <td>-0.613220</td>\n",
       "      <td>0.990720</td>\n",
       "      <td>0.17853</td>\n",
       "      <td>1.036200</td>\n",
       "      <td>0.057115</td>\n",
       "      <td>-1.61470</td>\n",
       "      <td>-1.631000</td>\n",
       "      <td>0.53872</td>\n",
       "      <td>0.36720</td>\n",
       "      <td>1.31570</td>\n",
       "      <td>...</td>\n",
       "      <td>-0.72542</td>\n",
       "      <td>0.39775</td>\n",
       "      <td>-1.43480</td>\n",
       "      <td>-0.740550</td>\n",
       "      <td>-0.057339</td>\n",
       "      <td>0.75160</td>\n",
       "      <td>-1.842500</td>\n",
       "      <td>-1.686000</td>\n",
       "      <td>0.359590</td>\n",
       "      <td>-1.050600</td>\n",
       "    </tr>\n",
       "    <tr>\n",
       "      <th>10200</th>\n",
       "      <td>-0.518580</td>\n",
       "      <td>-0.007953</td>\n",
       "      <td>-1.31170</td>\n",
       "      <td>0.129180</td>\n",
       "      <td>-1.144400</td>\n",
       "      <td>-0.32682</td>\n",
       "      <td>-0.612040</td>\n",
       "      <td>-0.37912</td>\n",
       "      <td>0.46488</td>\n",
       "      <td>0.48437</td>\n",
       "      <td>...</td>\n",
       "      <td>0.24322</td>\n",
       "      <td>-1.00340</td>\n",
       "      <td>-0.12906</td>\n",
       "      <td>-0.413630</td>\n",
       "      <td>0.340030</td>\n",
       "      <td>1.81650</td>\n",
       "      <td>-0.397150</td>\n",
       "      <td>-0.150920</td>\n",
       "      <td>1.642200</td>\n",
       "      <td>-1.200300</td>\n",
       "    </tr>\n",
       "    <tr>\n",
       "      <th>10201</th>\n",
       "      <td>0.181750</td>\n",
       "      <td>0.029140</td>\n",
       "      <td>-0.49592</td>\n",
       "      <td>-1.519600</td>\n",
       "      <td>-0.915040</td>\n",
       "      <td>-0.20657</td>\n",
       "      <td>-0.399740</td>\n",
       "      <td>-0.74865</td>\n",
       "      <td>-0.45915</td>\n",
       "      <td>0.57828</td>\n",
       "      <td>...</td>\n",
       "      <td>-0.14954</td>\n",
       "      <td>0.49824</td>\n",
       "      <td>0.23703</td>\n",
       "      <td>-0.489710</td>\n",
       "      <td>-0.760030</td>\n",
       "      <td>0.57017</td>\n",
       "      <td>-0.234040</td>\n",
       "      <td>-0.383730</td>\n",
       "      <td>0.551960</td>\n",
       "      <td>0.103820</td>\n",
       "    </tr>\n",
       "  </tbody>\n",
       "</table>\n",
       "<p>10202 rows × 300 columns</p>\n",
       "</div>"
      ],
      "text/plain": [
       "              0         1        2         3         4        5         6  \\\n",
       "0      0.617940 -0.391980  0.13278  0.032551  0.552010  0.83393 -0.837550   \n",
       "1      0.333860 -1.549100  1.67050  0.793560  0.802510 -0.07206 -0.068276   \n",
       "2      0.040399 -0.608070  1.62080 -0.355970  0.121050  1.35250  0.373200   \n",
       "3      1.723600  0.195290  1.03880 -3.009100 -0.332220  0.91067  0.666690   \n",
       "4     -1.032300  1.900100 -1.46010  0.383710 -0.510390  0.74481 -0.914660   \n",
       "...         ...       ...      ...       ...       ...      ...       ...   \n",
       "10197 -1.251700  1.248800 -0.56923  0.312230 -0.144020  0.21581  1.504400   \n",
       "10198  0.288050 -1.002900 -0.46950 -1.368300  1.822900  0.31026 -0.268550   \n",
       "10199 -0.613220  0.990720  0.17853  1.036200  0.057115 -1.61470 -1.631000   \n",
       "10200 -0.518580 -0.007953 -1.31170  0.129180 -1.144400 -0.32682 -0.612040   \n",
       "10201  0.181750  0.029140 -0.49592 -1.519600 -0.915040 -0.20657 -0.399740   \n",
       "\n",
       "             7        8        9  ...      290      291      292       293  \\\n",
       "0     -0.87406  0.43930  0.26826  ... -0.45454  0.36452  1.57530 -0.620320   \n",
       "1      3.30240  0.52045  0.68572  ... -0.36913  1.74080  1.28660 -0.013396   \n",
       "2      1.11170  0.35894 -0.34410  ... -1.40230 -0.24763  0.50705  0.708220   \n",
       "3      0.71725  3.05850  1.48990  ... -1.21540 -0.25284 -1.30780 -0.445660   \n",
       "4     -0.86588 -0.34426  0.86965  ...  1.32230  0.06020 -1.07900 -0.617050   \n",
       "...        ...      ...      ...  ...      ...      ...      ...       ...   \n",
       "10197 -1.81130 -1.65760 -0.32030  ...  0.58130 -0.95760  0.11628 -0.040421   \n",
       "10198 -0.65032 -0.55683 -0.69601  ...  1.56950  0.10581  0.23206 -0.430860   \n",
       "10199  0.53872  0.36720  1.31570  ... -0.72542  0.39775 -1.43480 -0.740550   \n",
       "10200 -0.37912  0.46488  0.48437  ...  0.24322 -1.00340 -0.12906 -0.413630   \n",
       "10201 -0.74865 -0.45915  0.57828  ... -0.14954  0.49824  0.23703 -0.489710   \n",
       "\n",
       "            294      295       296       297       298       299  \n",
       "0     -0.253710 -0.44775 -0.038273 -0.019938 -0.195500  0.428830  \n",
       "1     -1.539300  0.83354  0.472610  0.513030 -0.743140  1.219900  \n",
       "2     -0.600830  0.91104  0.009979 -0.475990 -0.094731 -0.008521  \n",
       "3      0.279180  0.26467 -0.149360  1.492900 -1.176700 -1.854500  \n",
       "4      1.184500 -0.21063 -0.105870 -0.412040  1.409700  0.133350  \n",
       "...         ...      ...       ...       ...       ...       ...  \n",
       "10197  0.905790  0.34242  0.041975 -1.100400 -0.797670  0.398550  \n",
       "10198  0.138470 -0.27510  0.628940 -0.245780  1.123200  0.053514  \n",
       "10199 -0.057339  0.75160 -1.842500 -1.686000  0.359590 -1.050600  \n",
       "10200  0.340030  1.81650 -0.397150 -0.150920  1.642200 -1.200300  \n",
       "10201 -0.760030  0.57017 -0.234040 -0.383730  0.551960  0.103820  \n",
       "\n",
       "[10202 rows x 300 columns]"
      ]
     },
     "execution_count": 16,
     "metadata": {},
     "output_type": "execute_result"
    }
   ],
   "source": [
    "X_train"
   ]
  },
  {
   "cell_type": "code",
   "execution_count": 17,
   "id": "78df4a84",
   "metadata": {},
   "outputs": [
    {
     "data": {
      "text/html": [
       "<div>\n",
       "<style scoped>\n",
       "    .dataframe tbody tr th:only-of-type {\n",
       "        vertical-align: middle;\n",
       "    }\n",
       "\n",
       "    .dataframe tbody tr th {\n",
       "        vertical-align: top;\n",
       "    }\n",
       "\n",
       "    .dataframe thead th {\n",
       "        text-align: right;\n",
       "    }\n",
       "</style>\n",
       "<table border=\"1\" class=\"dataframe\">\n",
       "  <thead>\n",
       "    <tr style=\"text-align: right;\">\n",
       "      <th></th>\n",
       "      <th>label</th>\n",
       "    </tr>\n",
       "  </thead>\n",
       "  <tbody>\n",
       "    <tr>\n",
       "      <th>0</th>\n",
       "      <td>10</td>\n",
       "    </tr>\n",
       "    <tr>\n",
       "      <th>1</th>\n",
       "      <td>5</td>\n",
       "    </tr>\n",
       "    <tr>\n",
       "      <th>2</th>\n",
       "      <td>5</td>\n",
       "    </tr>\n",
       "    <tr>\n",
       "      <th>3</th>\n",
       "      <td>5</td>\n",
       "    </tr>\n",
       "    <tr>\n",
       "      <th>4</th>\n",
       "      <td>5</td>\n",
       "    </tr>\n",
       "    <tr>\n",
       "      <th>...</th>\n",
       "      <td>...</td>\n",
       "    </tr>\n",
       "    <tr>\n",
       "      <th>10197</th>\n",
       "      <td>12</td>\n",
       "    </tr>\n",
       "    <tr>\n",
       "      <th>10198</th>\n",
       "      <td>8</td>\n",
       "    </tr>\n",
       "    <tr>\n",
       "      <th>10199</th>\n",
       "      <td>27</td>\n",
       "    </tr>\n",
       "    <tr>\n",
       "      <th>10200</th>\n",
       "      <td>18</td>\n",
       "    </tr>\n",
       "    <tr>\n",
       "      <th>10201</th>\n",
       "      <td>21</td>\n",
       "    </tr>\n",
       "  </tbody>\n",
       "</table>\n",
       "<p>10202 rows × 1 columns</p>\n",
       "</div>"
      ],
      "text/plain": [
       "       label\n",
       "0         10\n",
       "1          5\n",
       "2          5\n",
       "3          5\n",
       "4          5\n",
       "...      ...\n",
       "10197     12\n",
       "10198      8\n",
       "10199     27\n",
       "10200     18\n",
       "10201     21\n",
       "\n",
       "[10202 rows x 1 columns]"
      ]
     },
     "execution_count": 17,
     "metadata": {},
     "output_type": "execute_result"
    }
   ],
   "source": [
    "y_train"
   ]
  },
  {
   "cell_type": "code",
   "execution_count": null,
   "id": "352da18a",
   "metadata": {},
   "outputs": [],
   "source": [
    "# Feature Selection"
   ]
  },
  {
   "cell_type": "code",
   "execution_count": null,
   "id": "3edb8f3a",
   "metadata": {},
   "outputs": [],
   "source": [
    "# IOR "
   ]
  },
  {
   "cell_type": "code",
   "execution_count": 19,
   "id": "d7c6eebf",
   "metadata": {},
   "outputs": [
    {
     "name": "stderr",
     "output_type": "stream",
     "text": [
      "Evaluating top-K: 100%|██████████| 300/300 [13:00<00:00,  2.60s/it]\n"
     ]
    },
    {
     "data": {
      "image/png": "[encoded data removed]",
      "text/plain": [
       "<Figure size 800x500 with 1 Axes>"
      ]
     },
     "metadata": {},
     "output_type": "display_data"
    },
    {
     "name": "stdout",
     "output_type": "stream",
     "text": [
      "\n",
      "The best k = 260, and its Weighted F1-score on val dataset is 0.7464\n"
     ]
    }
   ],
   "source": [
    "# === 0. 划分子训练集 & 验证集（从原始训练集中抽出 20% 作为验证集） ===\n",
    "X_train_sub, X_val, y_train_sub, y_val = train_test_split(\n",
    "    X_train, y_train, test_size=0.2, stratify=y_train, random_state=42\n",
    ")\n",
    "\n",
    "# === 3. 对子训练集 & 验证集同时做 IQR + RobustScaler ===\n",
    "X_tr_capped = winsorize_iqr(X_train_sub)\n",
    "X_val_capped = winsorize_iqr(X_val)\n",
    "\n",
    "scaler = RobustScaler()\n",
    "X_tr_scaled  = pd.DataFrame(scaler.fit_transform(X_tr_capped),\n",
    "                            columns=X_tr_capped.columns)\n",
    "X_val_scaled = pd.DataFrame(scaler.transform(X_val_capped),\n",
    "                            columns=X_val_capped.columns)\n",
    "\n",
    "# === 4. iOR 排序 + Top‑K 特征选择 & 验证集评估 ===\n",
    "ior_scores   = compute_ior(X_tr_scaled, y_train_sub)\n",
    "feature_rank = np.argsort(ior_scores)[::-1]\n",
    "\n",
    "k_list  = list(range(1,301))\n",
    "results = []\n",
    "\n",
    "for k in tqdm(k_list, desc=\"Evaluating top-K\"):\n",
    "    cols_k   = X_tr_scaled.columns[feature_rank[:k]]\n",
    "    Xk_tr    = X_tr_scaled[cols_k]\n",
    "    Xk_val   = X_val_scaled[cols_k]\n",
    "\n",
    "    model = XGBClassifier(\n",
    "        objective='multi:softprob',\n",
    "        num_class=28,\n",
    "        eval_metric='mlogloss',\n",
    "        n_estimators=100,\n",
    "        random_state=42,\n",
    "        tree_method='hist',\n",
    "        device='cuda'\n",
    "    )\n",
    "    model.fit(Xk_tr, y_train_sub.values.ravel())\n",
    "    y_pred = model.predict(Xk_val)\n",
    "\n",
    "    f1 = f1_score(y_val, y_pred, average='weighted')\n",
    "    results.append((k, f1))\n",
    "\n",
    "# === 5. 可视化 Top‑K vs F1 曲线 ===\n",
    "ks, f1s = zip(*results)\n",
    "plt.figure(figsize=(8,5))\n",
    "plt.plot(ks, f1s, marker='o')\n",
    "plt.xlabel(\"Top K Features\")\n",
    "plt.ylabel(\"Weighted F1 on Validation\")\n",
    "plt.title(\"iOR + IQR + RobustScaler: Top-K Performance (Validation)\")\n",
    "plt.grid(True)\n",
    "plt.tight_layout()\n",
    "plt.show()\n",
    "\n",
    "# === 6. 输出最优 k & F1 ===\n",
    "best_k, best_f1 = max(results, key=lambda x: x[1])\n",
    "print(f\"\\nThe best k = {best_k}, and its Weighted F1-score on val dataset is {best_f1:.4f}\")"
   ]
  },
  {
   "cell_type": "code",
   "execution_count": 5,
   "id": "641ec1dc",
   "metadata": {},
   "outputs": [
    {
     "name": "stdout",
     "output_type": "stream",
     "text": [
      "Top 260 Features by improved Odds Ratio (iOR) from validation set:\n",
      "    Feature  iOR_score\n",
      "0       270  12.295900\n",
      "1        90  11.882501\n",
      "2        17  11.386964\n",
      "3       218  11.291448\n",
      "4       111  11.187706\n",
      "..      ...        ...\n",
      "255      82   4.483097\n",
      "256     297   4.454953\n",
      "257     267   4.452102\n",
      "258     195   4.416752\n",
      "259     199   4.399477\n",
      "\n",
      "[260 rows x 2 columns]\n"
     ]
    }
   ],
   "source": [
    "# === 0. 划分训练集与验证集 ===\n",
    "X_train_sub, X_val, y_train_sub, y_val = train_test_split(\n",
    "    X_train, y_train, test_size=0.2, stratify=y_train, random_state=42\n",
    ")\n",
    "\n",
    "# === 1. IQR 裁剪 ===\n",
    "X_train_sub_capped = winsorize_iqr(X_train_sub)\n",
    "X_val_capped = winsorize_iqr(X_val)\n",
    "\n",
    "# === 2. 鲁棒缩放 ===\n",
    "scaler = RobustScaler()\n",
    "X_train_sub_scaled = pd.DataFrame(scaler.fit_transform(X_train_sub_capped), columns=X_train_sub.columns)\n",
    "X_val_scaled = pd.DataFrame(scaler.transform(X_val_capped), columns=X_val.columns)\n",
    "\n",
    "# === 3. 计算 iOR 分数（仅用子训练集）===\n",
    "ior_scores = compute_ior(X_train_sub_scaled, y_train_sub)\n",
    "\n",
    "# === 4. 构建 iOR 排名表 ===\n",
    "ior_df = pd.DataFrame({\n",
    "    'Feature': X_train_sub_scaled.columns,\n",
    "    'iOR_score': ior_scores\n",
    "}).sort_values(by='iOR_score', ascending=False).reset_index(drop=True)\n",
    "\n",
    "# === 5. 设置最佳特征数量（使用前面验证得到的 k）===\n",
    "k = 260\n",
    "top_features_df = ior_df.head(k)\n",
    "selected_columns = top_features_df['Feature'].tolist()\n",
    "\n",
    "# === 6. 筛选特征（子训练集 & 验证集）===\n",
    "X_train_selected = X_train_sub_scaled[selected_columns]\n",
    "X_val_selected = X_val_scaled[selected_columns]\n",
    "\n",
    "# === 7. 打印 Top‑K 特征 ===\n",
    "print(f\"Top {k} Features by improved Odds Ratio (iOR) from validation set:\")\n",
    "print(top_features_df)"
   ]
  },
  {
   "cell_type": "code",
   "execution_count": null,
   "id": "f2744a5f",
   "metadata": {},
   "outputs": [],
   "source": [
    "# SelectKBest"
   ]
  },
  {
   "cell_type": "code",
   "execution_count": 21,
   "id": "516d7034",
   "metadata": {},
   "outputs": [
    {
     "name": "stderr",
     "output_type": "stream",
     "text": [
      "Evaluating SelectKBest(f_classif) on val: 100%|██████████| 300/300 [12:49<00:00,  2.57s/it]\n"
     ]
    },
    {
     "data": {
      "image/png": "[encoded data removed]",
      "text/plain": [
       "<Figure size 800x500 with 1 Axes>"
      ]
     },
     "metadata": {},
     "output_type": "display_data"
    },
    {
     "name": "stdout",
     "output_type": "stream",
     "text": [
      "\n",
      " The best k = 285, and its Weighted F1-score on validation set is 0.7441\n"
     ]
    }
   ],
   "source": [
    "# === Step 0: 划分子训练集与验证集 ===\n",
    "X_train_sub, X_val, y_train_sub, y_val = train_test_split(\n",
    "    X_train, y_train, test_size=0.2, stratify=y_train, random_state=42\n",
    ")\n",
    "\n",
    "# === Step 1: 离群值裁剪（IQR）===\n",
    "X_train_sub_capped = winsorize_iqr(X_train_sub)\n",
    "X_val_capped = winsorize_iqr(X_val)\n",
    "\n",
    "# === Step 2: 鲁棒标准化（RobustScaler）===\n",
    "scaler = RobustScaler()\n",
    "X_train_sub_scaled = pd.DataFrame(scaler.fit_transform(X_train_sub_capped),\n",
    "                                  columns=X_train_sub.columns)\n",
    "X_val_scaled = pd.DataFrame(scaler.transform(X_val_capped),\n",
    "                            columns=X_val.columns)\n",
    "\n",
    "# === Step 3: 特征选择 + 验证集评估 ===\n",
    "k_list = list(range(1, 301))\n",
    "results = []\n",
    "\n",
    "for k in tqdm(k_list, desc=\"Evaluating SelectKBest(f_classif) on val\"):\n",
    "    selector = SelectKBest(score_func=f_classif, k=k)\n",
    "    Xk_train = selector.fit_transform(X_train_sub_scaled, y_train_sub.values.ravel())\n",
    "    Xk_val   = selector.transform(X_val_scaled)\n",
    "\n",
    "    model = XGBClassifier(\n",
    "        objective='multi:softprob',\n",
    "        num_class=28,\n",
    "        eval_metric='mlogloss',\n",
    "        n_estimators=100,\n",
    "        random_state=42,\n",
    "        tree_method='hist',\n",
    "        device='cuda'\n",
    "    )\n",
    "    model.fit(Xk_train, y_train_sub.values.ravel())\n",
    "    y_pred = model.predict(Xk_val)\n",
    "\n",
    "    f1 = f1_score(y_val, y_pred, average='weighted')\n",
    "    results.append((k, f1))\n",
    "\n",
    "# === Step 4: 可视化 Top‑K vs 验证集 F1 ===\n",
    "ks, f1s = zip(*results)\n",
    "plt.figure(figsize=(8, 5))\n",
    "plt.plot(ks, f1s, marker='o')\n",
    "plt.xlabel(\"Top K Features\")\n",
    "plt.ylabel(\"Weighted F1 on Validation\")\n",
    "plt.title(\"SelectKBest(f_classif) + IQR + RobustScaler: Top-K Performance\")\n",
    "plt.grid(True)\n",
    "plt.tight_layout()\n",
    "plt.show()\n",
    "\n",
    "# === Step 5: 输出最佳 k 和 F1 ===\n",
    "best_k, best_f1 = max(results, key=lambda x: x[1])\n",
    "print(f\"\\n The best k = {best_k}, and its Weighted F1-score on validation set is {best_f1:.4f}\")"
   ]
  },
  {
   "cell_type": "code",
   "execution_count": 6,
   "id": "bf3204e5",
   "metadata": {},
   "outputs": [
    {
     "name": "stdout",
     "output_type": "stream",
     "text": [
      "Top 285 Features by F-test (ANOVA F-test) from validation set:\n",
      "    Feature     F_score       p_value\n",
      "0        48  263.963215  0.000000e+00\n",
      "1        17  234.913442  0.000000e+00\n",
      "2       270  227.689525  0.000000e+00\n",
      "3       263  225.054653  0.000000e+00\n",
      "4        90  211.728113  0.000000e+00\n",
      "..      ...         ...           ...\n",
      "280      68   13.858763  3.329797e-61\n",
      "281     127   13.633100  5.046674e-60\n",
      "282       1   13.442293  5.021191e-59\n",
      "283     273   13.380027  1.062498e-58\n",
      "284      57   13.293198  3.021242e-58\n",
      "\n",
      "[285 rows x 3 columns]\n"
     ]
    }
   ],
   "source": [
    "# === 0. 划分训练子集与验证集 ===\n",
    "X_train_sub, X_val, y_train_sub, y_val = train_test_split(\n",
    "    X_train, y_train, test_size=0.2, stratify=y_train, random_state=42\n",
    ")\n",
    "\n",
    "# === 1. 离群值裁剪（IQR）===\n",
    "X_train_sub_capped = winsorize_iqr(X_train_sub)\n",
    "X_val_capped = winsorize_iqr(X_val)\n",
    "\n",
    "# === 2. 鲁棒缩放 ===\n",
    "scaler = RobustScaler()\n",
    "X_train_sub_scaled = pd.DataFrame(scaler.fit_transform(X_train_sub_capped), columns=X_train_sub.columns)\n",
    "X_val_scaled = pd.DataFrame(scaler.transform(X_val_capped), columns=X_val.columns)\n",
    "\n",
    "# === 3. 使用 SelectKBest(f_classif) 进行特征打分与选择 ===\n",
    "k = 285  # 设置选择的特征数量\n",
    "selector = SelectKBest(score_func=f_classif, k=k)\n",
    "selector.fit(X_train_sub_scaled, y_train_sub.values.ravel())\n",
    "\n",
    "# === 4. 获取每个特征的 F 分数和 p 值 ===\n",
    "f_scores = selector.scores_\n",
    "p_values = selector.pvalues_\n",
    "\n",
    "# === 5. 构建特征打分表 ===\n",
    "feature_scores_df = pd.DataFrame({\n",
    "    'Feature': X_train_sub_scaled.columns,\n",
    "    'F_score': f_scores,\n",
    "    'p_value': p_values\n",
    "}).sort_values(by='F_score', ascending=False).reset_index(drop=True)\n",
    "\n",
    "# === 6. 选出 Top-K 特征列名 ===\n",
    "top_features_df = feature_scores_df.head(k)\n",
    "selected_columns = top_features_df['Feature'].tolist()\n",
    "\n",
    "# === 7. 筛选子训练集和验证集特征列 ===\n",
    "X_train_ftest = X_train_sub_scaled[selected_columns]\n",
    "X_val_ftest = X_val_scaled[selected_columns]\n",
    "\n",
    "# === 8. 打印结果 ===\n",
    "print(f\"Top {k} Features by F-test (ANOVA F-test) from validation set:\")\n",
    "print(top_features_df)"
   ]
  },
  {
   "cell_type": "code",
   "execution_count": null,
   "id": "604b885c",
   "metadata": {},
   "outputs": [],
   "source": [
    "# Fisher Score"
   ]
  },
  {
   "cell_type": "code",
   "execution_count": 23,
   "id": "6e2afafb",
   "metadata": {},
   "outputs": [
    {
     "name": "stderr",
     "output_type": "stream",
     "text": [
      "Evaluating Top-K (Fisher Score) on Validation: 100%|██████████| 300/300 [13:00<00:00,  2.60s/it]\n"
     ]
    },
    {
     "data": {
      "image/png": "[encoded data removed]",
      "text/plain": [
       "<Figure size 800x500 with 1 Axes>"
      ]
     },
     "metadata": {},
     "output_type": "display_data"
    },
    {
     "name": "stdout",
     "output_type": "stream",
     "text": [
      "\n",
      " The best k is 289, and its weighted F1-score on validation set is 0.7459\n"
     ]
    }
   ],
   "source": [
    "# === Step 0: 划分子训练集与验证集 ===\n",
    "X_train_sub, X_val, y_train_sub, y_val = train_test_split(\n",
    "    X_train, y_train, test_size=0.2, stratify=y_train, random_state=42\n",
    ")\n",
    "\n",
    "# === Step 2: Fisher Score 实现 ===\n",
    "def fisher_score(X, y):\n",
    "    y = y.values.ravel()\n",
    "    overall_mean = X.mean(axis=0)\n",
    "    classes = np.unique(y)\n",
    "\n",
    "    numerator = np.zeros(X.shape[1])\n",
    "    denominator = np.zeros(X.shape[1])\n",
    "\n",
    "    for cls in classes:\n",
    "        idx = (y == cls)\n",
    "        n_c = np.sum(idx)\n",
    "        if n_c == 0:\n",
    "            continue\n",
    "        class_mean = X[idx].mean(axis=0)\n",
    "        class_var = X[idx].var(axis=0) + 1e-8  # 避免除以0\n",
    "        numerator += n_c * (class_mean - overall_mean) ** 2\n",
    "        denominator += n_c * class_var\n",
    "\n",
    "    scores = numerator / denominator\n",
    "    return scores\n",
    "\n",
    "# === Step 3: IQR + RobustScaler ===\n",
    "X_train_sub_capped = winsorize_iqr(X_train_sub)\n",
    "X_val_capped = winsorize_iqr(X_val)\n",
    "\n",
    "scaler = RobustScaler()\n",
    "X_train_sub_scaled = pd.DataFrame(scaler.fit_transform(X_train_sub_capped),\n",
    "                                  columns=X_train_sub.columns)\n",
    "X_val_scaled = pd.DataFrame(scaler.transform(X_val_capped),\n",
    "                            columns=X_val.columns)\n",
    "\n",
    "# === Step 4: Fisher Score 计算 + Top-K 特征评估 ===\n",
    "k_list = list(range(1, 301))\n",
    "results = []\n",
    "\n",
    "fisher_scores = fisher_score(X_train_sub_scaled, y_train_sub)\n",
    "feature_ranks = np.argsort(fisher_scores)[::-1]  # 降序排列\n",
    "\n",
    "for k in tqdm(k_list, desc=\"Evaluating Top-K (Fisher Score) on Validation\"):\n",
    "    selected_indices = feature_ranks[:k]\n",
    "    selected_cols = X_train_sub_scaled.columns[selected_indices]\n",
    "\n",
    "    Xk_train = X_train_sub_scaled[selected_cols]\n",
    "    Xk_val   = X_val_scaled[selected_cols]\n",
    "\n",
    "    model = XGBClassifier(\n",
    "        objective='multi:softprob',\n",
    "        num_class=28,\n",
    "        eval_metric='mlogloss',\n",
    "        n_estimators=100,\n",
    "        random_state=42,\n",
    "        tree_method='hist',\n",
    "        device='cuda'\n",
    "    )\n",
    "    model.fit(Xk_train, y_train_sub.values.ravel())\n",
    "    y_pred = model.predict(Xk_val)\n",
    "\n",
    "    f1 = f1_score(y_val, y_pred, average='weighted')\n",
    "    results.append((k, f1))\n",
    "\n",
    "# === Step 5: 可视化 Top-K vs 验证集 F1 ===\n",
    "k_vals, f1_vals = zip(*results)\n",
    "plt.figure(figsize=(8, 5))\n",
    "plt.plot(k_vals, f1_vals, marker='o')\n",
    "plt.xlabel(\"Top K Features\")\n",
    "plt.ylabel(\"Weighted F1 on Validation Set\")\n",
    "plt.title(\"Fisher Score + IQR + RobustScaler: Top-K Performance\")\n",
    "plt.grid(True)\n",
    "plt.tight_layout()\n",
    "plt.show()\n",
    "\n",
    "# === Step 6: 输出最优 K 和对应的验证集 F1 ===\n",
    "best_k, best_f1 = max(results, key=lambda x: x[1])\n",
    "print(f\"\\n The best k is {best_k}, and its weighted F1-score on validation set is {best_f1:.4f}\")\n"
   ]
  },
  {
   "cell_type": "code",
   "execution_count": 7,
   "id": "7726a253",
   "metadata": {},
   "outputs": [
    {
     "name": "stdout",
     "output_type": "stream",
     "text": [
      "\n",
      "Top 289 Features by Fisher Score (from validation set split):\n",
      "    Feature  Fisher_Score\n",
      "0        48      0.876307\n",
      "1        17      0.779868\n",
      "2       270      0.755886\n",
      "3       263      0.747138\n",
      "4        90      0.702897\n",
      "..      ...           ...\n",
      "284      57      0.044131\n",
      "285      40      0.041735\n",
      "286      42      0.040890\n",
      "287     137      0.040572\n",
      "288     288      0.039718\n",
      "\n",
      "[289 rows x 2 columns]\n"
     ]
    }
   ],
   "source": [
    "# === Step 0: 划分训练子集与验证集 ===\n",
    "X_train_sub, X_val, y_train_sub, y_val = train_test_split(\n",
    "    X_train, y_train, test_size=0.2, stratify=y_train, random_state=42\n",
    ")\n",
    "\n",
    "# === Step 1: 离群值裁剪（IQR）===\n",
    "def winsorize_iqr(df, lower=1.5, upper=1.5):\n",
    "    df_capped = df.copy()\n",
    "    for col in df.columns:\n",
    "        Q1 = df[col].quantile(0.25)\n",
    "        Q3 = df[col].quantile(0.75)\n",
    "        IQR = Q3 - Q1\n",
    "        lower_bound = Q1 - lower * IQR\n",
    "        upper_bound = Q3 + upper * IQR\n",
    "        df_capped[col] = df[col].clip(lower=lower_bound, upper=upper_bound)\n",
    "    return df_capped\n",
    "\n",
    "X_train_sub_capped = winsorize_iqr(X_train_sub)\n",
    "X_val_capped = winsorize_iqr(X_val)\n",
    "\n",
    "# === Step 2: 鲁棒标准化 ===\n",
    "scaler = RobustScaler()\n",
    "X_train_sub_scaled = pd.DataFrame(scaler.fit_transform(X_train_sub_capped), columns=X_train_sub.columns)\n",
    "X_val_scaled = pd.DataFrame(scaler.transform(X_val_capped), columns=X_val.columns)\n",
    "\n",
    "# === Step 3: 自定义 Fisher Score 函数 ===\n",
    "def fisher_score_manual(X, y):\n",
    "    X = np.asarray(X)\n",
    "    y = np.asarray(y)\n",
    "    classes = np.unique(y)\n",
    "    n_features = X.shape[1]\n",
    "    scores = np.zeros(n_features)\n",
    "\n",
    "    overall_mean = X.mean(axis=0)\n",
    "\n",
    "    for j in range(n_features):\n",
    "        num = 0.0\n",
    "        denom = 0.0\n",
    "        for c in classes:\n",
    "            X_c = X[y == c, j]\n",
    "            n_c = X_c.shape[0]\n",
    "            mu_c = np.mean(X_c)\n",
    "            var_c = np.var(X_c)\n",
    "            num += n_c * (mu_c - overall_mean[j]) ** 2\n",
    "            denom += n_c * var_c\n",
    "        scores[j] = num / (denom + 1e-8)  # 防止除以 0\n",
    "    return scores\n",
    "\n",
    "# === Step 4: 设置选择的特征数量 ===\n",
    "k = 289\n",
    "\n",
    "# === Step 5: 计算 Fisher Score 并选择前 k 个特征（仅用训练子集）===\n",
    "fisher_scores = fisher_score_manual(X_train_sub_scaled.values, y_train_sub.values.ravel())\n",
    "feature_ranks = np.argsort(fisher_scores)[::-1]\n",
    "top_indices = feature_ranks[:k]\n",
    "top_columns = X_train_sub_scaled.columns[top_indices]\n",
    "\n",
    "# === Step 6: 筛选子训练集 & 验证集中的特征列 ===\n",
    "X_train_fisher = X_train_sub_scaled[top_columns]\n",
    "X_val_fisher = X_val_scaled[top_columns]\n",
    "\n",
    "# === Step 7: 构造评分表输出 ===\n",
    "feature_scores_df = pd.DataFrame({\n",
    "    'Feature': X_train_sub_scaled.columns,\n",
    "    'Fisher_Score': fisher_scores\n",
    "})\n",
    "top_features_df = feature_scores_df.sort_values(by='Fisher_Score', ascending=False).head(k).reset_index(drop=True)\n",
    "\n",
    "# === Step 8: 打印结果 ===\n",
    "print(f\"\\nTop {k} Features by Fisher Score (from validation set split):\")\n",
    "print(top_features_df)"
   ]
  },
  {
   "cell_type": "code",
   "execution_count": 8,
   "id": "2f734f88",
   "metadata": {},
   "outputs": [
    {
     "name": "stdout",
     "output_type": "stream",
     "text": [
      "\n",
      "[XGBoost] Feature Selection: IOR\n"
     ]
    },
    {
     "name": "stderr",
     "output_type": "stream",
     "text": [
      "/root/miniconda3/lib/python3.10/site-packages/xgboost/core.py:729: UserWarning: [23:23:39] WARNING: /workspace/src/common/error_msg.cc:58: Falling back to prediction using DMatrix due to mismatched devices. This might lead to higher memory usage and slower performance. XGBoost is running on: cuda:0, while the input data is on: cpu.\n",
      "Potential solutions:\n",
      "- Use a data structure that matches the device ordinal in the booster.\n",
      "- Set the device for booster before call to inplace_predict.\n",
      "\n",
      "This warning will only be shown once.\n",
      "\n",
      "  return func(**kwargs)\n"
     ]
    },
    {
     "name": "stdout",
     "output_type": "stream",
     "text": [
      "\n",
      "[XGBoost] Feature Selection: F-test\n",
      "\n",
      "[XGBoost] Feature Selection: Fisher Score\n",
      "\n",
      "=== XGBoost Evaluation Results on Validation Set ===\n",
      "  Feature Selection  F1_macro  F1_weighted  Log_loss  Weighted_Log_Loss\n",
      "0               IOR    0.4241       0.7448    0.9971             0.0094\n",
      "1            F-test    0.4138       0.7363    1.0174             0.0091\n",
      "2      Fisher Score    0.4389       0.7437    0.9888             0.0091\n"
     ]
    }
   ],
   "source": [
    "# === Weighted Log Loss 实现 ===\n",
    "def weighted_log_loss(y_true, y_pred_proba):\n",
    "    class_counts = np.sum(y_true, axis=0)\n",
    "    class_weights = 1.0 / (class_counts + 1e-8)\n",
    "    class_weights /= np.sum(class_weights)\n",
    "\n",
    "    sample_weights = np.sum(y_true * class_weights, axis=1)\n",
    "    sample_losses = -np.sum(y_true * np.log(y_pred_proba + 1e-8), axis=1)\n",
    "    weighted_loss = np.mean(sample_weights * sample_losses)\n",
    "    return weighted_loss\n",
    "\n",
    "# === 特征集合（训练子集 & 验证集，统一评估）===\n",
    "feature_sets = {\n",
    "    \"IOR\": (X_train_selected, X_val_selected),\n",
    "    \"F-test\": (X_train_ftest, X_val_ftest),\n",
    "    \"Fisher Score\": (X_train_fisher, X_val_fisher)\n",
    "}\n",
    "\n",
    "results_xgb = []\n",
    "\n",
    "for name, (X_subtrain, X_val) in feature_sets.items():\n",
    "    print(f\"\\n[XGBoost] Feature Selection: {name}\")\n",
    "\n",
    "    # = 1. 可选 Winsorize（如之前已处理，此步可跳过） =\n",
    "    X_subtrain = winsorize_iqr(X_subtrain)\n",
    "    X_val = winsorize_iqr(X_val)\n",
    "\n",
    "    # = 2. Robust Scaling =\n",
    "    scaler = RobustScaler()\n",
    "    X_subtrain_scaled = scaler.fit_transform(X_subtrain)\n",
    "    X_val_scaled = scaler.transform(X_val)\n",
    "\n",
    "    # = 3. SMOTE 过采样（用于训练子集）=\n",
    "    smote = SMOTE(random_state=42, k_neighbors=3)\n",
    "    X_subtrain_res, y_subtrain_res = smote.fit_resample(X_subtrain_scaled, y_train_sub)\n",
    "\n",
    "    # = 4. 训练 XGBoost 模型 =\n",
    "    model = XGBClassifier(\n",
    "        objective='multi:softprob',\n",
    "        num_class=28,\n",
    "        eval_metric='mlogloss',\n",
    "        n_estimators=100,\n",
    "        random_state=42,\n",
    "        tree_method='hist',\n",
    "        device='cuda'\n",
    "    )\n",
    "    model.fit(X_subtrain_res, y_subtrain_res)\n",
    "\n",
    "    # = 5. 验证集预测 =\n",
    "    y_val_pred = model.predict(X_val_scaled)\n",
    "    y_val_proba = model.predict_proba(X_val_scaled)\n",
    "\n",
    "    # = 6. One-hot 编码 y_val =\n",
    "    lb = LabelBinarizer()\n",
    "    lb.fit(range(28))\n",
    "    y_val_onehot = lb.transform(y_val)\n",
    "    if y_val_onehot.shape[1] == 1:  # 防止维度问题\n",
    "        y_val_onehot = np.hstack([1 - y_val_onehot, y_val_onehot])\n",
    "\n",
    "    # = 7. 汇总结果 =\n",
    "    results_xgb.append({\n",
    "        \"Feature Selection\": name,\n",
    "        \"F1_macro\": round(f1_score(y_val, y_val_pred, average='macro', zero_division=0), 4),\n",
    "        \"F1_weighted\": round(f1_score(y_val, y_val_pred, average='weighted', zero_division=0), 4),\n",
    "        \"Log_loss\": round(log_loss(y_val, y_val_proba), 4),\n",
    "        \"Weighted_Log_Loss\": round(weighted_log_loss(y_val_onehot, y_val_proba), 4)\n",
    "    })\n",
    "\n",
    "# === 最终评估结果表格输出 ===\n",
    "df_xgb = pd.DataFrame(results_xgb)\n",
    "print(\"\\n=== XGBoost Evaluation Results on Validation Set ===\")\n",
    "print(df_xgb)"
   ]
  },
  {
   "cell_type": "code",
   "execution_count": 26,
   "id": "5c59443d",
   "metadata": {},
   "outputs": [
    {
     "name": "stdout",
     "output_type": "stream",
     "text": [
      "\n",
      "=== Stage 1 Hyperparameter Tuning ===\n",
      "Fitting 5 folds for each of 20 candidates, totalling 100 fits\n"
     ]
    },
    {
     "name": "stderr",
     "output_type": "stream",
     "text": [
      "/root/miniconda3/lib/python3.10/site-packages/xgboost/core.py:729: UserWarning: [15:15:18] WARNING: /workspace/src/common/error_msg.cc:58: Falling back to prediction using DMatrix due to mismatched devices. This might lead to higher memory usage and slower performance. XGBoost is running on: cuda:0, while the input data is on: cpu.\n",
      "Potential solutions:\n",
      "- Use a data structure that matches the device ordinal in the booster.\n",
      "- Set the device for booster before call to inplace_predict.\n",
      "\n",
      "This warning will only be shown once.\n",
      "\n",
      "  return func(**kwargs)\n"
     ]
    },
    {
     "name": "stdout",
     "output_type": "stream",
     "text": [
      "[CV] END ...............learning_rate=0.01, n_estimators=100; total time= 3.0min\n"
     ]
    },
    {
     "name": "stderr",
     "output_type": "stream",
     "text": [
      "/root/miniconda3/lib/python3.10/site-packages/xgboost/core.py:729: UserWarning: [15:15:26] WARNING: /workspace/src/common/error_msg.cc:58: Falling back to prediction using DMatrix due to mismatched devices. This might lead to higher memory usage and slower performance. XGBoost is running on: cuda:0, while the input data is on: cpu.\n",
      "Potential solutions:\n",
      "- Use a data structure that matches the device ordinal in the booster.\n",
      "- Set the device for booster before call to inplace_predict.\n",
      "\n",
      "This warning will only be shown once.\n",
      "\n",
      "  return func(**kwargs)\n"
     ]
    },
    {
     "name": "stdout",
     "output_type": "stream",
     "text": [
      "[CV] END ...............learning_rate=0.01, n_estimators=100; total time= 3.1min\n"
     ]
    },
    {
     "name": "stderr",
     "output_type": "stream",
     "text": [
      "/root/miniconda3/lib/python3.10/site-packages/xgboost/core.py:729: UserWarning: [15:15:28] WARNING: /workspace/src/common/error_msg.cc:58: Falling back to prediction using DMatrix due to mismatched devices. This might lead to higher memory usage and slower performance. XGBoost is running on: cuda:0, while the input data is on: cpu.\n",
      "Potential solutions:\n",
      "- Use a data structure that matches the device ordinal in the booster.\n",
      "- Set the device for booster before call to inplace_predict.\n",
      "\n",
      "This warning will only be shown once.\n",
      "\n",
      "  return func(**kwargs)\n"
     ]
    },
    {
     "name": "stdout",
     "output_type": "stream",
     "text": [
      "[CV] END ...............learning_rate=0.01, n_estimators=100; total time= 3.1min\n"
     ]
    },
    {
     "name": "stderr",
     "output_type": "stream",
     "text": [
      "/root/miniconda3/lib/python3.10/site-packages/xgboost/core.py:729: UserWarning: [15:15:29] WARNING: /workspace/src/common/error_msg.cc:58: Falling back to prediction using DMatrix due to mismatched devices. This might lead to higher memory usage and slower performance. XGBoost is running on: cuda:0, while the input data is on: cpu.\n",
      "Potential solutions:\n",
      "- Use a data structure that matches the device ordinal in the booster.\n",
      "- Set the device for booster before call to inplace_predict.\n",
      "\n",
      "This warning will only be shown once.\n",
      "\n",
      "  return func(**kwargs)\n"
     ]
    },
    {
     "name": "stdout",
     "output_type": "stream",
     "text": [
      "[CV] END ...............learning_rate=0.01, n_estimators=100; total time= 3.1min\n"
     ]
    },
    {
     "name": "stderr",
     "output_type": "stream",
     "text": [
      "/root/miniconda3/lib/python3.10/site-packages/xgboost/core.py:729: UserWarning: [15:15:30] WARNING: /workspace/src/common/error_msg.cc:58: Falling back to prediction using DMatrix due to mismatched devices. This might lead to higher memory usage and slower performance. XGBoost is running on: cuda:0, while the input data is on: cpu.\n",
      "Potential solutions:\n",
      "- Use a data structure that matches the device ordinal in the booster.\n",
      "- Set the device for booster before call to inplace_predict.\n",
      "\n",
      "This warning will only be shown once.\n",
      "\n",
      "  return func(**kwargs)\n"
     ]
    },
    {
     "name": "stdout",
     "output_type": "stream",
     "text": [
      "[CV] END ...............learning_rate=0.01, n_estimators=100; total time= 3.2min\n"
     ]
    },
    {
     "name": "stderr",
     "output_type": "stream",
     "text": [
      "/root/miniconda3/lib/python3.10/site-packages/xgboost/core.py:729: UserWarning: [15:21:25] WARNING: /workspace/src/common/error_msg.cc:58: Falling back to prediction using DMatrix due to mismatched devices. This might lead to higher memory usage and slower performance. XGBoost is running on: cuda:0, while the input data is on: cpu.\n",
      "Potential solutions:\n",
      "- Use a data structure that matches the device ordinal in the booster.\n",
      "- Set the device for booster before call to inplace_predict.\n",
      "\n",
      "This warning will only be shown once.\n",
      "\n",
      "  return func(**kwargs)\n"
     ]
    },
    {
     "name": "stdout",
     "output_type": "stream",
     "text": [
      "[CV] END ...............learning_rate=0.01, n_estimators=300; total time= 9.1min\n"
     ]
    },
    {
     "name": "stderr",
     "output_type": "stream",
     "text": [
      "/root/miniconda3/lib/python3.10/site-packages/xgboost/core.py:729: UserWarning: [15:21:28] WARNING: /workspace/src/common/error_msg.cc:58: Falling back to prediction using DMatrix due to mismatched devices. This might lead to higher memory usage and slower performance. XGBoost is running on: cuda:0, while the input data is on: cpu.\n",
      "Potential solutions:\n",
      "- Use a data structure that matches the device ordinal in the booster.\n",
      "- Set the device for booster before call to inplace_predict.\n",
      "\n",
      "This warning will only be shown once.\n",
      "\n",
      "  return func(**kwargs)\n"
     ]
    },
    {
     "name": "stdout",
     "output_type": "stream",
     "text": [
      "[CV] END ...............learning_rate=0.01, n_estimators=300; total time= 9.1min\n"
     ]
    },
    {
     "name": "stderr",
     "output_type": "stream",
     "text": [
      "/root/miniconda3/lib/python3.10/site-packages/xgboost/core.py:729: UserWarning: [15:21:28] WARNING: /workspace/src/common/error_msg.cc:58: Falling back to prediction using DMatrix due to mismatched devices. This might lead to higher memory usage and slower performance. XGBoost is running on: cuda:0, while the input data is on: cpu.\n",
      "Potential solutions:\n",
      "- Use a data structure that matches the device ordinal in the booster.\n",
      "- Set the device for booster before call to inplace_predict.\n",
      "\n",
      "This warning will only be shown once.\n",
      "\n",
      "  return func(**kwargs)\n",
      "/root/miniconda3/lib/python3.10/site-packages/xgboost/core.py:729: UserWarning: [15:21:29] WARNING: /workspace/src/common/error_msg.cc:58: Falling back to prediction using DMatrix due to mismatched devices. This might lead to higher memory usage and slower performance. XGBoost is running on: cuda:0, while the input data is on: cpu.\n",
      "Potential solutions:\n",
      "- Use a data structure that matches the device ordinal in the booster.\n",
      "- Set the device for booster before call to inplace_predict.\n",
      "\n",
      "This warning will only be shown once.\n",
      "\n",
      "  return func(**kwargs)\n"
     ]
    },
    {
     "name": "stdout",
     "output_type": "stream",
     "text": [
      "[CV] END ...............learning_rate=0.01, n_estimators=300; total time= 9.1min\n",
      "[CV] END ...............learning_rate=0.01, n_estimators=300; total time= 9.1min\n"
     ]
    },
    {
     "name": "stderr",
     "output_type": "stream",
     "text": [
      "/root/miniconda3/lib/python3.10/site-packages/xgboost/core.py:729: UserWarning: [15:21:30] WARNING: /workspace/src/common/error_msg.cc:58: Falling back to prediction using DMatrix due to mismatched devices. This might lead to higher memory usage and slower performance. XGBoost is running on: cuda:0, while the input data is on: cpu.\n",
      "Potential solutions:\n",
      "- Use a data structure that matches the device ordinal in the booster.\n",
      "- Set the device for booster before call to inplace_predict.\n",
      "\n",
      "This warning will only be shown once.\n",
      "\n",
      "  return func(**kwargs)\n"
     ]
    },
    {
     "name": "stdout",
     "output_type": "stream",
     "text": [
      "[CV] END ...............learning_rate=0.01, n_estimators=300; total time= 9.2min\n",
      "[CV] END ...............learning_rate=0.05, n_estimators=100; total time= 3.0min\n"
     ]
    },
    {
     "name": "stderr",
     "output_type": "stream",
     "text": [
      "/root/miniconda3/lib/python3.10/site-packages/xgboost/core.py:729: UserWarning: [15:27:25] WARNING: /workspace/src/common/error_msg.cc:58: Falling back to prediction using DMatrix due to mismatched devices. This might lead to higher memory usage and slower performance. XGBoost is running on: cuda:0, while the input data is on: cpu.\n",
      "Potential solutions:\n",
      "- Use a data structure that matches the device ordinal in the booster.\n",
      "- Set the device for booster before call to inplace_predict.\n",
      "\n",
      "This warning will only be shown once.\n",
      "\n",
      "  return func(**kwargs)\n"
     ]
    },
    {
     "name": "stdout",
     "output_type": "stream",
     "text": [
      "[CV] END ...............learning_rate=0.01, n_estimators=500; total time=15.1min\n"
     ]
    },
    {
     "name": "stderr",
     "output_type": "stream",
     "text": [
      "/root/miniconda3/lib/python3.10/site-packages/xgboost/core.py:729: UserWarning: [15:27:26] WARNING: /workspace/src/common/error_msg.cc:58: Falling back to prediction using DMatrix due to mismatched devices. This might lead to higher memory usage and slower performance. XGBoost is running on: cuda:0, while the input data is on: cpu.\n",
      "Potential solutions:\n",
      "- Use a data structure that matches the device ordinal in the booster.\n",
      "- Set the device for booster before call to inplace_predict.\n",
      "\n",
      "This warning will only be shown once.\n",
      "\n",
      "  return func(**kwargs)\n",
      "/root/miniconda3/lib/python3.10/site-packages/xgboost/core.py:729: UserWarning: [15:27:26] WARNING: /workspace/src/common/error_msg.cc:58: Falling back to prediction using DMatrix due to mismatched devices. This might lead to higher memory usage and slower performance. XGBoost is running on: cuda:0, while the input data is on: cpu.\n",
      "Potential solutions:\n",
      "- Use a data structure that matches the device ordinal in the booster.\n",
      "- Set the device for booster before call to inplace_predict.\n",
      "\n",
      "This warning will only be shown once.\n",
      "\n",
      "  return func(**kwargs)\n",
      "/root/miniconda3/lib/python3.10/site-packages/xgboost/core.py:729: UserWarning: [15:27:26] WARNING: /workspace/src/common/error_msg.cc:58: Falling back to prediction using DMatrix due to mismatched devices. This might lead to higher memory usage and slower performance. XGBoost is running on: cuda:0, while the input data is on: cpu.\n",
      "Potential solutions:\n",
      "- Use a data structure that matches the device ordinal in the booster.\n",
      "- Set the device for booster before call to inplace_predict.\n",
      "\n",
      "This warning will only be shown once.\n",
      "\n",
      "  return func(**kwargs)\n",
      "/root/miniconda3/lib/python3.10/site-packages/xgboost/core.py:729: UserWarning: [15:27:26] WARNING: /workspace/src/common/error_msg.cc:58: Falling back to prediction using DMatrix due to mismatched devices. This might lead to higher memory usage and slower performance. XGBoost is running on: cuda:0, while the input data is on: cpu.\n",
      "Potential solutions:\n",
      "- Use a data structure that matches the device ordinal in the booster.\n",
      "- Set the device for booster before call to inplace_predict.\n",
      "\n",
      "This warning will only be shown once.\n",
      "\n",
      "  return func(**kwargs)\n"
     ]
    },
    {
     "name": "stdout",
     "output_type": "stream",
     "text": [
      "[CV] END ...............learning_rate=0.01, n_estimators=500; total time=15.1min\n",
      "[CV] END ...............learning_rate=0.01, n_estimators=500; total time=15.1min\n",
      "[CV] END ...............learning_rate=0.01, n_estimators=500; total time=15.1min\n",
      "[CV] END ...............learning_rate=0.01, n_estimators=500; total time=15.1min\n",
      "[CV] END ...............learning_rate=0.05, n_estimators=100; total time= 3.0min\n",
      "[CV] END ...............learning_rate=0.05, n_estimators=100; total time= 3.0min\n",
      "[CV] END ...............learning_rate=0.05, n_estimators=100; total time= 3.0min\n",
      "[CV] END ...............learning_rate=0.05, n_estimators=100; total time= 3.0min\n"
     ]
    },
    {
     "name": "stderr",
     "output_type": "stream",
     "text": [
      "/root/miniconda3/lib/python3.10/site-packages/xgboost/core.py:729: UserWarning: [15:33:19] WARNING: /workspace/src/common/error_msg.cc:58: Falling back to prediction using DMatrix due to mismatched devices. This might lead to higher memory usage and slower performance. XGBoost is running on: cuda:0, while the input data is on: cpu.\n",
      "Potential solutions:\n",
      "- Use a data structure that matches the device ordinal in the booster.\n",
      "- Set the device for booster before call to inplace_predict.\n",
      "\n",
      "This warning will only be shown once.\n",
      "\n",
      "  return func(**kwargs)\n"
     ]
    },
    {
     "name": "stdout",
     "output_type": "stream",
     "text": [
      "[CV] END ...............learning_rate=0.01, n_estimators=700; total time=21.0min\n",
      "[CV] END ...............learning_rate=0.05, n_estimators=300; total time= 8.5min\n",
      "[CV] END ...............learning_rate=0.05, n_estimators=300; total time= 8.5min\n",
      "[CV] END ...............learning_rate=0.05, n_estimators=300; total time= 8.5min\n",
      "[CV] END ...............learning_rate=0.01, n_estimators=700; total time=20.8min\n"
     ]
    },
    {
     "name": "stderr",
     "output_type": "stream",
     "text": [
      "/root/miniconda3/lib/python3.10/site-packages/joblib/externals/loky/process_executor.py:752: UserWarning: A worker stopped while some jobs were given to the executor. This can be caused by a too short worker timeout or by a memory leak.\n",
      "  warnings.warn(\n"
     ]
    },
    {
     "name": "stdout",
     "output_type": "stream",
     "text": [
      "[CV] END ...............learning_rate=0.01, n_estimators=700; total time=20.8min\n",
      "[CV] END ...............learning_rate=0.01, n_estimators=700; total time=20.8min\n",
      "[CV] END ...............learning_rate=0.01, n_estimators=700; total time=20.8min\n",
      "[CV] END ...............learning_rate=0.05, n_estimators=300; total time= 8.5min\n",
      "[CV] END ...............learning_rate=0.05, n_estimators=300; total time= 8.5min\n",
      "[CV] END ...............learning_rate=0.05, n_estimators=500; total time=13.0min\n",
      "[CV] END ..............learning_rate=0.01, n_estimators=1000; total time=29.2min\n",
      "[CV] END ...............learning_rate=0.05, n_estimators=500; total time=12.8min\n",
      "[CV] END ...............learning_rate=0.05, n_estimators=500; total time=12.7min\n",
      "[CV] END ...............learning_rate=0.05, n_estimators=500; total time=12.7min\n",
      "[CV] END ...............learning_rate=0.05, n_estimators=500; total time=12.7min\n",
      "[CV] END ..............learning_rate=0.01, n_estimators=1000; total time=28.8min\n",
      "[CV] END ..............learning_rate=0.01, n_estimators=1000; total time=28.7min\n",
      "[CV] END ..............learning_rate=0.01, n_estimators=1000; total time=28.7min\n",
      "[CV] END ..............learning_rate=0.01, n_estimators=1000; total time=28.8min\n",
      "[CV] END ................learning_rate=0.1, n_estimators=100; total time= 2.8min\n",
      "[CV] END ................learning_rate=0.1, n_estimators=100; total time= 2.8min\n"
     ]
    },
    {
     "name": "stderr",
     "output_type": "stream",
     "text": [
      "/root/miniconda3/lib/python3.10/site-packages/xgboost/core.py:729: UserWarning: [15:52:39] WARNING: /workspace/src/common/error_msg.cc:58: Falling back to prediction using DMatrix due to mismatched devices. This might lead to higher memory usage and slower performance. XGBoost is running on: cuda:0, while the input data is on: cpu.\n",
      "Potential solutions:\n",
      "- Use a data structure that matches the device ordinal in the booster.\n",
      "- Set the device for booster before call to inplace_predict.\n",
      "\n",
      "This warning will only be shown once.\n",
      "\n",
      "  return func(**kwargs)\n"
     ]
    },
    {
     "name": "stdout",
     "output_type": "stream",
     "text": [
      "[CV] END ...............learning_rate=0.05, n_estimators=700; total time=16.5min\n"
     ]
    },
    {
     "name": "stderr",
     "output_type": "stream",
     "text": [
      "/root/miniconda3/lib/python3.10/site-packages/xgboost/core.py:729: UserWarning: [15:52:45] WARNING: /workspace/src/common/error_msg.cc:58: Falling back to prediction using DMatrix due to mismatched devices. This might lead to higher memory usage and slower performance. XGBoost is running on: cuda:0, while the input data is on: cpu.\n",
      "Potential solutions:\n",
      "- Use a data structure that matches the device ordinal in the booster.\n",
      "- Set the device for booster before call to inplace_predict.\n",
      "\n",
      "This warning will only be shown once.\n",
      "\n",
      "  return func(**kwargs)\n"
     ]
    },
    {
     "name": "stdout",
     "output_type": "stream",
     "text": [
      "[CV] END ...............learning_rate=0.05, n_estimators=700; total time=16.5min\n"
     ]
    },
    {
     "name": "stderr",
     "output_type": "stream",
     "text": [
      "/root/miniconda3/lib/python3.10/site-packages/xgboost/core.py:729: UserWarning: [15:52:48] WARNING: /workspace/src/common/error_msg.cc:58: Falling back to prediction using DMatrix due to mismatched devices. This might lead to higher memory usage and slower performance. XGBoost is running on: cuda:0, while the input data is on: cpu.\n",
      "Potential solutions:\n",
      "- Use a data structure that matches the device ordinal in the booster.\n",
      "- Set the device for booster before call to inplace_predict.\n",
      "\n",
      "This warning will only be shown once.\n",
      "\n",
      "  return func(**kwargs)\n"
     ]
    },
    {
     "name": "stdout",
     "output_type": "stream",
     "text": [
      "[CV] END ...............learning_rate=0.05, n_estimators=700; total time=16.5min\n"
     ]
    },
    {
     "name": "stderr",
     "output_type": "stream",
     "text": [
      "/root/miniconda3/lib/python3.10/site-packages/xgboost/core.py:729: UserWarning: [15:52:48] WARNING: /workspace/src/common/error_msg.cc:58: Falling back to prediction using DMatrix due to mismatched devices. This might lead to higher memory usage and slower performance. XGBoost is running on: cuda:0, while the input data is on: cpu.\n",
      "Potential solutions:\n",
      "- Use a data structure that matches the device ordinal in the booster.\n",
      "- Set the device for booster before call to inplace_predict.\n",
      "\n",
      "This warning will only be shown once.\n",
      "\n",
      "  return func(**kwargs)\n"
     ]
    },
    {
     "name": "stdout",
     "output_type": "stream",
     "text": [
      "[CV] END ...............learning_rate=0.05, n_estimators=700; total time=16.5min\n",
      "[CV] END ................learning_rate=0.1, n_estimators=100; total time= 2.8min\n"
     ]
    },
    {
     "name": "stderr",
     "output_type": "stream",
     "text": [
      "/root/miniconda3/lib/python3.10/site-packages/xgboost/core.py:729: UserWarning: [15:53:02] WARNING: /workspace/src/common/error_msg.cc:58: Falling back to prediction using DMatrix due to mismatched devices. This might lead to higher memory usage and slower performance. XGBoost is running on: cuda:0, while the input data is on: cpu.\n",
      "Potential solutions:\n",
      "- Use a data structure that matches the device ordinal in the booster.\n",
      "- Set the device for booster before call to inplace_predict.\n",
      "\n",
      "This warning will only be shown once.\n",
      "\n",
      "  return func(**kwargs)\n",
      "/root/miniconda3/lib/python3.10/site-packages/xgboost/core.py:729: UserWarning: [15:53:02] WARNING: /workspace/src/common/error_msg.cc:58: Falling back to prediction using DMatrix due to mismatched devices. This might lead to higher memory usage and slower performance. XGBoost is running on: cuda:0, while the input data is on: cpu.\n",
      "Potential solutions:\n",
      "- Use a data structure that matches the device ordinal in the booster.\n",
      "- Set the device for booster before call to inplace_predict.\n",
      "\n",
      "This warning will only be shown once.\n",
      "\n",
      "  return func(**kwargs)\n"
     ]
    },
    {
     "name": "stdout",
     "output_type": "stream",
     "text": [
      "[CV] END ................learning_rate=0.1, n_estimators=100; total time= 2.8min\n",
      "[CV] END ................learning_rate=0.1, n_estimators=100; total time= 2.8min\n",
      "[CV] END ...............learning_rate=0.05, n_estimators=700; total time=16.4min\n"
     ]
    },
    {
     "name": "stderr",
     "output_type": "stream",
     "text": [
      "/root/miniconda3/lib/python3.10/site-packages/xgboost/core.py:729: UserWarning: [15:57:26] WARNING: /workspace/src/common/error_msg.cc:58: Falling back to prediction using DMatrix due to mismatched devices. This might lead to higher memory usage and slower performance. XGBoost is running on: cuda:0, while the input data is on: cpu.\n",
      "Potential solutions:\n",
      "- Use a data structure that matches the device ordinal in the booster.\n",
      "- Set the device for booster before call to inplace_predict.\n",
      "\n",
      "This warning will only be shown once.\n",
      "\n",
      "  return func(**kwargs)\n"
     ]
    },
    {
     "name": "stdout",
     "output_type": "stream",
     "text": [
      "[CV] END ................learning_rate=0.1, n_estimators=300; total time= 7.1min\n",
      "[CV] END ................learning_rate=0.1, n_estimators=300; total time= 7.1min\n",
      "[CV] END ................learning_rate=0.1, n_estimators=300; total time= 7.1min\n",
      "[CV] END ................learning_rate=0.1, n_estimators=300; total time= 7.0min\n",
      "[CV] END ................learning_rate=0.1, n_estimators=300; total time= 7.0min\n",
      "[CV] END ..............learning_rate=0.05, n_estimators=1000; total time=21.4min\n",
      "[CV] END ................learning_rate=0.1, n_estimators=500; total time=10.3min\n",
      "[CV] END ................learning_rate=0.1, n_estimators=500; total time=10.3min\n"
     ]
    },
    {
     "name": "stderr",
     "output_type": "stream",
     "text": [
      "/root/miniconda3/lib/python3.10/site-packages/xgboost/core.py:729: UserWarning: [16:03:15] WARNING: /workspace/src/common/error_msg.cc:58: Falling back to prediction using DMatrix due to mismatched devices. This might lead to higher memory usage and slower performance. XGBoost is running on: cuda:0, while the input data is on: cpu.\n",
      "Potential solutions:\n",
      "- Use a data structure that matches the device ordinal in the booster.\n",
      "- Set the device for booster before call to inplace_predict.\n",
      "\n",
      "This warning will only be shown once.\n",
      "\n",
      "  return func(**kwargs)\n"
     ]
    },
    {
     "name": "stdout",
     "output_type": "stream",
     "text": [
      "[CV] END ................learning_rate=0.1, n_estimators=500; total time=10.3min\n",
      "[CV] END ................learning_rate=0.1, n_estimators=500; total time=10.3min\n",
      "[CV] END ................learning_rate=0.1, n_estimators=500; total time=10.3min\n",
      "[CV] END ..............learning_rate=0.05, n_estimators=1000; total time=21.0min\n",
      "[CV] END ................learning_rate=0.3, n_estimators=100; total time= 2.3min\n",
      "[CV] END ................learning_rate=0.3, n_estimators=100; total time= 2.3min\n"
     ]
    },
    {
     "name": "stderr",
     "output_type": "stream",
     "text": [
      "/root/miniconda3/lib/python3.10/site-packages/xgboost/core.py:729: UserWarning: [16:05:36] WARNING: /workspace/src/common/error_msg.cc:58: Falling back to prediction using DMatrix due to mismatched devices. This might lead to higher memory usage and slower performance. XGBoost is running on: cuda:0, while the input data is on: cpu.\n",
      "Potential solutions:\n",
      "- Use a data structure that matches the device ordinal in the booster.\n",
      "- Set the device for booster before call to inplace_predict.\n",
      "\n",
      "This warning will only be shown once.\n",
      "\n",
      "  return func(**kwargs)\n"
     ]
    },
    {
     "name": "stdout",
     "output_type": "stream",
     "text": [
      "[CV] END ..............learning_rate=0.05, n_estimators=1000; total time=20.9min\n",
      "[CV] END ................learning_rate=0.3, n_estimators=100; total time= 2.2min\n",
      "[CV] END ..............learning_rate=0.05, n_estimators=1000; total time=20.8min\n"
     ]
    },
    {
     "name": "stderr",
     "output_type": "stream",
     "text": [
      "/root/miniconda3/lib/python3.10/site-packages/xgboost/core.py:729: UserWarning: [16:07:49] WARNING: /workspace/src/common/error_msg.cc:58: Falling back to prediction using DMatrix due to mismatched devices. This might lead to higher memory usage and slower performance. XGBoost is running on: cuda:0, while the input data is on: cpu.\n",
      "Potential solutions:\n",
      "- Use a data structure that matches the device ordinal in the booster.\n",
      "- Set the device for booster before call to inplace_predict.\n",
      "\n",
      "This warning will only be shown once.\n",
      "\n",
      "  return func(**kwargs)\n"
     ]
    },
    {
     "name": "stdout",
     "output_type": "stream",
     "text": [
      "[CV] END ................learning_rate=0.3, n_estimators=100; total time= 2.2min\n"
     ]
    },
    {
     "name": "stderr",
     "output_type": "stream",
     "text": [
      "/root/miniconda3/lib/python3.10/site-packages/xgboost/core.py:729: UserWarning: [16:07:50] WARNING: /workspace/src/common/error_msg.cc:58: Falling back to prediction using DMatrix due to mismatched devices. This might lead to higher memory usage and slower performance. XGBoost is running on: cuda:0, while the input data is on: cpu.\n",
      "Potential solutions:\n",
      "- Use a data structure that matches the device ordinal in the booster.\n",
      "- Set the device for booster before call to inplace_predict.\n",
      "\n",
      "This warning will only be shown once.\n",
      "\n",
      "  return func(**kwargs)\n"
     ]
    },
    {
     "name": "stdout",
     "output_type": "stream",
     "text": [
      "[CV] END ................learning_rate=0.3, n_estimators=100; total time= 2.2min\n",
      "[CV] END ................learning_rate=0.1, n_estimators=700; total time=13.1min\n",
      "[CV] END ..............learning_rate=0.05, n_estimators=1000; total time=20.6min\n",
      "[CV] END ................learning_rate=0.1, n_estimators=700; total time=13.0min\n",
      "[CV] END ................learning_rate=0.3, n_estimators=300; total time= 5.1min\n",
      "[CV] END ................learning_rate=0.1, n_estimators=700; total time=12.9min\n",
      "[CV] END ................learning_rate=0.1, n_estimators=700; total time=12.9min\n",
      "[CV] END ................learning_rate=0.3, n_estimators=300; total time= 5.1min\n",
      "[CV] END ................learning_rate=0.3, n_estimators=300; total time= 5.1min\n",
      "[CV] END ................learning_rate=0.1, n_estimators=700; total time=12.9min\n",
      "[CV] END ................learning_rate=0.3, n_estimators=300; total time= 5.1min\n",
      "[CV] END ................learning_rate=0.3, n_estimators=300; total time= 5.1min\n",
      "[CV] END ................learning_rate=0.3, n_estimators=500; total time= 7.5min\n",
      "[CV] END ...............learning_rate=0.1, n_estimators=1000; total time=16.8min\n",
      "[CV] END ................learning_rate=0.3, n_estimators=500; total time= 7.5min\n",
      "[CV] END ...............learning_rate=0.1, n_estimators=1000; total time=16.8min\n"
     ]
    },
    {
     "name": "stderr",
     "output_type": "stream",
     "text": [
      "/root/miniconda3/lib/python3.10/site-packages/xgboost/core.py:729: UserWarning: [16:17:54] WARNING: /workspace/src/common/error_msg.cc:58: Falling back to prediction using DMatrix due to mismatched devices. This might lead to higher memory usage and slower performance. XGBoost is running on: cuda:0, while the input data is on: cpu.\n",
      "Potential solutions:\n",
      "- Use a data structure that matches the device ordinal in the booster.\n",
      "- Set the device for booster before call to inplace_predict.\n",
      "\n",
      "This warning will only be shown once.\n",
      "\n",
      "  return func(**kwargs)\n"
     ]
    },
    {
     "name": "stdout",
     "output_type": "stream",
     "text": [
      "[CV] END ................learning_rate=0.3, n_estimators=500; total time= 7.5min\n",
      "[CV] END ................learning_rate=0.3, n_estimators=500; total time= 7.5min\n",
      "[CV] END ................learning_rate=0.3, n_estimators=500; total time= 7.3min\n",
      "[CV] END ...............learning_rate=0.1, n_estimators=1000; total time=16.4min\n",
      "[CV] END ...............learning_rate=0.1, n_estimators=1000; total time=16.4min\n",
      "[CV] END ...............learning_rate=0.1, n_estimators=1000; total time=16.3min\n",
      "[CV] END ................learning_rate=0.3, n_estimators=700; total time= 8.9min\n",
      "[CV] END ................learning_rate=0.3, n_estimators=700; total time= 8.8min\n",
      "[CV] END ................learning_rate=0.3, n_estimators=700; total time= 8.6min\n",
      "[CV] END ................learning_rate=0.3, n_estimators=700; total time= 8.3min\n",
      "[CV] END ................learning_rate=0.3, n_estimators=700; total time= 8.1min\n",
      "[CV] END ...............learning_rate=0.3, n_estimators=1000; total time= 9.1min\n",
      "[CV] END ...............learning_rate=0.3, n_estimators=1000; total time= 6.7min\n",
      "[CV] END ...............learning_rate=0.3, n_estimators=1000; total time= 6.2min\n",
      "[CV] END ...............learning_rate=0.3, n_estimators=1000; total time= 6.0min\n",
      "[CV] END ...............learning_rate=0.3, n_estimators=1000; total time= 5.7min\n",
      "Stage 1 best parameters: {'learning_rate': 0.05, 'n_estimators': 1000}\n",
      "\n",
      "=== Stage 2 Hyperparameter Tuning ===\n",
      "Fitting 5 folds for each of 9 candidates, totalling 45 fits\n",
      "[CV] END ....................max_depth=3, min_child_weight=5; total time=14.7min\n",
      "[CV] END ....................max_depth=3, min_child_weight=5; total time=14.7min\n"
     ]
    },
    {
     "name": "stderr",
     "output_type": "stream",
     "text": [
      "/root/miniconda3/lib/python3.10/site-packages/xgboost/core.py:729: UserWarning: [16:38:26] WARNING: /workspace/src/common/error_msg.cc:58: Falling back to prediction using DMatrix due to mismatched devices. This might lead to higher memory usage and slower performance. XGBoost is running on: cuda:0, while the input data is on: cpu.\n",
      "Potential solutions:\n",
      "- Use a data structure that matches the device ordinal in the booster.\n",
      "- Set the device for booster before call to inplace_predict.\n",
      "\n",
      "This warning will only be shown once.\n",
      "\n",
      "  return func(**kwargs)\n",
      "/root/miniconda3/lib/python3.10/site-packages/xgboost/core.py:729: UserWarning: [16:38:26] WARNING: /workspace/src/common/error_msg.cc:58: Falling back to prediction using DMatrix due to mismatched devices. This might lead to higher memory usage and slower performance. XGBoost is running on: cuda:0, while the input data is on: cpu.\n",
      "Potential solutions:\n",
      "- Use a data structure that matches the device ordinal in the booster.\n",
      "- Set the device for booster before call to inplace_predict.\n",
      "\n",
      "This warning will only be shown once.\n",
      "\n",
      "  return func(**kwargs)\n",
      "/root/miniconda3/lib/python3.10/site-packages/xgboost/core.py:729: UserWarning: [16:38:26] WARNING: /workspace/src/common/error_msg.cc:58: Falling back to prediction using DMatrix due to mismatched devices. This might lead to higher memory usage and slower performance. XGBoost is running on: cuda:0, while the input data is on: cpu.\n",
      "Potential solutions:\n",
      "- Use a data structure that matches the device ordinal in the booster.\n",
      "- Set the device for booster before call to inplace_predict.\n",
      "\n",
      "This warning will only be shown once.\n",
      "\n",
      "  return func(**kwargs)\n"
     ]
    },
    {
     "name": "stdout",
     "output_type": "stream",
     "text": [
      "[CV] END ....................max_depth=3, min_child_weight=5; total time=14.6min\n",
      "[CV] END ....................max_depth=3, min_child_weight=5; total time=14.7min\n",
      "[CV] END ....................max_depth=3, min_child_weight=5; total time=14.7min\n",
      "[CV] END ....................max_depth=3, min_child_weight=3; total time=14.9min\n",
      "[CV] END ....................max_depth=3, min_child_weight=3; total time=14.9min\n",
      "[CV] END ....................max_depth=3, min_child_weight=3; total time=14.9min\n",
      "[CV] END ....................max_depth=3, min_child_weight=3; total time=14.9min\n",
      "[CV] END ....................max_depth=3, min_child_weight=3; total time=14.9min\n"
     ]
    },
    {
     "name": "stderr",
     "output_type": "stream",
     "text": [
      "/root/miniconda3/lib/python3.10/site-packages/joblib/externals/loky/process_executor.py:752: UserWarning: A worker stopped while some jobs were given to the executor. This can be caused by a too short worker timeout or by a memory leak.\n",
      "  warnings.warn(\n"
     ]
    },
    {
     "name": "stdout",
     "output_type": "stream",
     "text": [
      "[CV] END ....................max_depth=3, min_child_weight=1; total time=15.2min\n",
      "[CV] END ....................max_depth=3, min_child_weight=1; total time=15.2min\n",
      "[CV] END ....................max_depth=3, min_child_weight=1; total time=15.2min\n",
      "[CV] END ....................max_depth=3, min_child_weight=1; total time=15.2min\n",
      "[CV] END ....................max_depth=3, min_child_weight=1; total time=15.2min\n"
     ]
    },
    {
     "name": "stderr",
     "output_type": "stream",
     "text": [
      "/root/miniconda3/lib/python3.10/site-packages/xgboost/core.py:729: UserWarning: [16:42:35] WARNING: /workspace/src/common/error_msg.cc:58: Falling back to prediction using DMatrix due to mismatched devices. This might lead to higher memory usage and slower performance. XGBoost is running on: cuda:0, while the input data is on: cpu.\n",
      "Potential solutions:\n",
      "- Use a data structure that matches the device ordinal in the booster.\n",
      "- Set the device for booster before call to inplace_predict.\n",
      "\n",
      "This warning will only be shown once.\n",
      "\n",
      "  return func(**kwargs)\n"
     ]
    },
    {
     "name": "stdout",
     "output_type": "stream",
     "text": [
      "[CV] END ....................max_depth=6, min_child_weight=1; total time=18.8min\n"
     ]
    },
    {
     "name": "stderr",
     "output_type": "stream",
     "text": [
      "/root/miniconda3/lib/python3.10/site-packages/xgboost/core.py:729: UserWarning: [16:57:38] WARNING: /workspace/src/common/error_msg.cc:58: Falling back to prediction using DMatrix due to mismatched devices. This might lead to higher memory usage and slower performance. XGBoost is running on: cuda:0, while the input data is on: cpu.\n",
      "Potential solutions:\n",
      "- Use a data structure that matches the device ordinal in the booster.\n",
      "- Set the device for booster before call to inplace_predict.\n",
      "\n",
      "This warning will only be shown once.\n",
      "\n",
      "  return func(**kwargs)\n"
     ]
    },
    {
     "name": "stdout",
     "output_type": "stream",
     "text": [
      "[CV] END ....................max_depth=6, min_child_weight=5; total time=19.0min\n",
      "[CV] END ....................max_depth=6, min_child_weight=3; total time=19.4min\n",
      "[CV] END ....................max_depth=6, min_child_weight=5; total time=19.0min\n",
      "[CV] END ....................max_depth=6, min_child_weight=5; total time=19.0min\n",
      "[CV] END ....................max_depth=6, min_child_weight=5; total time=19.0min\n",
      "[CV] END ....................max_depth=6, min_child_weight=5; total time=19.0min\n",
      "[CV] END ....................max_depth=6, min_child_weight=3; total time=19.4min\n",
      "[CV] END ....................max_depth=6, min_child_weight=3; total time=19.4min\n",
      "[CV] END ....................max_depth=6, min_child_weight=3; total time=19.4min\n",
      "[CV] END ....................max_depth=6, min_child_weight=3; total time=19.5min\n",
      "[CV] END ....................max_depth=6, min_child_weight=1; total time=20.8min\n",
      "[CV] END ....................max_depth=6, min_child_weight=1; total time=20.9min\n",
      "[CV] END ....................max_depth=6, min_child_weight=1; total time=20.9min\n",
      "[CV] END ....................max_depth=6, min_child_weight=1; total time=20.9min\n",
      "[CV] END ...................max_depth=10, min_child_weight=5; total time=   3.9s\n",
      "[CV] END ...................max_depth=10, min_child_weight=1; total time=22.5min\n",
      "[CV] END ...................max_depth=10, min_child_weight=1; total time=22.0min\n"
     ]
    },
    {
     "name": "stderr",
     "output_type": "stream",
     "text": [
      "/root/miniconda3/lib/python3.10/site-packages/xgboost/core.py:729: UserWarning: [17:16:08] WARNING: /workspace/src/common/error_msg.cc:58: Falling back to prediction using DMatrix due to mismatched devices. This might lead to higher memory usage and slower performance. XGBoost is running on: cuda:0, while the input data is on: cpu.\n",
      "Potential solutions:\n",
      "- Use a data structure that matches the device ordinal in the booster.\n",
      "- Set the device for booster before call to inplace_predict.\n",
      "\n",
      "This warning will only be shown once.\n",
      "\n",
      "  return func(**kwargs)\n"
     ]
    },
    {
     "name": "stdout",
     "output_type": "stream",
     "text": [
      "[CV] END ...................max_depth=10, min_child_weight=5; total time=18.1min\n",
      "[CV] END ...................max_depth=10, min_child_weight=5; total time=18.1min\n",
      "[CV] END ...................max_depth=10, min_child_weight=3; total time=18.4min\n",
      "[CV] END ...................max_depth=10, min_child_weight=3; total time=18.5min\n"
     ]
    },
    {
     "name": "stderr",
     "output_type": "stream",
     "text": [
      "/root/miniconda3/lib/python3.10/site-packages/xgboost/core.py:729: UserWarning: [17:16:24] WARNING: /workspace/src/common/error_msg.cc:58: Falling back to prediction using DMatrix due to mismatched devices. This might lead to higher memory usage and slower performance. XGBoost is running on: cuda:0, while the input data is on: cpu.\n",
      "Potential solutions:\n",
      "- Use a data structure that matches the device ordinal in the booster.\n",
      "- Set the device for booster before call to inplace_predict.\n",
      "\n",
      "This warning will only be shown once.\n",
      "\n",
      "  return func(**kwargs)\n"
     ]
    },
    {
     "name": "stdout",
     "output_type": "stream",
     "text": [
      "[CV] END ...................max_depth=10, min_child_weight=3; total time=18.4min\n",
      "[CV] END ...................max_depth=10, min_child_weight=3; total time=18.4min\n",
      "[CV] END ...................max_depth=10, min_child_weight=3; total time=18.4min\n",
      "[CV] END ...................max_depth=10, min_child_weight=5; total time=17.3min\n",
      "[CV] END ...................max_depth=10, min_child_weight=5; total time=17.4min\n",
      "[CV] END ...................max_depth=10, min_child_weight=1; total time=19.1min\n",
      "[CV] END ...................max_depth=10, min_child_weight=1; total time=18.9min\n",
      "[CV] END ...................max_depth=10, min_child_weight=1; total time=18.8min\n"
     ]
    },
    {
     "name": "stderr",
     "output_type": "stream",
     "text": [
      "/root/miniconda3/lib/python3.10/site-packages/sklearn/model_selection/_validation.py:528: FitFailedWarning: \n",
      "1 fits failed out of a total of 45.\n",
      "The score on these train-test partitions for these parameters will be set to nan.\n",
      "If these failures are not expected, you can try to debug them by setting error_score='raise'.\n",
      "\n",
      "Below are more details about the failures:\n",
      "--------------------------------------------------------------------------------\n",
      "1 fits failed with the following error:\n",
      "Traceback (most recent call last):\n",
      "  File \"/root/miniconda3/lib/python3.10/site-packages/sklearn/model_selection/_validation.py\", line 866, in _fit_and_score\n",
      "    estimator.fit(X_train, y_train, **fit_params)\n",
      "  File \"/root/miniconda3/lib/python3.10/site-packages/xgboost/core.py\", line 729, in inner_f\n",
      "    return func(**kwargs)\n",
      "  File \"/root/miniconda3/lib/python3.10/site-packages/xgboost/sklearn.py\", line 1682, in fit\n",
      "    self._Booster = train(\n",
      "  File \"/root/miniconda3/lib/python3.10/site-packages/xgboost/core.py\", line 729, in inner_f\n",
      "    return func(**kwargs)\n",
      "  File \"/root/miniconda3/lib/python3.10/site-packages/xgboost/training.py\", line 183, in train\n",
      "    bst.update(dtrain, iteration=i, fobj=obj)\n",
      "  File \"/root/miniconda3/lib/python3.10/site-packages/xgboost/core.py\", line 2246, in update\n",
      "    _check_call(\n",
      "  File \"/root/miniconda3/lib/python3.10/site-packages/xgboost/core.py\", line 310, in _check_call\n",
      "    raise XGBoostError(py_str(_LIB.XGBGetLastError()))\n",
      "xgboost.core.XGBoostError: [16:59:23] /workspace/src/common/device_vector.cu:23: Memory allocation error on worker 0: std::bad_alloc: cudaErrorMemoryAllocation: out of memory\n",
      "- Free memory: 981.688MB\n",
      "- Requested memory: 1GB\n",
      "\n",
      "Stack trace:\n",
      "  [bt] (0) /root/miniconda3/lib/python3.10/site-packages/xgboost/lib/libxgboost.so(+0x2a6acc) [0x7ff2ca8a6acc]\n",
      "  [bt] (1) /root/miniconda3/lib/python3.10/site-packages/xgboost/lib/libxgboost.so(+0xa5aa23) [0x7ff2cb05aa23]\n",
      "  [bt] (2) /root/miniconda3/lib/python3.10/site-packages/xgboost/lib/libxgboost.so(+0xfd705e) [0x7ff2cb5d705e]\n",
      "  [bt] (3) /root/miniconda3/lib/python3.10/site-packages/xgboost/lib/libxgboost.so(+0xfd77b7) [0x7ff2cb5d77b7]\n",
      "  [bt] (4) /root/miniconda3/lib/python3.10/site-packages/xgboost/lib/libxgboost.so(+0xfd7c6c) [0x7ff2cb5d7c6c]\n",
      "  [bt] (5) /root/miniconda3/lib/python3.10/site-packages/xgboost/lib/libxgboost.so(+0xfd8406) [0x7ff2cb5d8406]\n",
      "  [bt] (6) /root/miniconda3/lib/python3.10/site-packages/xgboost/lib/libxgboost.so(+0xfdb63a) [0x7ff2cb5db63a]\n",
      "  [bt] (7) /root/miniconda3/lib/python3.10/site-packages/xgboost/lib/libxgboost.so(+0xfdd7ec) [0x7ff2cb5dd7ec]\n",
      "  [bt] (8) /root/miniconda3/lib/python3.10/site-packages/xgboost/lib/libxgboost.so(+0x63a102) [0x7ff2cac3a102]\n",
      "\n",
      "\n",
      "\n",
      "  warnings.warn(some_fits_failed_message, FitFailedWarning)\n",
      "/root/miniconda3/lib/python3.10/site-packages/sklearn/model_selection/_search.py:1108: UserWarning: One or more of the test scores are non-finite: [0.99539699 0.99517056 0.99513077 0.99676928 0.99640546 0.99639309\n",
      " 0.99644482 0.99614209        nan]\n",
      "  warnings.warn(\n"
     ]
    },
    {
     "name": "stdout",
     "output_type": "stream",
     "text": [
      "Stage 2 best parameters: {'max_depth': 6, 'min_child_weight': 1}\n",
      "\n",
      "=== Stage 3 Hyperparameter Tuning ===\n",
      "Fitting 5 folds for each of 36 candidates, totalling 180 fits\n"
     ]
    },
    {
     "name": "stderr",
     "output_type": "stream",
     "text": [
      "/root/miniconda3/lib/python3.10/site-packages/xgboost/core.py:729: UserWarning: [17:35:25] WARNING: /workspace/src/common/error_msg.cc:58: Falling back to prediction using DMatrix due to mismatched devices. This might lead to higher memory usage and slower performance. XGBoost is running on: cuda:0, while the input data is on: cpu.\n",
      "Potential solutions:\n",
      "- Use a data structure that matches the device ordinal in the booster.\n",
      "- Set the device for booster before call to inplace_predict.\n",
      "\n",
      "This warning will only be shown once.\n",
      "\n",
      "  return func(**kwargs)\n"
     ]
    },
    {
     "name": "stdout",
     "output_type": "stream",
     "text": [
      "[CV] END .....colsample_bytree=0.6, gamma=0.1, subsample=0.6; total time=17.7min\n",
      "[CV] END .......colsample_bytree=0.6, gamma=0, subsample=0.6; total time=21.1min\n"
     ]
    },
    {
     "name": "stderr",
     "output_type": "stream",
     "text": [
      "/root/miniconda3/lib/python3.10/site-packages/joblib/externals/loky/process_executor.py:752: UserWarning: A worker stopped while some jobs were given to the executor. This can be caused by a too short worker timeout or by a memory leak.\n",
      "  warnings.warn(\n"
     ]
    },
    {
     "name": "stdout",
     "output_type": "stream",
     "text": [
      "[CV] END .......colsample_bytree=0.6, gamma=0, subsample=0.6; total time=21.1min\n",
      "[CV] END .......colsample_bytree=0.6, gamma=0, subsample=0.6; total time=21.1min\n",
      "[CV] END .......colsample_bytree=0.6, gamma=0, subsample=0.6; total time=21.1min\n",
      "[CV] END .......colsample_bytree=0.6, gamma=0, subsample=0.6; total time=21.1min\n",
      "[CV] END .......colsample_bytree=0.6, gamma=0, subsample=0.8; total time=21.2min\n",
      "[CV] END .......colsample_bytree=0.6, gamma=0, subsample=0.8; total time=21.3min\n"
     ]
    },
    {
     "name": "stderr",
     "output_type": "stream",
     "text": [
      "/root/miniconda3/lib/python3.10/site-packages/xgboost/core.py:729: UserWarning: [17:38:56] WARNING: /workspace/src/common/error_msg.cc:58: Falling back to prediction using DMatrix due to mismatched devices. This might lead to higher memory usage and slower performance. XGBoost is running on: cuda:0, while the input data is on: cpu.\n",
      "Potential solutions:\n",
      "- Use a data structure that matches the device ordinal in the booster.\n",
      "- Set the device for booster before call to inplace_predict.\n",
      "\n",
      "This warning will only be shown once.\n",
      "\n",
      "  return func(**kwargs)\n"
     ]
    },
    {
     "name": "stdout",
     "output_type": "stream",
     "text": [
      "[CV] END .......colsample_bytree=0.6, gamma=0, subsample=0.8; total time=21.3min\n"
     ]
    },
    {
     "name": "stderr",
     "output_type": "stream",
     "text": [
      "/root/miniconda3/lib/python3.10/site-packages/xgboost/core.py:729: UserWarning: [17:38:57] WARNING: /workspace/src/common/error_msg.cc:58: Falling back to prediction using DMatrix due to mismatched devices. This might lead to higher memory usage and slower performance. XGBoost is running on: cuda:0, while the input data is on: cpu.\n",
      "Potential solutions:\n",
      "- Use a data structure that matches the device ordinal in the booster.\n",
      "- Set the device for booster before call to inplace_predict.\n",
      "\n",
      "This warning will only be shown once.\n",
      "\n",
      "  return func(**kwargs)\n",
      "/root/miniconda3/lib/python3.10/site-packages/xgboost/core.py:729: UserWarning: [17:38:58] WARNING: /workspace/src/common/error_msg.cc:58: Falling back to prediction using DMatrix due to mismatched devices. This might lead to higher memory usage and slower performance. XGBoost is running on: cuda:0, while the input data is on: cpu.\n",
      "Potential solutions:\n",
      "- Use a data structure that matches the device ordinal in the booster.\n",
      "- Set the device for booster before call to inplace_predict.\n",
      "\n",
      "This warning will only be shown once.\n",
      "\n",
      "  return func(**kwargs)\n"
     ]
    },
    {
     "name": "stdout",
     "output_type": "stream",
     "text": [
      "[CV] END .......colsample_bytree=0.6, gamma=0, subsample=0.8; total time=21.3min\n",
      "[CV] END .......colsample_bytree=0.6, gamma=0, subsample=0.8; total time=21.3min\n"
     ]
    },
    {
     "name": "stderr",
     "output_type": "stream",
     "text": [
      "/root/miniconda3/lib/python3.10/site-packages/xgboost/core.py:729: UserWarning: [17:39:03] WARNING: /workspace/src/common/error_msg.cc:58: Falling back to prediction using DMatrix due to mismatched devices. This might lead to higher memory usage and slower performance. XGBoost is running on: cuda:0, while the input data is on: cpu.\n",
      "Potential solutions:\n",
      "- Use a data structure that matches the device ordinal in the booster.\n",
      "- Set the device for booster before call to inplace_predict.\n",
      "\n",
      "This warning will only be shown once.\n",
      "\n",
      "  return func(**kwargs)\n"
     ]
    },
    {
     "name": "stdout",
     "output_type": "stream",
     "text": [
      "[CV] END .......colsample_bytree=0.6, gamma=0, subsample=1.0; total time=21.4min\n"
     ]
    },
    {
     "name": "stderr",
     "output_type": "stream",
     "text": [
      "/root/miniconda3/lib/python3.10/site-packages/xgboost/core.py:729: UserWarning: [17:39:04] WARNING: /workspace/src/common/error_msg.cc:58: Falling back to prediction using DMatrix due to mismatched devices. This might lead to higher memory usage and slower performance. XGBoost is running on: cuda:0, while the input data is on: cpu.\n",
      "Potential solutions:\n",
      "- Use a data structure that matches the device ordinal in the booster.\n",
      "- Set the device for booster before call to inplace_predict.\n",
      "\n",
      "This warning will only be shown once.\n",
      "\n",
      "  return func(**kwargs)\n",
      "/root/miniconda3/lib/python3.10/site-packages/xgboost/core.py:729: UserWarning: [17:39:04] WARNING: /workspace/src/common/error_msg.cc:58: Falling back to prediction using DMatrix due to mismatched devices. This might lead to higher memory usage and slower performance. XGBoost is running on: cuda:0, while the input data is on: cpu.\n",
      "Potential solutions:\n",
      "- Use a data structure that matches the device ordinal in the booster.\n",
      "- Set the device for booster before call to inplace_predict.\n",
      "\n",
      "This warning will only be shown once.\n",
      "\n",
      "  return func(**kwargs)\n",
      "/root/miniconda3/lib/python3.10/site-packages/xgboost/core.py:729: UserWarning: [17:39:04] WARNING: /workspace/src/common/error_msg.cc:58: Falling back to prediction using DMatrix due to mismatched devices. This might lead to higher memory usage and slower performance. XGBoost is running on: cuda:0, while the input data is on: cpu.\n",
      "Potential solutions:\n",
      "- Use a data structure that matches the device ordinal in the booster.\n",
      "- Set the device for booster before call to inplace_predict.\n",
      "\n",
      "This warning will only be shown once.\n",
      "\n",
      "  return func(**kwargs)\n"
     ]
    },
    {
     "name": "stdout",
     "output_type": "stream",
     "text": [
      "[CV] END .......colsample_bytree=0.6, gamma=0, subsample=1.0; total time=21.4min\n",
      "[CV] END .......colsample_bytree=0.6, gamma=0, subsample=1.0; total time=21.4min\n",
      "[CV] END .......colsample_bytree=0.6, gamma=0, subsample=1.0; total time=21.4min\n"
     ]
    },
    {
     "name": "stderr",
     "output_type": "stream",
     "text": [
      "/root/miniconda3/lib/python3.10/site-packages/xgboost/core.py:729: UserWarning: [17:39:05] WARNING: /workspace/src/common/error_msg.cc:58: Falling back to prediction using DMatrix due to mismatched devices. This might lead to higher memory usage and slower performance. XGBoost is running on: cuda:0, while the input data is on: cpu.\n",
      "Potential solutions:\n",
      "- Use a data structure that matches the device ordinal in the booster.\n",
      "- Set the device for booster before call to inplace_predict.\n",
      "\n",
      "This warning will only be shown once.\n",
      "\n",
      "  return func(**kwargs)\n"
     ]
    },
    {
     "name": "stdout",
     "output_type": "stream",
     "text": [
      "[CV] END .......colsample_bytree=0.6, gamma=0, subsample=1.0; total time=21.4min\n",
      "[CV] END .....colsample_bytree=0.6, gamma=0.1, subsample=0.6; total time=17.1min\n",
      "[CV] END .....colsample_bytree=0.6, gamma=0.3, subsample=0.6; total time=15.9min\n",
      "[CV] END .....colsample_bytree=0.6, gamma=0.3, subsample=0.6; total time=15.9min\n",
      "[CV] END .....colsample_bytree=0.6, gamma=0.1, subsample=1.0; total time=16.3min\n",
      "[CV] END .....colsample_bytree=0.6, gamma=0.1, subsample=1.0; total time=16.3min\n",
      "[CV] END .....colsample_bytree=0.6, gamma=0.1, subsample=1.0; total time=16.3min\n",
      "[CV] END .....colsample_bytree=0.6, gamma=0.1, subsample=1.0; total time=16.4min\n",
      "[CV] END .....colsample_bytree=0.6, gamma=0.1, subsample=1.0; total time=16.3min\n",
      "[CV] END .....colsample_bytree=0.6, gamma=0.1, subsample=0.8; total time=16.7min\n",
      "[CV] END .....colsample_bytree=0.6, gamma=0.1, subsample=0.8; total time=16.8min\n",
      "[CV] END .....colsample_bytree=0.6, gamma=0.1, subsample=0.8; total time=16.7min\n",
      "[CV] END .....colsample_bytree=0.6, gamma=0.1, subsample=0.8; total time=16.7min\n",
      "[CV] END .....colsample_bytree=0.6, gamma=0.1, subsample=0.8; total time=16.7min\n",
      "[CV] END .....colsample_bytree=0.6, gamma=0.1, subsample=0.6; total time=17.0min\n",
      "[CV] END .....colsample_bytree=0.6, gamma=0.1, subsample=0.6; total time=17.0min\n"
     ]
    },
    {
     "name": "stderr",
     "output_type": "stream",
     "text": [
      "/root/miniconda3/lib/python3.10/site-packages/xgboost/core.py:729: UserWarning: [17:55:48] WARNING: /workspace/src/common/error_msg.cc:58: Falling back to prediction using DMatrix due to mismatched devices. This might lead to higher memory usage and slower performance. XGBoost is running on: cuda:0, while the input data is on: cpu.\n",
      "Potential solutions:\n",
      "- Use a data structure that matches the device ordinal in the booster.\n",
      "- Set the device for booster before call to inplace_predict.\n",
      "\n",
      "This warning will only be shown once.\n",
      "\n",
      "  return func(**kwargs)\n"
     ]
    },
    {
     "name": "stdout",
     "output_type": "stream",
     "text": [
      "[CV] END .....colsample_bytree=0.6, gamma=0.1, subsample=0.6; total time=17.0min\n",
      "[CV] END .....colsample_bytree=0.6, gamma=0.3, subsample=0.6; total time=15.6min\n",
      "[CV] END .....colsample_bytree=0.6, gamma=0.3, subsample=0.6; total time=15.6min\n",
      "[CV] END .....colsample_bytree=0.6, gamma=0.3, subsample=0.6; total time=15.6min\n",
      "[CV] END .....colsample_bytree=0.6, gamma=0.3, subsample=1.0; total time=15.2min\n"
     ]
    },
    {
     "name": "stderr",
     "output_type": "stream",
     "text": [
      "/root/miniconda3/lib/python3.10/site-packages/xgboost/core.py:729: UserWarning: [18:10:46] WARNING: /workspace/src/common/error_msg.cc:58: Falling back to prediction using DMatrix due to mismatched devices. This might lead to higher memory usage and slower performance. XGBoost is running on: cuda:0, while the input data is on: cpu.\n",
      "Potential solutions:\n",
      "- Use a data structure that matches the device ordinal in the booster.\n",
      "- Set the device for booster before call to inplace_predict.\n",
      "\n",
      "This warning will only be shown once.\n",
      "\n",
      "  return func(**kwargs)\n"
     ]
    },
    {
     "name": "stdout",
     "output_type": "stream",
     "text": [
      "[CV] END .....colsample_bytree=0.6, gamma=0.3, subsample=1.0; total time=15.2min\n",
      "[CV] END .....colsample_bytree=0.6, gamma=0.3, subsample=0.8; total time=15.5min\n",
      "[CV] END .....colsample_bytree=0.6, gamma=0.3, subsample=0.8; total time=15.5min\n"
     ]
    },
    {
     "name": "stderr",
     "output_type": "stream",
     "text": [
      "/root/miniconda3/lib/python3.10/site-packages/xgboost/core.py:729: UserWarning: [18:10:52] WARNING: /workspace/src/common/error_msg.cc:58: Falling back to prediction using DMatrix due to mismatched devices. This might lead to higher memory usage and slower performance. XGBoost is running on: cuda:0, while the input data is on: cpu.\n",
      "Potential solutions:\n",
      "- Use a data structure that matches the device ordinal in the booster.\n",
      "- Set the device for booster before call to inplace_predict.\n",
      "\n",
      "This warning will only be shown once.\n",
      "\n",
      "  return func(**kwargs)\n"
     ]
    },
    {
     "name": "stdout",
     "output_type": "stream",
     "text": [
      "[CV] END .....colsample_bytree=0.6, gamma=0.3, subsample=1.0; total time=15.2min\n"
     ]
    },
    {
     "name": "stderr",
     "output_type": "stream",
     "text": [
      "/root/miniconda3/lib/python3.10/site-packages/xgboost/core.py:729: UserWarning: [18:10:54] WARNING: /workspace/src/common/error_msg.cc:58: Falling back to prediction using DMatrix due to mismatched devices. This might lead to higher memory usage and slower performance. XGBoost is running on: cuda:0, while the input data is on: cpu.\n",
      "Potential solutions:\n",
      "- Use a data structure that matches the device ordinal in the booster.\n",
      "- Set the device for booster before call to inplace_predict.\n",
      "\n",
      "This warning will only be shown once.\n",
      "\n",
      "  return func(**kwargs)\n"
     ]
    },
    {
     "name": "stdout",
     "output_type": "stream",
     "text": [
      "[CV] END .....colsample_bytree=0.6, gamma=0.3, subsample=1.0; total time=15.2min\n",
      "[CV] END .....colsample_bytree=0.6, gamma=0.3, subsample=0.8; total time=15.5min\n",
      "[CV] END .....colsample_bytree=0.6, gamma=0.3, subsample=1.0; total time=15.3min\n",
      "[CV] END .....colsample_bytree=0.6, gamma=0.3, subsample=0.8; total time=15.5min\n",
      "[CV] END .....colsample_bytree=0.6, gamma=0.3, subsample=0.8; total time=15.5min\n",
      "[CV] END .....colsample_bytree=0.6, gamma=0.5, subsample=0.6; total time=15.2min\n"
     ]
    },
    {
     "name": "stderr",
     "output_type": "stream",
     "text": [
      "/root/miniconda3/lib/python3.10/site-packages/xgboost/core.py:729: UserWarning: [18:11:00] WARNING: /workspace/src/common/error_msg.cc:58: Falling back to prediction using DMatrix due to mismatched devices. This might lead to higher memory usage and slower performance. XGBoost is running on: cuda:0, while the input data is on: cpu.\n",
      "Potential solutions:\n",
      "- Use a data structure that matches the device ordinal in the booster.\n",
      "- Set the device for booster before call to inplace_predict.\n",
      "\n",
      "This warning will only be shown once.\n",
      "\n",
      "  return func(**kwargs)\n"
     ]
    },
    {
     "name": "stdout",
     "output_type": "stream",
     "text": [
      "[CV] END .....colsample_bytree=0.6, gamma=0.5, subsample=0.6; total time=15.3min\n",
      "[CV] END .....colsample_bytree=0.6, gamma=0.5, subsample=0.6; total time=15.2min\n"
     ]
    },
    {
     "name": "stderr",
     "output_type": "stream",
     "text": [
      "/root/miniconda3/lib/python3.10/site-packages/xgboost/core.py:729: UserWarning: [18:23:38] WARNING: /workspace/src/common/error_msg.cc:58: Falling back to prediction using DMatrix due to mismatched devices. This might lead to higher memory usage and slower performance. XGBoost is running on: cuda:0, while the input data is on: cpu.\n",
      "Potential solutions:\n",
      "- Use a data structure that matches the device ordinal in the booster.\n",
      "- Set the device for booster before call to inplace_predict.\n",
      "\n",
      "This warning will only be shown once.\n",
      "\n",
      "  return func(**kwargs)\n"
     ]
    },
    {
     "name": "stdout",
     "output_type": "stream",
     "text": [
      "[CV] END .....colsample_bytree=0.6, gamma=0.5, subsample=0.6; total time=15.5min\n",
      "[CV] END .....colsample_bytree=0.6, gamma=0.5, subsample=0.8; total time=15.5min\n",
      "[CV] END .....colsample_bytree=0.6, gamma=0.5, subsample=0.6; total time=15.6min\n",
      "[CV] END .....colsample_bytree=0.6, gamma=0.5, subsample=1.0; total time=15.3min\n",
      "[CV] END .....colsample_bytree=0.6, gamma=0.5, subsample=1.0; total time=15.3min\n",
      "[CV] END .....colsample_bytree=0.6, gamma=0.5, subsample=1.0; total time=15.3min\n",
      "[CV] END .....colsample_bytree=0.6, gamma=0.5, subsample=1.0; total time=15.3min\n",
      "[CV] END .....colsample_bytree=0.6, gamma=0.5, subsample=1.0; total time=15.3min\n"
     ]
    },
    {
     "name": "stderr",
     "output_type": "stream",
     "text": [
      "/root/miniconda3/lib/python3.10/site-packages/xgboost/core.py:729: UserWarning: [18:26:17] WARNING: /workspace/src/common/error_msg.cc:58: Falling back to prediction using DMatrix due to mismatched devices. This might lead to higher memory usage and slower performance. XGBoost is running on: cuda:0, while the input data is on: cpu.\n",
      "Potential solutions:\n",
      "- Use a data structure that matches the device ordinal in the booster.\n",
      "- Set the device for booster before call to inplace_predict.\n",
      "\n",
      "This warning will only be shown once.\n",
      "\n",
      "  return func(**kwargs)\n"
     ]
    },
    {
     "name": "stdout",
     "output_type": "stream",
     "text": [
      "[CV] END .....colsample_bytree=0.6, gamma=0.5, subsample=0.8; total time=15.5min\n",
      "[CV] END .....colsample_bytree=0.6, gamma=0.5, subsample=0.8; total time=15.5min\n",
      "[CV] END .....colsample_bytree=0.6, gamma=0.5, subsample=0.8; total time=15.5min\n",
      "[CV] END .....colsample_bytree=0.6, gamma=0.5, subsample=0.8; total time=15.5min\n",
      "[CV] END .......colsample_bytree=0.8, gamma=0, subsample=0.6; total time=20.9min\n",
      "[CV] END .......colsample_bytree=0.8, gamma=0, subsample=0.6; total time=20.9min\n",
      "[CV] END .......colsample_bytree=0.8, gamma=0, subsample=0.6; total time=20.9min\n",
      "[CV] END .......colsample_bytree=0.8, gamma=0, subsample=0.6; total time=20.9min\n",
      "[CV] END .....colsample_bytree=0.8, gamma=0.1, subsample=0.6; total time=17.7min\n",
      "[CV] END .......colsample_bytree=0.8, gamma=0, subsample=0.6; total time=21.1min\n",
      "[CV] END .......colsample_bytree=0.8, gamma=0, subsample=0.8; total time=21.3min\n",
      "[CV] END .......colsample_bytree=0.8, gamma=0, subsample=0.8; total time=21.2min\n",
      "[CV] END .......colsample_bytree=0.8, gamma=0, subsample=0.8; total time=21.2min\n",
      "[CV] END .......colsample_bytree=0.8, gamma=0, subsample=0.8; total time=21.2min\n",
      "[CV] END .......colsample_bytree=0.8, gamma=0, subsample=0.8; total time=21.2min\n",
      "[CV] END .......colsample_bytree=0.8, gamma=0, subsample=1.0; total time=21.3min\n",
      "[CV] END .......colsample_bytree=0.8, gamma=0, subsample=1.0; total time=21.4min\n",
      "[CV] END .......colsample_bytree=0.8, gamma=0, subsample=1.0; total time=21.4min\n",
      "[CV] END .......colsample_bytree=0.8, gamma=0, subsample=1.0; total time=21.4min\n",
      "[CV] END .......colsample_bytree=0.8, gamma=0, subsample=1.0; total time=21.3min\n",
      "[CV] END .....colsample_bytree=0.8, gamma=0.1, subsample=0.6; total time=17.2min\n"
     ]
    },
    {
     "name": "stderr",
     "output_type": "stream",
     "text": [
      "/root/miniconda3/lib/python3.10/site-packages/xgboost/core.py:729: UserWarning: [18:49:07] WARNING: /workspace/src/common/error_msg.cc:58: Falling back to prediction using DMatrix due to mismatched devices. This might lead to higher memory usage and slower performance. XGBoost is running on: cuda:0, while the input data is on: cpu.\n",
      "Potential solutions:\n",
      "- Use a data structure that matches the device ordinal in the booster.\n",
      "- Set the device for booster before call to inplace_predict.\n",
      "\n",
      "This warning will only be shown once.\n",
      "\n",
      "  return func(**kwargs)\n"
     ]
    },
    {
     "name": "stdout",
     "output_type": "stream",
     "text": [
      "[CV] END .....colsample_bytree=0.8, gamma=0.1, subsample=0.6; total time=17.3min\n",
      "[CV] END .....colsample_bytree=0.8, gamma=0.1, subsample=0.6; total time=17.2min\n"
     ]
    },
    {
     "name": "stderr",
     "output_type": "stream",
     "text": [
      "/root/miniconda3/lib/python3.10/site-packages/xgboost/core.py:729: UserWarning: [18:49:13] WARNING: /workspace/src/common/error_msg.cc:58: Falling back to prediction using DMatrix due to mismatched devices. This might lead to higher memory usage and slower performance. XGBoost is running on: cuda:0, while the input data is on: cpu.\n",
      "Potential solutions:\n",
      "- Use a data structure that matches the device ordinal in the booster.\n",
      "- Set the device for booster before call to inplace_predict.\n",
      "\n",
      "This warning will only be shown once.\n",
      "\n",
      "  return func(**kwargs)\n"
     ]
    },
    {
     "name": "stdout",
     "output_type": "stream",
     "text": [
      "[CV] END .....colsample_bytree=0.8, gamma=0.1, subsample=0.6; total time=17.3min\n",
      "[CV] END .....colsample_bytree=0.8, gamma=0.1, subsample=0.8; total time=16.9min\n",
      "[CV] END .....colsample_bytree=0.8, gamma=0.1, subsample=0.8; total time=16.8min\n"
     ]
    },
    {
     "name": "stderr",
     "output_type": "stream",
     "text": [
      "/root/miniconda3/lib/python3.10/site-packages/xgboost/core.py:729: UserWarning: [19:03:38] WARNING: /workspace/src/common/error_msg.cc:58: Falling back to prediction using DMatrix due to mismatched devices. This might lead to higher memory usage and slower performance. XGBoost is running on: cuda:0, while the input data is on: cpu.\n",
      "Potential solutions:\n",
      "- Use a data structure that matches the device ordinal in the booster.\n",
      "- Set the device for booster before call to inplace_predict.\n",
      "\n",
      "This warning will only be shown once.\n",
      "\n",
      "  return func(**kwargs)\n"
     ]
    },
    {
     "name": "stdout",
     "output_type": "stream",
     "text": [
      "[CV] END .....colsample_bytree=0.8, gamma=0.3, subsample=0.6; total time=16.0min\n"
     ]
    },
    {
     "name": "stderr",
     "output_type": "stream",
     "text": [
      "/root/miniconda3/lib/python3.10/site-packages/xgboost/core.py:729: UserWarning: [19:03:40] WARNING: /workspace/src/common/error_msg.cc:58: Falling back to prediction using DMatrix due to mismatched devices. This might lead to higher memory usage and slower performance. XGBoost is running on: cuda:0, while the input data is on: cpu.\n",
      "Potential solutions:\n",
      "- Use a data structure that matches the device ordinal in the booster.\n",
      "- Set the device for booster before call to inplace_predict.\n",
      "\n",
      "This warning will only be shown once.\n",
      "\n",
      "  return func(**kwargs)\n"
     ]
    },
    {
     "name": "stdout",
     "output_type": "stream",
     "text": [
      "[CV] END .....colsample_bytree=0.8, gamma=0.3, subsample=0.6; total time=16.0min\n"
     ]
    },
    {
     "name": "stderr",
     "output_type": "stream",
     "text": [
      "/root/miniconda3/lib/python3.10/site-packages/xgboost/core.py:729: UserWarning: [19:03:53] WARNING: /workspace/src/common/error_msg.cc:58: Falling back to prediction using DMatrix due to mismatched devices. This might lead to higher memory usage and slower performance. XGBoost is running on: cuda:0, while the input data is on: cpu.\n",
      "Potential solutions:\n",
      "- Use a data structure that matches the device ordinal in the booster.\n",
      "- Set the device for booster before call to inplace_predict.\n",
      "\n",
      "This warning will only be shown once.\n",
      "\n",
      "  return func(**kwargs)\n",
      "/root/miniconda3/lib/python3.10/site-packages/xgboost/core.py:729: UserWarning: [19:03:53] WARNING: /workspace/src/common/error_msg.cc:58: Falling back to prediction using DMatrix due to mismatched devices. This might lead to higher memory usage and slower performance. XGBoost is running on: cuda:0, while the input data is on: cpu.\n",
      "Potential solutions:\n",
      "- Use a data structure that matches the device ordinal in the booster.\n",
      "- Set the device for booster before call to inplace_predict.\n",
      "\n",
      "This warning will only be shown once.\n",
      "\n",
      "  return func(**kwargs)\n"
     ]
    },
    {
     "name": "stdout",
     "output_type": "stream",
     "text": [
      "[CV] END .....colsample_bytree=0.8, gamma=0.1, subsample=1.0; total time=16.5min\n",
      "[CV] END .....colsample_bytree=0.8, gamma=0.1, subsample=1.0; total time=16.4min\n",
      "[CV] END .....colsample_bytree=0.8, gamma=0.1, subsample=1.0; total time=16.5min\n"
     ]
    },
    {
     "name": "stderr",
     "output_type": "stream",
     "text": [
      "/root/miniconda3/lib/python3.10/site-packages/xgboost/core.py:729: UserWarning: [19:04:01] WARNING: /workspace/src/common/error_msg.cc:58: Falling back to prediction using DMatrix due to mismatched devices. This might lead to higher memory usage and slower performance. XGBoost is running on: cuda:0, while the input data is on: cpu.\n",
      "Potential solutions:\n",
      "- Use a data structure that matches the device ordinal in the booster.\n",
      "- Set the device for booster before call to inplace_predict.\n",
      "\n",
      "This warning will only be shown once.\n",
      "\n",
      "  return func(**kwargs)\n"
     ]
    },
    {
     "name": "stdout",
     "output_type": "stream",
     "text": [
      "[CV] END .....colsample_bytree=0.8, gamma=0.1, subsample=1.0; total time=16.5min\n",
      "[CV] END .....colsample_bytree=0.8, gamma=0.1, subsample=1.0; total time=16.5min\n"
     ]
    },
    {
     "name": "stderr",
     "output_type": "stream",
     "text": [
      "/root/miniconda3/lib/python3.10/site-packages/xgboost/core.py:729: UserWarning: [19:04:09] WARNING: /workspace/src/common/error_msg.cc:58: Falling back to prediction using DMatrix due to mismatched devices. This might lead to higher memory usage and slower performance. XGBoost is running on: cuda:0, while the input data is on: cpu.\n",
      "Potential solutions:\n",
      "- Use a data structure that matches the device ordinal in the booster.\n",
      "- Set the device for booster before call to inplace_predict.\n",
      "\n",
      "This warning will only be shown once.\n",
      "\n",
      "  return func(**kwargs)\n"
     ]
    },
    {
     "name": "stdout",
     "output_type": "stream",
     "text": [
      "[CV] END .....colsample_bytree=0.8, gamma=0.1, subsample=0.8; total time=16.8min\n"
     ]
    },
    {
     "name": "stderr",
     "output_type": "stream",
     "text": [
      "/root/miniconda3/lib/python3.10/site-packages/xgboost/core.py:729: UserWarning: [19:04:12] WARNING: /workspace/src/common/error_msg.cc:58: Falling back to prediction using DMatrix due to mismatched devices. This might lead to higher memory usage and slower performance. XGBoost is running on: cuda:0, while the input data is on: cpu.\n",
      "Potential solutions:\n",
      "- Use a data structure that matches the device ordinal in the booster.\n",
      "- Set the device for booster before call to inplace_predict.\n",
      "\n",
      "This warning will only be shown once.\n",
      "\n",
      "  return func(**kwargs)\n"
     ]
    },
    {
     "name": "stdout",
     "output_type": "stream",
     "text": [
      "[CV] END .....colsample_bytree=0.8, gamma=0.1, subsample=0.8; total time=16.8min\n"
     ]
    },
    {
     "name": "stderr",
     "output_type": "stream",
     "text": [
      "/root/miniconda3/lib/python3.10/site-packages/xgboost/core.py:729: UserWarning: [19:04:15] WARNING: /workspace/src/common/error_msg.cc:58: Falling back to prediction using DMatrix due to mismatched devices. This might lead to higher memory usage and slower performance. XGBoost is running on: cuda:0, while the input data is on: cpu.\n",
      "Potential solutions:\n",
      "- Use a data structure that matches the device ordinal in the booster.\n",
      "- Set the device for booster before call to inplace_predict.\n",
      "\n",
      "This warning will only be shown once.\n",
      "\n",
      "  return func(**kwargs)\n"
     ]
    },
    {
     "name": "stdout",
     "output_type": "stream",
     "text": [
      "[CV] END .....colsample_bytree=0.8, gamma=0.1, subsample=0.8; total time=16.8min\n",
      "[CV] END .....colsample_bytree=0.8, gamma=0.3, subsample=0.6; total time=15.9min\n",
      "[CV] END .....colsample_bytree=0.8, gamma=0.3, subsample=0.8; total time=15.8min\n",
      "[CV] END .....colsample_bytree=0.8, gamma=0.3, subsample=0.6; total time=15.9min\n",
      "[CV] END .....colsample_bytree=0.8, gamma=0.3, subsample=0.6; total time=15.9min\n",
      "[CV] END .....colsample_bytree=0.8, gamma=0.3, subsample=0.8; total time=15.6min\n"
     ]
    },
    {
     "name": "stderr",
     "output_type": "stream",
     "text": [
      "/root/miniconda3/lib/python3.10/site-packages/xgboost/core.py:729: UserWarning: [19:17:14] WARNING: /workspace/src/common/error_msg.cc:58: Falling back to prediction using DMatrix due to mismatched devices. This might lead to higher memory usage and slower performance. XGBoost is running on: cuda:0, while the input data is on: cpu.\n",
      "Potential solutions:\n",
      "- Use a data structure that matches the device ordinal in the booster.\n",
      "- Set the device for booster before call to inplace_predict.\n",
      "\n",
      "This warning will only be shown once.\n",
      "\n",
      "  return func(**kwargs)\n"
     ]
    },
    {
     "name": "stdout",
     "output_type": "stream",
     "text": [
      "[CV] END .....colsample_bytree=0.8, gamma=0.3, subsample=0.8; total time=15.6min\n",
      "[CV] END .....colsample_bytree=0.8, gamma=0.3, subsample=0.8; total time=15.6min\n",
      "[CV] END .....colsample_bytree=0.8, gamma=0.3, subsample=1.0; total time=15.4min\n",
      "[CV] END .....colsample_bytree=0.8, gamma=0.3, subsample=1.0; total time=15.4min\n",
      "[CV] END .....colsample_bytree=0.8, gamma=0.3, subsample=0.8; total time=15.6min\n"
     ]
    },
    {
     "name": "stderr",
     "output_type": "stream",
     "text": [
      "/root/miniconda3/lib/python3.10/site-packages/xgboost/core.py:729: UserWarning: [19:19:24] WARNING: /workspace/src/common/error_msg.cc:58: Falling back to prediction using DMatrix due to mismatched devices. This might lead to higher memory usage and slower performance. XGBoost is running on: cuda:0, while the input data is on: cpu.\n",
      "Potential solutions:\n",
      "- Use a data structure that matches the device ordinal in the booster.\n",
      "- Set the device for booster before call to inplace_predict.\n",
      "\n",
      "This warning will only be shown once.\n",
      "\n",
      "  return func(**kwargs)\n"
     ]
    },
    {
     "name": "stdout",
     "output_type": "stream",
     "text": [
      "[CV] END .....colsample_bytree=0.8, gamma=0.3, subsample=1.0; total time=15.4min\n",
      "[CV] END .....colsample_bytree=0.8, gamma=0.3, subsample=1.0; total time=15.4min\n",
      "[CV] END .....colsample_bytree=0.8, gamma=0.3, subsample=1.0; total time=15.4min\n",
      "[CV] END .....colsample_bytree=0.8, gamma=0.5, subsample=0.6; total time=15.4min\n",
      "[CV] END .....colsample_bytree=0.8, gamma=0.5, subsample=0.6; total time=15.4min\n",
      "[CV] END .....colsample_bytree=0.8, gamma=0.5, subsample=0.6; total time=15.4min\n",
      "[CV] END .....colsample_bytree=0.8, gamma=0.5, subsample=0.8; total time=15.3min\n",
      "[CV] END .....colsample_bytree=0.8, gamma=0.5, subsample=0.6; total time=15.4min\n"
     ]
    },
    {
     "name": "stderr",
     "output_type": "stream",
     "text": [
      "/root/miniconda3/lib/python3.10/site-packages/xgboost/core.py:729: UserWarning: [19:20:24] WARNING: /workspace/src/common/error_msg.cc:58: Falling back to prediction using DMatrix due to mismatched devices. This might lead to higher memory usage and slower performance. XGBoost is running on: cuda:0, while the input data is on: cpu.\n",
      "Potential solutions:\n",
      "- Use a data structure that matches the device ordinal in the booster.\n",
      "- Set the device for booster before call to inplace_predict.\n",
      "\n",
      "This warning will only be shown once.\n",
      "\n",
      "  return func(**kwargs)\n"
     ]
    },
    {
     "name": "stdout",
     "output_type": "stream",
     "text": [
      "[CV] END .....colsample_bytree=0.8, gamma=0.5, subsample=0.8; total time=15.3min\n",
      "[CV] END .....colsample_bytree=0.8, gamma=0.5, subsample=0.6; total time=15.4min\n",
      "[CV] END .....colsample_bytree=0.8, gamma=0.5, subsample=0.8; total time=16.2min\n",
      "[CV] END .....colsample_bytree=0.8, gamma=0.5, subsample=0.8; total time=16.3min\n",
      "[CV] END .....colsample_bytree=0.8, gamma=0.5, subsample=1.0; total time=16.3min\n",
      "[CV] END .....colsample_bytree=0.8, gamma=0.5, subsample=1.0; total time=16.3min\n",
      "[CV] END .....colsample_bytree=0.8, gamma=0.5, subsample=1.0; total time=16.3min\n",
      "[CV] END .....colsample_bytree=0.8, gamma=0.5, subsample=1.0; total time=16.3min\n",
      "[CV] END .....colsample_bytree=0.8, gamma=0.5, subsample=1.0; total time=16.3min\n",
      "[CV] END .....colsample_bytree=0.8, gamma=0.5, subsample=0.8; total time=16.5min\n"
     ]
    },
    {
     "name": "stderr",
     "output_type": "stream",
     "text": [
      "/root/miniconda3/lib/python3.10/site-packages/xgboost/core.py:729: UserWarning: [19:38:38] WARNING: /workspace/src/common/error_msg.cc:58: Falling back to prediction using DMatrix due to mismatched devices. This might lead to higher memory usage and slower performance. XGBoost is running on: cuda:0, while the input data is on: cpu.\n",
      "Potential solutions:\n",
      "- Use a data structure that matches the device ordinal in the booster.\n",
      "- Set the device for booster before call to inplace_predict.\n",
      "\n",
      "This warning will only be shown once.\n",
      "\n",
      "  return func(**kwargs)\n"
     ]
    },
    {
     "name": "stdout",
     "output_type": "stream",
     "text": [
      "[CV] END .......colsample_bytree=1.0, gamma=0, subsample=0.6; total time=19.1min\n",
      "[CV] END .......colsample_bytree=1.0, gamma=0, subsample=0.6; total time=19.1min\n",
      "[CV] END .......colsample_bytree=1.0, gamma=0, subsample=0.6; total time=19.1min\n",
      "[CV] END .......colsample_bytree=1.0, gamma=0, subsample=0.6; total time=19.1min\n",
      "[CV] END .......colsample_bytree=1.0, gamma=0, subsample=0.6; total time=19.2min\n",
      "[CV] END .......colsample_bytree=1.0, gamma=0, subsample=0.8; total time=19.3min\n",
      "[CV] END .......colsample_bytree=1.0, gamma=0, subsample=0.8; total time=19.3min\n",
      "[CV] END .......colsample_bytree=1.0, gamma=0, subsample=0.8; total time=19.3min\n",
      "[CV] END .....colsample_bytree=1.0, gamma=0.1, subsample=0.6; total time=16.0min\n",
      "[CV] END .......colsample_bytree=1.0, gamma=0, subsample=0.8; total time=19.7min\n",
      "[CV] END .......colsample_bytree=1.0, gamma=0, subsample=0.8; total time=19.8min\n",
      "[CV] END .....colsample_bytree=1.0, gamma=0.1, subsample=0.6; total time=15.8min\n"
     ]
    },
    {
     "name": "stderr",
     "output_type": "stream",
     "text": [
      "/root/miniconda3/lib/python3.10/site-packages/xgboost/core.py:729: UserWarning: [19:54:28] WARNING: /workspace/src/common/error_msg.cc:58: Falling back to prediction using DMatrix due to mismatched devices. This might lead to higher memory usage and slower performance. XGBoost is running on: cuda:0, while the input data is on: cpu.\n",
      "Potential solutions:\n",
      "- Use a data structure that matches the device ordinal in the booster.\n",
      "- Set the device for booster before call to inplace_predict.\n",
      "\n",
      "This warning will only be shown once.\n",
      "\n",
      "  return func(**kwargs)\n"
     ]
    },
    {
     "name": "stdout",
     "output_type": "stream",
     "text": [
      "[CV] END .....colsample_bytree=1.0, gamma=0.1, subsample=0.6; total time=15.8min\n"
     ]
    },
    {
     "name": "stderr",
     "output_type": "stream",
     "text": [
      "/root/miniconda3/lib/python3.10/site-packages/xgboost/core.py:729: UserWarning: [19:54:31] WARNING: /workspace/src/common/error_msg.cc:58: Falling back to prediction using DMatrix due to mismatched devices. This might lead to higher memory usage and slower performance. XGBoost is running on: cuda:0, while the input data is on: cpu.\n",
      "Potential solutions:\n",
      "- Use a data structure that matches the device ordinal in the booster.\n",
      "- Set the device for booster before call to inplace_predict.\n",
      "\n",
      "This warning will only be shown once.\n",
      "\n",
      "  return func(**kwargs)\n"
     ]
    },
    {
     "name": "stdout",
     "output_type": "stream",
     "text": [
      "[CV] END .....colsample_bytree=1.0, gamma=0.1, subsample=0.6; total time=15.8min\n"
     ]
    },
    {
     "name": "stderr",
     "output_type": "stream",
     "text": [
      "/root/miniconda3/lib/python3.10/site-packages/xgboost/core.py:729: UserWarning: [19:54:34] WARNING: /workspace/src/common/error_msg.cc:58: Falling back to prediction using DMatrix due to mismatched devices. This might lead to higher memory usage and slower performance. XGBoost is running on: cuda:0, while the input data is on: cpu.\n",
      "Potential solutions:\n",
      "- Use a data structure that matches the device ordinal in the booster.\n",
      "- Set the device for booster before call to inplace_predict.\n",
      "\n",
      "This warning will only be shown once.\n",
      "\n",
      "  return func(**kwargs)\n"
     ]
    },
    {
     "name": "stdout",
     "output_type": "stream",
     "text": [
      "[CV] END .....colsample_bytree=1.0, gamma=0.1, subsample=0.6; total time=15.8min\n"
     ]
    },
    {
     "name": "stderr",
     "output_type": "stream",
     "text": [
      "/root/miniconda3/lib/python3.10/site-packages/xgboost/core.py:729: UserWarning: [19:55:01] WARNING: /workspace/src/common/error_msg.cc:58: Falling back to prediction using DMatrix due to mismatched devices. This might lead to higher memory usage and slower performance. XGBoost is running on: cuda:0, while the input data is on: cpu.\n",
      "Potential solutions:\n",
      "- Use a data structure that matches the device ordinal in the booster.\n",
      "- Set the device for booster before call to inplace_predict.\n",
      "\n",
      "This warning will only be shown once.\n",
      "\n",
      "  return func(**kwargs)\n"
     ]
    },
    {
     "name": "stdout",
     "output_type": "stream",
     "text": [
      "[CV] END .....colsample_bytree=1.0, gamma=0.1, subsample=0.8; total time=15.5min\n",
      "[CV] END .....colsample_bytree=1.0, gamma=0.1, subsample=0.8; total time=15.5min\n",
      "[CV] END .....colsample_bytree=1.0, gamma=0.1, subsample=0.8; total time=15.5min\n"
     ]
    },
    {
     "name": "stderr",
     "output_type": "stream",
     "text": [
      "/root/miniconda3/lib/python3.10/site-packages/xgboost/core.py:729: UserWarning: [19:55:12] WARNING: /workspace/src/common/error_msg.cc:58: Falling back to prediction using DMatrix due to mismatched devices. This might lead to higher memory usage and slower performance. XGBoost is running on: cuda:0, while the input data is on: cpu.\n",
      "Potential solutions:\n",
      "- Use a data structure that matches the device ordinal in the booster.\n",
      "- Set the device for booster before call to inplace_predict.\n",
      "\n",
      "This warning will only be shown once.\n",
      "\n",
      "  return func(**kwargs)\n"
     ]
    },
    {
     "name": "stdout",
     "output_type": "stream",
     "text": [
      "[CV] END .....colsample_bytree=1.0, gamma=0.1, subsample=0.8; total time=15.5min\n",
      "[CV] END .......colsample_bytree=1.0, gamma=0, subsample=1.0; total time=20.1min\n",
      "[CV] END .......colsample_bytree=1.0, gamma=0, subsample=1.0; total time=20.1min\n",
      "[CV] END .......colsample_bytree=1.0, gamma=0, subsample=1.0; total time=20.1min\n",
      "[CV] END .......colsample_bytree=1.0, gamma=0, subsample=1.0; total time=20.1min\n",
      "[CV] END .......colsample_bytree=1.0, gamma=0, subsample=1.0; total time=20.1min\n",
      "[CV] END .....colsample_bytree=1.0, gamma=0.1, subsample=0.8; total time=15.4min\n"
     ]
    },
    {
     "name": "stderr",
     "output_type": "stream",
     "text": [
      "/root/miniconda3/lib/python3.10/site-packages/xgboost/core.py:729: UserWarning: [20:07:33] WARNING: /workspace/src/common/error_msg.cc:58: Falling back to prediction using DMatrix due to mismatched devices. This might lead to higher memory usage and slower performance. XGBoost is running on: cuda:0, while the input data is on: cpu.\n",
      "Potential solutions:\n",
      "- Use a data structure that matches the device ordinal in the booster.\n",
      "- Set the device for booster before call to inplace_predict.\n",
      "\n",
      "This warning will only be shown once.\n",
      "\n",
      "  return func(**kwargs)\n"
     ]
    },
    {
     "name": "stdout",
     "output_type": "stream",
     "text": [
      "[CV] END .....colsample_bytree=1.0, gamma=0.1, subsample=1.0; total time=15.1min\n"
     ]
    },
    {
     "name": "stderr",
     "output_type": "stream",
     "text": [
      "/root/miniconda3/lib/python3.10/site-packages/xgboost/core.py:729: UserWarning: [20:08:23] WARNING: /workspace/src/common/error_msg.cc:58: Falling back to prediction using DMatrix due to mismatched devices. This might lead to higher memory usage and slower performance. XGBoost is running on: cuda:0, while the input data is on: cpu.\n",
      "Potential solutions:\n",
      "- Use a data structure that matches the device ordinal in the booster.\n",
      "- Set the device for booster before call to inplace_predict.\n",
      "\n",
      "This warning will only be shown once.\n",
      "\n",
      "  return func(**kwargs)\n"
     ]
    },
    {
     "name": "stdout",
     "output_type": "stream",
     "text": [
      "[CV] END .....colsample_bytree=1.0, gamma=0.1, subsample=1.0; total time=15.1min\n",
      "[CV] END .....colsample_bytree=1.0, gamma=0.3, subsample=0.6; total time=14.5min\n",
      "[CV] END .....colsample_bytree=1.0, gamma=0.1, subsample=1.0; total time=15.0min\n",
      "[CV] END .....colsample_bytree=1.0, gamma=0.3, subsample=0.6; total time=14.5min\n",
      "[CV] END .....colsample_bytree=1.0, gamma=0.1, subsample=1.0; total time=15.1min\n",
      "[CV] END .....colsample_bytree=1.0, gamma=0.1, subsample=1.0; total time=15.1min\n",
      "[CV] END .....colsample_bytree=1.0, gamma=0.3, subsample=0.6; total time=14.5min\n"
     ]
    },
    {
     "name": "stderr",
     "output_type": "stream",
     "text": [
      "/root/miniconda3/lib/python3.10/site-packages/xgboost/core.py:729: UserWarning: [20:09:40] WARNING: /workspace/src/common/error_msg.cc:58: Falling back to prediction using DMatrix due to mismatched devices. This might lead to higher memory usage and slower performance. XGBoost is running on: cuda:0, while the input data is on: cpu.\n",
      "Potential solutions:\n",
      "- Use a data structure that matches the device ordinal in the booster.\n",
      "- Set the device for booster before call to inplace_predict.\n",
      "\n",
      "This warning will only be shown once.\n",
      "\n",
      "  return func(**kwargs)\n"
     ]
    },
    {
     "name": "stdout",
     "output_type": "stream",
     "text": [
      "[CV] END .....colsample_bytree=1.0, gamma=0.3, subsample=0.6; total time=14.5min\n",
      "[CV] END .....colsample_bytree=1.0, gamma=0.3, subsample=0.6; total time=14.5min\n"
     ]
    },
    {
     "name": "stderr",
     "output_type": "stream",
     "text": [
      "/root/miniconda3/lib/python3.10/site-packages/xgboost/core.py:729: UserWarning: [20:10:01] WARNING: /workspace/src/common/error_msg.cc:58: Falling back to prediction using DMatrix due to mismatched devices. This might lead to higher memory usage and slower performance. XGBoost is running on: cuda:0, while the input data is on: cpu.\n",
      "Potential solutions:\n",
      "- Use a data structure that matches the device ordinal in the booster.\n",
      "- Set the device for booster before call to inplace_predict.\n",
      "\n",
      "This warning will only be shown once.\n",
      "\n",
      "  return func(**kwargs)\n"
     ]
    },
    {
     "name": "stdout",
     "output_type": "stream",
     "text": [
      "[CV] END .....colsample_bytree=1.0, gamma=0.3, subsample=0.8; total time=14.4min\n"
     ]
    },
    {
     "name": "stderr",
     "output_type": "stream",
     "text": [
      "/root/miniconda3/lib/python3.10/site-packages/xgboost/core.py:729: UserWarning: [20:10:01] WARNING: /workspace/src/common/error_msg.cc:58: Falling back to prediction using DMatrix due to mismatched devices. This might lead to higher memory usage and slower performance. XGBoost is running on: cuda:0, while the input data is on: cpu.\n",
      "Potential solutions:\n",
      "- Use a data structure that matches the device ordinal in the booster.\n",
      "- Set the device for booster before call to inplace_predict.\n",
      "\n",
      "This warning will only be shown once.\n",
      "\n",
      "  return func(**kwargs)\n"
     ]
    },
    {
     "name": "stdout",
     "output_type": "stream",
     "text": [
      "[CV] END .....colsample_bytree=1.0, gamma=0.3, subsample=0.8; total time=14.4min\n"
     ]
    },
    {
     "name": "stderr",
     "output_type": "stream",
     "text": [
      "/root/miniconda3/lib/python3.10/site-packages/xgboost/core.py:729: UserWarning: [20:10:04] WARNING: /workspace/src/common/error_msg.cc:58: Falling back to prediction using DMatrix due to mismatched devices. This might lead to higher memory usage and slower performance. XGBoost is running on: cuda:0, while the input data is on: cpu.\n",
      "Potential solutions:\n",
      "- Use a data structure that matches the device ordinal in the booster.\n",
      "- Set the device for booster before call to inplace_predict.\n",
      "\n",
      "This warning will only be shown once.\n",
      "\n",
      "  return func(**kwargs)\n"
     ]
    },
    {
     "name": "stdout",
     "output_type": "stream",
     "text": [
      "[CV] END .....colsample_bytree=1.0, gamma=0.3, subsample=0.8; total time=14.4min\n"
     ]
    },
    {
     "name": "stderr",
     "output_type": "stream",
     "text": [
      "/root/miniconda3/lib/python3.10/site-packages/xgboost/core.py:729: UserWarning: [20:10:12] WARNING: /workspace/src/common/error_msg.cc:58: Falling back to prediction using DMatrix due to mismatched devices. This might lead to higher memory usage and slower performance. XGBoost is running on: cuda:0, while the input data is on: cpu.\n",
      "Potential solutions:\n",
      "- Use a data structure that matches the device ordinal in the booster.\n",
      "- Set the device for booster before call to inplace_predict.\n",
      "\n",
      "This warning will only be shown once.\n",
      "\n",
      "  return func(**kwargs)\n"
     ]
    },
    {
     "name": "stdout",
     "output_type": "stream",
     "text": [
      "[CV] END .....colsample_bytree=1.0, gamma=0.3, subsample=0.8; total time=14.3min\n"
     ]
    },
    {
     "name": "stderr",
     "output_type": "stream",
     "text": [
      "/root/miniconda3/lib/python3.10/site-packages/xgboost/core.py:729: UserWarning: [20:10:15] WARNING: /workspace/src/common/error_msg.cc:58: Falling back to prediction using DMatrix due to mismatched devices. This might lead to higher memory usage and slower performance. XGBoost is running on: cuda:0, while the input data is on: cpu.\n",
      "Potential solutions:\n",
      "- Use a data structure that matches the device ordinal in the booster.\n",
      "- Set the device for booster before call to inplace_predict.\n",
      "\n",
      "This warning will only be shown once.\n",
      "\n",
      "  return func(**kwargs)\n"
     ]
    },
    {
     "name": "stdout",
     "output_type": "stream",
     "text": [
      "[CV] END .....colsample_bytree=1.0, gamma=0.3, subsample=0.8; total time=14.3min\n",
      "[CV] END .....colsample_bytree=1.0, gamma=0.3, subsample=1.0; total time=14.0min\n",
      "[CV] END .....colsample_bytree=1.0, gamma=0.3, subsample=1.0; total time=14.0min\n",
      "[CV] END .....colsample_bytree=1.0, gamma=0.3, subsample=1.0; total time=14.0min\n",
      "[CV] END .....colsample_bytree=1.0, gamma=0.3, subsample=1.0; total time=14.0min\n",
      "[CV] END .....colsample_bytree=1.0, gamma=0.3, subsample=1.0; total time=14.0min\n",
      "[CV] END .....colsample_bytree=1.0, gamma=0.5, subsample=0.6; total time=14.0min\n",
      "[CV] END .....colsample_bytree=1.0, gamma=0.5, subsample=0.6; total time=14.0min\n",
      "[CV] END .....colsample_bytree=1.0, gamma=0.5, subsample=0.6; total time=13.9min\n",
      "[CV] END .....colsample_bytree=1.0, gamma=0.5, subsample=0.6; total time=13.9min\n",
      "[CV] END .....colsample_bytree=1.0, gamma=0.5, subsample=0.8; total time=13.8min\n",
      "[CV] END .....colsample_bytree=1.0, gamma=0.5, subsample=0.6; total time=13.9min\n",
      "[CV] END .....colsample_bytree=1.0, gamma=0.5, subsample=1.0; total time=13.4min\n",
      "[CV] END .....colsample_bytree=1.0, gamma=0.5, subsample=0.8; total time=13.7min\n",
      "[CV] END .....colsample_bytree=1.0, gamma=0.5, subsample=0.8; total time=13.7min\n",
      "[CV] END .....colsample_bytree=1.0, gamma=0.5, subsample=0.8; total time=13.6min\n",
      "[CV] END .....colsample_bytree=1.0, gamma=0.5, subsample=0.8; total time=13.5min\n"
     ]
    },
    {
     "name": "stderr",
     "output_type": "stream",
     "text": [
      "/root/miniconda3/lib/python3.10/site-packages/xgboost/core.py:729: UserWarning: [20:26:19] WARNING: /workspace/src/common/error_msg.cc:58: Falling back to prediction using DMatrix due to mismatched devices. This might lead to higher memory usage and slower performance. XGBoost is running on: cuda:0, while the input data is on: cpu.\n",
      "Potential solutions:\n",
      "- Use a data structure that matches the device ordinal in the booster.\n",
      "- Set the device for booster before call to inplace_predict.\n",
      "\n",
      "This warning will only be shown once.\n",
      "\n",
      "  return func(**kwargs)\n"
     ]
    },
    {
     "name": "stdout",
     "output_type": "stream",
     "text": [
      "[CV] END .....colsample_bytree=1.0, gamma=0.5, subsample=1.0; total time= 5.2min\n",
      "[CV] END .....colsample_bytree=1.0, gamma=0.5, subsample=1.0; total time= 4.8min\n",
      "[CV] END .....colsample_bytree=1.0, gamma=0.5, subsample=1.0; total time= 4.1min\n"
     ]
    },
    {
     "name": "stderr",
     "output_type": "stream",
     "text": [
      "/root/miniconda3/lib/python3.10/site-packages/xgboost/core.py:729: UserWarning: [20:26:31] WARNING: /workspace/src/common/error_msg.cc:58: Falling back to prediction using DMatrix due to mismatched devices. This might lead to higher memory usage and slower performance. XGBoost is running on: cuda:0, while the input data is on: cpu.\n",
      "Potential solutions:\n",
      "- Use a data structure that matches the device ordinal in the booster.\n",
      "- Set the device for booster before call to inplace_predict.\n",
      "\n",
      "This warning will only be shown once.\n",
      "\n",
      "  return func(**kwargs)\n"
     ]
    },
    {
     "name": "stdout",
     "output_type": "stream",
     "text": [
      "[CV] END .....colsample_bytree=1.0, gamma=0.5, subsample=1.0; total time= 3.4min\n",
      "Stage 3 best parameters: {'colsample_bytree': 0.8, 'gamma': 0, 'subsample': 0.6}\n",
      "\n",
      "=== Stage 4 Hyperparameter Tuning ===\n",
      "Fitting 5 folds for each of 9 candidates, totalling 45 fits\n",
      "[CV] END ........................reg_alpha=0.5, reg_lambda=1; total time=21.8min\n",
      "[CV] END ..........................reg_alpha=0, reg_lambda=1; total time=21.8min\n"
     ]
    },
    {
     "name": "stderr",
     "output_type": "stream",
     "text": [
      "/root/miniconda3/lib/python3.10/site-packages/joblib/externals/loky/process_executor.py:752: UserWarning: A worker stopped while some jobs were given to the executor. This can be caused by a too short worker timeout or by a memory leak.\n",
      "  warnings.warn(\n"
     ]
    },
    {
     "name": "stdout",
     "output_type": "stream",
     "text": [
      "[CV] END ..........................reg_alpha=0, reg_lambda=1; total time=21.9min\n",
      "[CV] END ..........................reg_alpha=0, reg_lambda=1; total time=21.9min\n",
      "[CV] END ..........................reg_alpha=0, reg_lambda=1; total time=21.9min\n",
      "[CV] END ..........................reg_alpha=0, reg_lambda=1; total time=21.9min\n",
      "[CV] END ..........................reg_alpha=0, reg_lambda=5; total time=23.6min\n",
      "[CV] END ..........................reg_alpha=0, reg_lambda=5; total time=23.7min\n",
      "[CV] END ..........................reg_alpha=0, reg_lambda=5; total time=23.7min\n",
      "[CV] END ..........................reg_alpha=0, reg_lambda=5; total time=23.7min\n",
      "[CV] END ..........................reg_alpha=0, reg_lambda=5; total time=23.7min\n",
      "[CV] END .........................reg_alpha=0, reg_lambda=10; total time=24.7min\n",
      "[CV] END .........................reg_alpha=0, reg_lambda=10; total time=24.7min\n",
      "[CV] END .........................reg_alpha=0, reg_lambda=10; total time=24.7min\n",
      "[CV] END .........................reg_alpha=0, reg_lambda=10; total time=24.7min\n",
      "[CV] END .........................reg_alpha=0, reg_lambda=10; total time=24.7min\n"
     ]
    },
    {
     "name": "stderr",
     "output_type": "stream",
     "text": [
      "/root/miniconda3/lib/python3.10/site-packages/xgboost/core.py:729: UserWarning: [21:11:11] WARNING: /workspace/src/common/error_msg.cc:58: Falling back to prediction using DMatrix due to mismatched devices. This might lead to higher memory usage and slower performance. XGBoost is running on: cuda:0, while the input data is on: cpu.\n",
      "Potential solutions:\n",
      "- Use a data structure that matches the device ordinal in the booster.\n",
      "- Set the device for booster before call to inplace_predict.\n",
      "\n",
      "This warning will only be shown once.\n",
      "\n",
      "  return func(**kwargs)\n"
     ]
    },
    {
     "name": "stdout",
     "output_type": "stream",
     "text": [
      "[CV] END ........................reg_alpha=0.5, reg_lambda=1; total time=22.0min\n"
     ]
    },
    {
     "name": "stderr",
     "output_type": "stream",
     "text": [
      "/root/miniconda3/lib/python3.10/site-packages/xgboost/core.py:729: UserWarning: [21:11:13] WARNING: /workspace/src/common/error_msg.cc:58: Falling back to prediction using DMatrix due to mismatched devices. This might lead to higher memory usage and slower performance. XGBoost is running on: cuda:0, while the input data is on: cpu.\n",
      "Potential solutions:\n",
      "- Use a data structure that matches the device ordinal in the booster.\n",
      "- Set the device for booster before call to inplace_predict.\n",
      "\n",
      "This warning will only be shown once.\n",
      "\n",
      "  return func(**kwargs)\n"
     ]
    },
    {
     "name": "stdout",
     "output_type": "stream",
     "text": [
      "[CV] END ........................reg_alpha=0.5, reg_lambda=1; total time=22.1min\n",
      "[CV] END ........................reg_alpha=0.5, reg_lambda=1; total time=22.0min\n"
     ]
    },
    {
     "name": "stderr",
     "output_type": "stream",
     "text": [
      "/root/miniconda3/lib/python3.10/site-packages/xgboost/core.py:729: UserWarning: [21:11:18] WARNING: /workspace/src/common/error_msg.cc:58: Falling back to prediction using DMatrix due to mismatched devices. This might lead to higher memory usage and slower performance. XGBoost is running on: cuda:0, while the input data is on: cpu.\n",
      "Potential solutions:\n",
      "- Use a data structure that matches the device ordinal in the booster.\n",
      "- Set the device for booster before call to inplace_predict.\n",
      "\n",
      "This warning will only be shown once.\n",
      "\n",
      "  return func(**kwargs)\n"
     ]
    },
    {
     "name": "stdout",
     "output_type": "stream",
     "text": [
      "[CV] END ........................reg_alpha=0.5, reg_lambda=1; total time=22.1min\n"
     ]
    },
    {
     "name": "stderr",
     "output_type": "stream",
     "text": [
      "/root/miniconda3/lib/python3.10/site-packages/xgboost/core.py:729: UserWarning: [21:13:02] WARNING: /workspace/src/common/error_msg.cc:58: Falling back to prediction using DMatrix due to mismatched devices. This might lead to higher memory usage and slower performance. XGBoost is running on: cuda:0, while the input data is on: cpu.\n",
      "Potential solutions:\n",
      "- Use a data structure that matches the device ordinal in the booster.\n",
      "- Set the device for booster before call to inplace_predict.\n",
      "\n",
      "This warning will only be shown once.\n",
      "\n",
      "  return func(**kwargs)\n",
      "/root/miniconda3/lib/python3.10/site-packages/xgboost/core.py:729: UserWarning: [21:13:02] WARNING: /workspace/src/common/error_msg.cc:58: Falling back to prediction using DMatrix due to mismatched devices. This might lead to higher memory usage and slower performance. XGBoost is running on: cuda:0, while the input data is on: cpu.\n",
      "Potential solutions:\n",
      "- Use a data structure that matches the device ordinal in the booster.\n",
      "- Set the device for booster before call to inplace_predict.\n",
      "\n",
      "This warning will only be shown once.\n",
      "\n",
      "  return func(**kwargs)\n"
     ]
    },
    {
     "name": "stdout",
     "output_type": "stream",
     "text": [
      "[CV] END ..........................reg_alpha=1, reg_lambda=1; total time=20.9min\n",
      "[CV] END ..........................reg_alpha=1, reg_lambda=1; total time=20.9min\n"
     ]
    },
    {
     "name": "stderr",
     "output_type": "stream",
     "text": [
      "/root/miniconda3/lib/python3.10/site-packages/xgboost/core.py:729: UserWarning: [21:13:30] WARNING: /workspace/src/common/error_msg.cc:58: Falling back to prediction using DMatrix due to mismatched devices. This might lead to higher memory usage and slower performance. XGBoost is running on: cuda:0, while the input data is on: cpu.\n",
      "Potential solutions:\n",
      "- Use a data structure that matches the device ordinal in the booster.\n",
      "- Set the device for booster before call to inplace_predict.\n",
      "\n",
      "This warning will only be shown once.\n",
      "\n",
      "  return func(**kwargs)\n",
      "/root/miniconda3/lib/python3.10/site-packages/xgboost/core.py:729: UserWarning: [21:13:30] WARNING: /workspace/src/common/error_msg.cc:58: Falling back to prediction using DMatrix due to mismatched devices. This might lead to higher memory usage and slower performance. XGBoost is running on: cuda:0, while the input data is on: cpu.\n",
      "Potential solutions:\n",
      "- Use a data structure that matches the device ordinal in the booster.\n",
      "- Set the device for booster before call to inplace_predict.\n",
      "\n",
      "This warning will only be shown once.\n",
      "\n",
      "  return func(**kwargs)\n"
     ]
    },
    {
     "name": "stdout",
     "output_type": "stream",
     "text": [
      "[CV] END ........................reg_alpha=0.5, reg_lambda=5; total time=24.2min\n",
      "[CV] END ........................reg_alpha=0.5, reg_lambda=5; total time=24.3min\n"
     ]
    },
    {
     "name": "stderr",
     "output_type": "stream",
     "text": [
      "/root/miniconda3/lib/python3.10/site-packages/xgboost/core.py:729: UserWarning: [21:15:19] WARNING: /workspace/src/common/error_msg.cc:58: Falling back to prediction using DMatrix due to mismatched devices. This might lead to higher memory usage and slower performance. XGBoost is running on: cuda:0, while the input data is on: cpu.\n",
      "Potential solutions:\n",
      "- Use a data structure that matches the device ordinal in the booster.\n",
      "- Set the device for booster before call to inplace_predict.\n",
      "\n",
      "This warning will only be shown once.\n",
      "\n",
      "  return func(**kwargs)\n"
     ]
    },
    {
     "name": "stdout",
     "output_type": "stream",
     "text": [
      "[CV] END ........................reg_alpha=0.5, reg_lambda=5; total time=24.3min\n"
     ]
    },
    {
     "name": "stderr",
     "output_type": "stream",
     "text": [
      "/root/miniconda3/lib/python3.10/site-packages/xgboost/core.py:729: UserWarning: [21:15:21] WARNING: /workspace/src/common/error_msg.cc:58: Falling back to prediction using DMatrix due to mismatched devices. This might lead to higher memory usage and slower performance. XGBoost is running on: cuda:0, while the input data is on: cpu.\n",
      "Potential solutions:\n",
      "- Use a data structure that matches the device ordinal in the booster.\n",
      "- Set the device for booster before call to inplace_predict.\n",
      "\n",
      "This warning will only be shown once.\n",
      "\n",
      "  return func(**kwargs)\n"
     ]
    },
    {
     "name": "stdout",
     "output_type": "stream",
     "text": [
      "[CV] END ........................reg_alpha=0.5, reg_lambda=5; total time=24.3min\n"
     ]
    },
    {
     "name": "stderr",
     "output_type": "stream",
     "text": [
      "/root/miniconda3/lib/python3.10/site-packages/xgboost/core.py:729: UserWarning: [21:15:22] WARNING: /workspace/src/common/error_msg.cc:58: Falling back to prediction using DMatrix due to mismatched devices. This might lead to higher memory usage and slower performance. XGBoost is running on: cuda:0, while the input data is on: cpu.\n",
      "Potential solutions:\n",
      "- Use a data structure that matches the device ordinal in the booster.\n",
      "- Set the device for booster before call to inplace_predict.\n",
      "\n",
      "This warning will only be shown once.\n",
      "\n",
      "  return func(**kwargs)\n"
     ]
    },
    {
     "name": "stdout",
     "output_type": "stream",
     "text": [
      "[CV] END ........................reg_alpha=0.5, reg_lambda=5; total time=24.3min\n"
     ]
    },
    {
     "name": "stderr",
     "output_type": "stream",
     "text": [
      "/root/miniconda3/lib/python3.10/site-packages/xgboost/core.py:729: UserWarning: [21:16:39] WARNING: /workspace/src/common/error_msg.cc:58: Falling back to prediction using DMatrix due to mismatched devices. This might lead to higher memory usage and slower performance. XGBoost is running on: cuda:0, while the input data is on: cpu.\n",
      "Potential solutions:\n",
      "- Use a data structure that matches the device ordinal in the booster.\n",
      "- Set the device for booster before call to inplace_predict.\n",
      "\n",
      "This warning will only be shown once.\n",
      "\n",
      "  return func(**kwargs)\n"
     ]
    },
    {
     "name": "stdout",
     "output_type": "stream",
     "text": [
      "[CV] END .......................reg_alpha=0.5, reg_lambda=10; total time=25.6min\n"
     ]
    },
    {
     "name": "stderr",
     "output_type": "stream",
     "text": [
      "/root/miniconda3/lib/python3.10/site-packages/xgboost/core.py:729: UserWarning: [21:16:40] WARNING: /workspace/src/common/error_msg.cc:58: Falling back to prediction using DMatrix due to mismatched devices. This might lead to higher memory usage and slower performance. XGBoost is running on: cuda:0, while the input data is on: cpu.\n",
      "Potential solutions:\n",
      "- Use a data structure that matches the device ordinal in the booster.\n",
      "- Set the device for booster before call to inplace_predict.\n",
      "\n",
      "This warning will only be shown once.\n",
      "\n",
      "  return func(**kwargs)\n"
     ]
    },
    {
     "name": "stdout",
     "output_type": "stream",
     "text": [
      "[CV] END .......................reg_alpha=0.5, reg_lambda=10; total time=25.6min\n",
      "[CV] END .......................reg_alpha=0.5, reg_lambda=10; total time=25.6min\n"
     ]
    },
    {
     "name": "stderr",
     "output_type": "stream",
     "text": [
      "/root/miniconda3/lib/python3.10/site-packages/xgboost/core.py:729: UserWarning: [21:17:40] WARNING: /workspace/src/common/error_msg.cc:58: Falling back to prediction using DMatrix due to mismatched devices. This might lead to higher memory usage and slower performance. XGBoost is running on: cuda:0, while the input data is on: cpu.\n",
      "Potential solutions:\n",
      "- Use a data structure that matches the device ordinal in the booster.\n",
      "- Set the device for booster before call to inplace_predict.\n",
      "\n",
      "This warning will only be shown once.\n",
      "\n",
      "  return func(**kwargs)\n"
     ]
    },
    {
     "name": "stdout",
     "output_type": "stream",
     "text": [
      "[CV] END .......................reg_alpha=0.5, reg_lambda=10; total time=25.6min\n"
     ]
    },
    {
     "name": "stderr",
     "output_type": "stream",
     "text": [
      "/root/miniconda3/lib/python3.10/site-packages/xgboost/core.py:729: UserWarning: [21:17:41] WARNING: /workspace/src/common/error_msg.cc:58: Falling back to prediction using DMatrix due to mismatched devices. This might lead to higher memory usage and slower performance. XGBoost is running on: cuda:0, while the input data is on: cpu.\n",
      "Potential solutions:\n",
      "- Use a data structure that matches the device ordinal in the booster.\n",
      "- Set the device for booster before call to inplace_predict.\n",
      "\n",
      "This warning will only be shown once.\n",
      "\n",
      "  return func(**kwargs)\n"
     ]
    },
    {
     "name": "stdout",
     "output_type": "stream",
     "text": [
      "[CV] END .......................reg_alpha=0.5, reg_lambda=10; total time=25.6min\n",
      "[CV] END ..........................reg_alpha=1, reg_lambda=1; total time=18.1min\n",
      "[CV] END ..........................reg_alpha=1, reg_lambda=1; total time=18.1min\n",
      "[CV] END ..........................reg_alpha=1, reg_lambda=1; total time=18.1min\n",
      "[CV] END ..........................reg_alpha=1, reg_lambda=5; total time=19.1min\n",
      "[CV] END ..........................reg_alpha=1, reg_lambda=5; total time=18.3min\n",
      "[CV] END ..........................reg_alpha=1, reg_lambda=5; total time=18.3min\n",
      "[CV] END ..........................reg_alpha=1, reg_lambda=5; total time=18.0min\n",
      "[CV] END ..........................reg_alpha=1, reg_lambda=5; total time=18.0min\n",
      "[CV] END .........................reg_alpha=1, reg_lambda=10; total time=17.1min\n",
      "[CV] END .........................reg_alpha=1, reg_lambda=10; total time=17.1min\n",
      "[CV] END .........................reg_alpha=1, reg_lambda=10; total time=17.1min\n",
      "[CV] END .........................reg_alpha=1, reg_lambda=10; total time=15.9min\n",
      "[CV] END .........................reg_alpha=1, reg_lambda=10; total time=15.9min\n",
      "Stage 4 best parameters: {'reg_alpha': 0, 'reg_lambda': 1}\n",
      "\n",
      "Four-stage cumulative optimal parameters:  {'learning_rate': 0.05, 'n_estimators': 1000, 'max_depth': 6, 'min_child_weight': 1, 'colsample_bytree': 0.8, 'gamma': 0, 'subsample': 0.6, 'reg_alpha': 0, 'reg_lambda': 1}\n",
      "\n",
      "=== Validation Set Evaluation ===\n",
      "              precision    recall  f1-score   support\n",
      "\n",
      "           0       0.00      0.00      0.00         3\n",
      "           1       0.00      0.00      0.00         1\n",
      "           2       0.00      0.00      0.00         1\n",
      "           3       0.45      0.45      0.45        11\n",
      "           4       0.58      0.49      0.53        39\n",
      "           5       0.91      0.96      0.93       718\n",
      "           6       0.91      0.97      0.93        89\n",
      "           7       0.67      0.42      0.52        19\n",
      "           8       0.72      0.79      0.75        87\n",
      "           9       0.00      0.00      0.00         4\n",
      "          10       0.72      0.79      0.75       173\n",
      "          11       0.62      0.71      0.67        14\n",
      "          12       0.52      0.68      0.59        80\n",
      "          13       0.00      0.00      0.00        10\n",
      "          14       0.25      0.07      0.11        43\n",
      "          15       0.50      0.50      0.50         4\n",
      "          16       0.00      0.00      0.00         1\n",
      "          17       0.85      0.76      0.80        58\n",
      "          18       0.50      0.10      0.17        10\n",
      "          19       0.56      0.52      0.54        29\n",
      "          20       0.87      0.52      0.65        25\n",
      "          21       0.75      0.61      0.68        44\n",
      "          22       1.00      1.00      1.00         1\n",
      "          23       0.80      0.57      0.67         7\n",
      "          24       0.47      0.58      0.52        64\n",
      "          25       0.41      0.38      0.39        34\n",
      "          26       0.46      0.38      0.41        45\n",
      "          27       0.74      0.74      0.74        19\n",
      "\n",
      "    accuracy                           0.77      1633\n",
      "   macro avg       0.51      0.46      0.47      1633\n",
      "weighted avg       0.76      0.77      0.76      1633\n",
      "\n",
      "F1 Macro:    0.4749\n",
      "F1 Weighted: 0.7608\n",
      "Accuracy:    0.7746\n",
      "Log Loss:    0.8563\n"
     ]
    }
   ],
   "source": [
    "# === 1. 数据准备 ===\n",
    "# 假设 X_train_ftest、y_train_sub 已经定义并且为 pandas.DataFrame/Series\n",
    "X_train_fs = X_train_fisher.copy()  # Fisher-Score 选择后的特征子集\n",
    "\n",
    "# 离群值裁剪\n",
    "X_train_clean = winsorize_iqr(X_train_fs)\n",
    "\n",
    "# 缩放\n",
    "scaler = RobustScaler()\n",
    "X_scaled = scaler.fit_transform(X_train_clean)\n",
    "\n",
    "# 划分子训练集和验证集（验证集用于最终评估）\n",
    "X_subtrain, X_val, y_subtrain, y_val = train_test_split(\n",
    "    X_scaled,\n",
    "    y_train_sub,\n",
    "    test_size=0.2,\n",
    "    stratify=y_train_sub,\n",
    "    random_state=42\n",
    ")\n",
    "\n",
    "# 对子训练集做 SMOTE 过采样\n",
    "smote = SMOTE(random_state=42, k_neighbors=3)\n",
    "X_subtrain_res, y_subtrain_res = smote.fit_resample(X_subtrain, y_subtrain.values.ravel())\n",
    "\n",
    "# === 2. 定义基础模型和交叉验证方案 ===\n",
    "base_model = XGBClassifier(\n",
    "    objective='multi:softprob',\n",
    "    num_class=28,\n",
    "    eval_metric='mlogloss',\n",
    "    tree_method='hist',\n",
    "    device='cuda',\n",
    "    random_state=42\n",
    ")\n",
    "cv = StratifiedKFold(n_splits=5, shuffle=True, random_state=42)\n",
    "\n",
    "# === 3. 四个阶段的参数网格列表 ===\n",
    "param_grids = [\n",
    "    # 第一阶段：学习率 + 基学习器数\n",
    "    {\n",
    "        'n_estimators': [100, 300, 500, 700, 1000],\n",
    "        'learning_rate': [0.01, 0.05, 0.1, 0.3]\n",
    "    },\n",
    "    # 第二阶段：树深度 + 最小叶子权重\n",
    "    {\n",
    "        'max_depth': [3, 6, 10],\n",
    "        'min_child_weight': [1, 3, 5]\n",
    "    },\n",
    "    # 第三阶段：样本采样比例 + 特征采样比例 + gamma\n",
    "    {\n",
    "        'subsample': [0.6, 0.8, 1.0],\n",
    "        'colsample_bytree': [0.6, 0.8, 1.0],\n",
    "        'gamma': [0, 0.1, 0.3, 0.5]\n",
    "    },\n",
    "    # 第四阶段：L1/L2 正则\n",
    "    {\n",
    "        'reg_alpha': [0, 0.5, 1],\n",
    "        'reg_lambda': [1, 5, 10]\n",
    "    }\n",
    "]\n",
    "\n",
    "# 用于累积各阶段的最优参数\n",
    "best_params = {}\n",
    "\n",
    "# === 4. 分阶段循环 GridSearchCV ===\n",
    "for stage, grid_params in enumerate(param_grids, start=1):\n",
    "    print(f\"\\n=== Stage {stage} Hyperparameter Tuning ===\")\n",
    "    # 将前面阶段的最优参数 set 给模型\n",
    "    model = base_model.set_params(**best_params)\n",
    "    # 构建并运行 GridSearchCV\n",
    "    gs = GridSearchCV(\n",
    "        estimator=model,\n",
    "        param_grid=grid_params,\n",
    "        scoring='f1_weighted',\n",
    "        cv=cv,\n",
    "        refit=True,\n",
    "        verbose=2,\n",
    "        n_jobs=-1\n",
    "    )\n",
    "    gs.fit(X_subtrain_res, y_subtrain_res)\n",
    "    # 打印并累积最优参数\n",
    "    print(f\"Stage {stage} best parameters: {gs.best_params_}\")\n",
    "    best_params.update(gs.best_params_)\n",
    "\n",
    "print(\"\\nFour-stage cumulative optimal parameters: \", best_params)\n",
    "\n",
    "# === 5. 用累计的最优参数训练最终模型 ===\n",
    "final_model = base_model.set_params(**best_params)\n",
    "final_model.fit(X_subtrain_res, y_subtrain_res)\n",
    "\n",
    "# === 6. 在验证集上评估 ===\n",
    "# 对验证集做相同的预处理\n",
    "X_val_df    = pd.DataFrame(X_val, columns=X_train_fs.columns)\n",
    "X_val_clean = winsorize_iqr(X_val_df)\n",
    "X_val_scaled= scaler.transform(X_val_clean)\n",
    "\n",
    "y_val_pred  = final_model.predict(X_val_scaled)\n",
    "y_val_proba = final_model.predict_proba(X_val_scaled)\n",
    "\n",
    "print(\"\\n=== Validation Set Evaluation ===\")\n",
    "print(classification_report(y_val, y_val_pred, zero_division=0))\n",
    "print(f\"F1 Macro:    {f1_score(y_val, y_val_pred, average='macro'):.4f}\")\n",
    "print(f\"F1 Weighted: {f1_score(y_val, y_val_pred, average='weighted'):.4f}\")\n",
    "print(f\"Accuracy:    {accuracy_score(y_val, y_val_pred):.4f}\")\n",
    "print(f\"Log Loss:    {log_loss(y_val, y_val_proba):.4f}\")"
   ]
  },
  {
   "cell_type": "code",
   "execution_count": null,
   "id": "aa787d0f",
   "metadata": {},
   "outputs": [
    {
     "name": "stdout",
     "output_type": "stream",
     "text": [
      "\n",
      "=== Validation Set Evaluation ===\n",
      "              precision    recall  f1-score   support\n",
      "\n",
      "           0       0.00      0.00      0.00         4\n",
      "           1       0.00      0.00      0.00         1\n",
      "           2       0.00      0.00      0.00         2\n",
      "           3       0.60      0.46      0.52        13\n",
      "           4       0.51      0.53      0.52        49\n",
      "           5       0.90      0.96      0.93       898\n",
      "           6       0.89      0.95      0.92       111\n",
      "           7       0.62      0.42      0.50        24\n",
      "           8       0.70      0.81      0.75       109\n",
      "           9       0.00      0.00      0.00         6\n",
      "          10       0.76      0.86      0.81       217\n",
      "          11       0.72      0.76      0.74        17\n",
      "          12       0.54      0.63      0.58       100\n",
      "          13       0.50      0.08      0.13        13\n",
      "          14       0.05      0.02      0.03        54\n",
      "          15       1.00      0.60      0.75         5\n",
      "          16       0.00      0.00      0.00         1\n",
      "          17       0.77      0.67      0.72        73\n",
      "          18       0.83      0.42      0.56        12\n",
      "          19       0.76      0.53      0.62        36\n",
      "          20       0.43      0.39      0.41        31\n",
      "          21       0.80      0.67      0.73        55\n",
      "          22       0.00      0.00      0.00         1\n",
      "          23       0.80      0.50      0.62         8\n",
      "          24       0.57      0.49      0.52        80\n",
      "          25       0.41      0.45      0.43        42\n",
      "          26       0.55      0.50      0.52        56\n",
      "          27       0.86      0.83      0.84        23\n",
      "\n",
      "    accuracy                           0.78      2041\n",
      "   macro avg       0.52      0.45      0.47      2041\n",
      "weighted avg       0.76      0.78      0.77      2041\n",
      "\n",
      "Accuracy:    0.7815\n",
      "F1 Macro:    0.4698\n",
      "F1 Weighted: 0.7662\n",
      "Log Loss:    0.8586\n",
      "Weighted Log Loss: 0.0081\n"
     ]
    },
    {
     "data": {
      "image/png": "[encoded data removed]",
      "text/plain": [
       "<Figure size 1000x800 with 2 Axes>"
      ]
     },
     "metadata": {},
     "output_type": "display_data"
    }
   ],
   "source": [
    "# === 1. IQR 离群值裁剪 ===\n",
    "def winsorize_iqr(df, lower=1.5, upper=1.5):\n",
    "    df_capped = df.copy()\n",
    "    for col in df.columns:\n",
    "        Q1 = df[col].quantile(0.25)\n",
    "        Q3 = df[col].quantile(0.75)\n",
    "        IQR = Q3 - Q1\n",
    "        df_capped[col] = df[col].clip(\n",
    "            lower=Q1 - lower * IQR,\n",
    "            upper=Q3 + upper * IQR\n",
    "        )\n",
    "    return df_capped\n",
    "\n",
    "# === 2. 加权 Log Loss ===\n",
    "def weighted_log_loss(y_true, y_pred_proba):\n",
    "    class_counts  = np.sum(y_true, axis=0)\n",
    "    class_weights = 1.0 / (class_counts + 1e-8)\n",
    "    class_weights /= np.sum(class_weights)\n",
    "    sample_w      = np.sum(y_true * class_weights, axis=1)\n",
    "    sample_losses = -np.sum(y_true * np.log(y_pred_proba + 1e-8), axis=1)\n",
    "    return np.mean(sample_w * sample_losses)\n",
    "\n",
    "# === 3. 假定已在环境中定义：\n",
    "#    X_train_fisher (pd.DataFrame), X_val_fisher (pd.DataFrame),\n",
    "#    y_train_sub (pd.Series or np.array), y_val (pd.Series or np.array)\n",
    "\n",
    "# === 4. 预处理：IQR + RobustScaler ===\n",
    "X_tr_iqr    = winsorize_iqr(X_train_fisher)\n",
    "X_val_iqr   = winsorize_iqr(X_val_fisher)\n",
    "\n",
    "scaler      = RobustScaler().fit(X_tr_iqr)\n",
    "X_tr_scaled = scaler.transform(X_tr_iqr)\n",
    "X_val_scaled= scaler.transform(X_val_iqr)\n",
    "\n",
    "# === 5. SMOTE 过采样（仅对训练集） ===\n",
    "smote             = SMOTE(random_state=42, k_neighbors=3)\n",
    "X_tr_res, y_tr_res = smote.fit_resample(\n",
    "    X_tr_scaled,\n",
    "    y_train_sub.values.ravel()   # 或者 y_train_sub.to_numpy().ravel()\n",
    ")\n",
    "\n",
    "# === 6. 定义并训练最终 XGBoost 模型 ===\n",
    "final_model = XGBClassifier(\n",
    "    objective='multi:softprob',\n",
    "    num_class=28,\n",
    "    eval_metric='mlogloss',\n",
    "    tree_method='hist',\n",
    "    device='cuda',\n",
    "    random_state=42,\n",
    "    n_estimators=1000,\n",
    "    learning_rate=0.05,\n",
    "    max_depth=6,\n",
    "    min_child_weight=1,\n",
    "    colsample_bytree=0.8,\n",
    "    subsample=0.6,\n",
    "    gamma=0,\n",
    "    reg_alpha=0,\n",
    "    reg_lambda=1\n",
    ")\n",
    "final_model.fit(X_tr_res, y_tr_res)\n",
    "\n",
    "# === 7. 验证集评估 ===\n",
    "y_pred   = final_model.predict(X_val_scaled)\n",
    "y_proba  = final_model.predict_proba(X_val_scaled)\n",
    "\n",
    "print(\"\\n=== Validation Set Evaluation ===\")\n",
    "print(classification_report(y_val, y_pred, zero_division=0))\n",
    "print(f\"Accuracy:    {accuracy_score(y_val, y_pred):.4f}\")\n",
    "print(f\"F1 Macro:    {f1_score(y_val, y_pred, average='macro'):.4f}\")\n",
    "print(f\"F1 Weighted: {f1_score(y_val, y_pred, average='weighted'):.4f}\")\n",
    "print(f\"Log Loss:    {log_loss(y_val, y_proba):.4f}\")\n",
    "\n",
    "# === 8. 加权 Log Loss ===\n",
    "lb = LabelBinarizer().fit(range(final_model.n_classes_))\n",
    "y_val_onehot = lb.transform(y_val)\n",
    "if y_val_onehot.shape[1] == 1:\n",
    "    y_val_onehot = np.hstack([1 - y_val_onehot, y_val_onehot])\n",
    "\n",
    "print(f\"Weighted Log Loss: {weighted_log_loss(y_val_onehot, y_proba):.4f}\")\n",
    "\n",
    "# === 9. 绘制混淆矩阵 ===\n",
    "cm = confusion_matrix(y_val, y_pred)\n",
    "plt.figure(figsize=(10,8))\n",
    "sns.heatmap(cm, annot=True, fmt='d', cmap='Blues')\n",
    "plt.xlabel('Predicted')\n",
    "plt.ylabel('True')\n",
    "plt.title('Confusion Matrix')\n",
    "plt.tight_layout()\n",
    "plt.show()\n",
    "\n",
    "# === 10. 保存模型 ===\n",
    "final_model.save_model('final_model_2.json')"
   ]
  },
  {
   "cell_type": "code",
   "execution_count": 11,
   "id": "773447f8",
   "metadata": {},
   "outputs": [
    {
     "name": "stdout",
     "output_type": "stream",
     "text": [
      "\n",
      "=== Final Model Evaluation ===\n",
      "              precision    recall  f1-score   support\n",
      "\n",
      "           0       0.00      0.00      0.00         4\n",
      "           1       0.00      0.00      0.00         1\n",
      "           2       0.00      0.00      0.00         2\n",
      "           3       0.50      0.31      0.38        13\n",
      "           4       0.52      0.57      0.54        49\n",
      "           5       0.90      0.96      0.93       898\n",
      "           6       0.89      0.95      0.92       111\n",
      "           7       0.59      0.42      0.49        24\n",
      "           8       0.72      0.82      0.77       109\n",
      "           9       0.00      0.00      0.00         6\n",
      "          10       0.77      0.86      0.81       217\n",
      "          11       0.75      0.71      0.73        17\n",
      "          12       0.52      0.61      0.56       100\n",
      "          13       1.00      0.08      0.14        13\n",
      "          14       0.11      0.04      0.06        54\n",
      "          15       0.80      0.80      0.80         5\n",
      "          16       0.00      0.00      0.00         1\n",
      "          17       0.78      0.68      0.73        73\n",
      "          18       0.71      0.42      0.53        12\n",
      "          19       0.60      0.50      0.55        36\n",
      "          20       0.45      0.42      0.43        31\n",
      "          21       0.79      0.67      0.73        55\n",
      "          22       0.00      0.00      0.00         1\n",
      "          23       0.60      0.38      0.46         8\n",
      "          24       0.62      0.51      0.56        80\n",
      "          25       0.44      0.48      0.46        42\n",
      "          26       0.57      0.55      0.56        56\n",
      "          27       0.87      0.87      0.87        23\n",
      "\n",
      "    accuracy                           0.78      2041\n",
      "   macro avg       0.52      0.45      0.46      2041\n",
      "weighted avg       0.76      0.78      0.77      2041\n",
      "\n",
      "Accuracy:    0.7849\n",
      "F1 Macro:    0.4645\n",
      "F1 Weighted: 0.7697\n",
      "Log Loss:    0.8094\n",
      "Weighted Log Loss: 0.0073\n"
     ]
    },
    {
     "data": {
      "image/png": "[encoded data removed]",
      "text/plain": [
       "<Figure size 1000x800 with 2 Axes>"
      ]
     },
     "metadata": {},
     "output_type": "display_data"
    }
   ],
   "source": [
    "# === 已定义：winsorize_iqr, weighted_log_loss,\n",
    "#    X_train_fisher, X_val_fisher, y_train_sub, y_val ===\n",
    "\n",
    "# 1. 预处理：IQR + 缩放\n",
    "X_tr_iqr    = winsorize_iqr(X_train_fisher)\n",
    "X_val_iqr   = winsorize_iqr(X_val_fisher)\n",
    "\n",
    "scaler      = RobustScaler().fit(X_tr_iqr)\n",
    "X_tr_scaled = scaler.transform(X_tr_iqr)\n",
    "X_val_scaled= scaler.transform(X_val_iqr)\n",
    "\n",
    "# 2. SMOTE 过采样\n",
    "smote             = SMOTE(random_state=42, k_neighbors=3)\n",
    "X_tr_res, y_tr_res = smote.fit_resample(\n",
    "    X_tr_scaled,\n",
    "    y_train_sub.values.ravel()\n",
    ")\n",
    "\n",
    "# 3. 协变量偏移：训练领域分类器\n",
    "X_domain = np.vstack([X_tr_scaled, X_val_scaled])\n",
    "y_domain = np.array([0]*len(X_tr_scaled) + [1]*len(X_val_scaled))\n",
    "domain_clf = LogisticRegression(max_iter=1000).fit(X_domain, y_domain)\n",
    "\n",
    "# 在 resampled 训练集上估计权重\n",
    "p_test  = domain_clf.predict_proba(X_tr_res)[:,1]\n",
    "p_train = 1 - p_test\n",
    "importance_weights = p_test / (p_train + 1e-6)\n",
    "\n",
    "# 4. 用协变量偏移权重和原标签训练初始模型\n",
    "best_params = {\n",
    "    'objective':'multi:softprob','num_class':28,'eval_metric':'mlogloss',\n",
    "    'tree_method':'hist','device':'cuda','random_state':42,\n",
    "    'n_estimators':1000,'learning_rate':0.05,'max_depth':6,\n",
    "    'min_child_weight':1,'colsample_bytree':0.8,\n",
    "    'subsample':0.6,'gamma':0,'reg_alpha':0,'reg_lambda':1\n",
    "}\n",
    "model_cov = XGBClassifier(**best_params)\n",
    "model_cov.fit(X_tr_res, y_tr_res, sample_weight=importance_weights)\n",
    "\n",
    "# 5. 标签偏移：估计混淆矩阵 & 测试先验\n",
    "def estimate_confusion_matrix(model, X, y, num_classes):\n",
    "    pred = model.predict(X)\n",
    "    cm   = confusion_matrix(y, pred, labels=range(num_classes))\n",
    "    cm_n = cm / cm.sum(axis=1, keepdims=True)\n",
    "    return np.nan_to_num(cm_n).T\n",
    "\n",
    "# 划分一小部分训练集作“基准”验证\n",
    "from sklearn.model_selection import train_test_split\n",
    "X_base, X_unused, y_base, y_unused = train_test_split(\n",
    "    X_tr_res, y_tr_res, test_size=0.8,\n",
    "    stratify=y_tr_res, random_state=42\n",
    ")\n",
    "\n",
    "C_T          = estimate_confusion_matrix(model_cov, X_base, y_base, 28)\n",
    "avg_test_pred= model_cov.predict_proba(X_val_scaled).mean(axis=0)\n",
    "q_test       = np.linalg.lstsq(C_T, avg_test_pred, rcond=None)[0]\n",
    "q_test       = np.clip(q_test, 0, 1)\n",
    "q_test      /= q_test.sum()\n",
    "\n",
    "train_prior  = pd.Series(y_tr_res).value_counts(normalize=True).sort_index().values\n",
    "\n",
    "# 6. 调整训练标签\n",
    "def adjust_labels(model, X, test_priors, train_priors):\n",
    "    proba = model.predict_proba(X)\n",
    "    ratio = test_priors / (train_priors + 1e-8)\n",
    "    adj   = proba * ratio[np.newaxis,:]\n",
    "    adj  /= adj.sum(axis=1, keepdims=True)\n",
    "    return np.argmax(adj, axis=1)\n",
    "\n",
    "y_tr_adjusted = adjust_labels(model_cov, X_tr_res, q_test, train_prior)\n",
    "\n",
    "# 7. 用协变量权重 + 调整后标签 训练最终模型\n",
    "model_final = XGBClassifier(**best_params)\n",
    "model_final.fit(X_tr_res, y_tr_adjusted, sample_weight=importance_weights)\n",
    "\n",
    "# 8. 在验证集上评估\n",
    "y_pred  = model_final.predict(X_val_scaled)\n",
    "y_proba = model_final.predict_proba(X_val_scaled)\n",
    "\n",
    "print(\"\\n=== Final Model Evaluation ===\")\n",
    "print(classification_report(y_val, y_pred, zero_division=0))\n",
    "print(f\"Accuracy:    {accuracy_score(y_val, y_pred):.4f}\")\n",
    "print(f\"F1 Macro:    {f1_score(y_val, y_pred, average='macro'):.4f}\")\n",
    "print(f\"F1 Weighted: {f1_score(y_val, y_pred, average='weighted'):.4f}\")\n",
    "print(f\"Log Loss:    {log_loss(y_val, y_proba):.4f}\")\n",
    "\n",
    "lb = LabelBinarizer().fit(range(model_final.n_classes_))\n",
    "y_val_oh = lb.transform(y_val)\n",
    "if y_val_oh.shape[1]==1:\n",
    "    y_val_oh = np.hstack([1-y_val_oh, y_val_oh])\n",
    "print(f\"Weighted Log Loss: {weighted_log_loss(y_val_oh, y_proba):.4f}\")\n",
    "\n",
    "cm = confusion_matrix(y_val, y_pred)\n",
    "\n",
    "plt.figure(figsize=(10, 8))\n",
    "sns.heatmap(cm, annot=True, fmt='d', cmap='Blues')\n",
    "plt.xlabel('Predicted')\n",
    "plt.ylabel('True')\n",
    "plt.title('Confusion Matrix - Final Model')\n",
    "plt.tight_layout()\n",
    "plt.show()\n",
    "\n",
    "# 9. 保存最终模型\n",
    "model_final.save_model('final_model_2.json')"
   ]
  }
 ],
 "metadata": {
  "kernelspec": {
   "display_name": "base",
   "language": "python",
   "name": "python3"
  },
  "language_info": {
   "codemirror_mode": {
    "name": "ipython",
    "version": 3
   },
   "file_extension": ".py",
   "mimetype": "text/x-python",
   "name": "python",
   "nbconvert_exporter": "python",
   "pygments_lexer": "ipython3",
   "version": "3.10.8"
  }
 },
 "nbformat": 4,
 "nbformat_minor": 5
}
